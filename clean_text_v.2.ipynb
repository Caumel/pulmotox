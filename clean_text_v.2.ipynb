{
 "cells": [
  {
   "cell_type": "code",
   "execution_count": null,
   "metadata": {},
   "outputs": [],
   "source": [
    "import sys\n",
    "import os\n",
    "sys.path.append('../')\n",
    "os.chdir('../')\n",
    "\n",
    "import pandas as pd\n",
    "import numpy as np\n",
    "import shutil\n",
    "from pathlib import Path\n",
    "from datetime import datetime\n",
    "import time\n",
    "import threading\n",
    "import json\n",
    "import requests\n",
    "import threading  \n",
    "from src import utils\n",
    "\n",
    "from bs4 import BeautifulSoup\n",
    "import re\n",
    "\n",
    "import spacy\n",
    "import re\n",
    "from nltk.corpus import stopwords\n",
    "from nltk.tokenize import word_tokenize\n",
    "import nltk\n",
    "\n",
    "nltk.download('stopwords')\n",
    "\n",
    "# Cargar el modelo en español de spaCy\n",
    "nlp = spacy.load('es_core_news_sm')\n",
    "stop_words = set(stopwords.words('spanish'))"
   ]
  },
  {
   "cell_type": "markdown",
   "metadata": {},
   "source": [
    "Posibles tesauros:\n",
    "\n",
    "    - https://www.nlm.nih.gov/mesh/meshhome.html version en ingles (MeSH)\n",
    "    - https://documentation.uts.nlm.nih.gov/rest/home.html"
   ]
  },
  {
   "cell_type": "code",
   "execution_count": null,
   "metadata": {},
   "outputs": [],
   "source": [
    "info = \"data/prueba\""
   ]
  },
  {
   "cell_type": "code",
   "execution_count": null,
   "metadata": {},
   "outputs": [],
   "source": [
    "all_data = []\n",
    "for element in os.listdir(info):\n",
    "    nregistro = int(element[:-5])\n",
    "    print(nregistro)\n",
    "    data = utils.read_medicamento_info(os.path.join(info,element))\n",
    "    all_data.append(data)\n",
    "    print(data)"
   ]
  },
  {
   "cell_type": "code",
   "execution_count": null,
   "metadata": {},
   "outputs": [],
   "source": [
    "for data in all_data:\n",
    "    name_original = utils.extract_and_clean_text(data[0][\"contenido\"])\n",
    "    print(name_original)\n",
    "    name = utils.extract_text_before_number(name_original)\n",
    "    text = utils.extract_and_clean_text(data[14][\"contenido\"])\n",
    "    print(name_original,\", \",name)"
   ]
  },
  {
   "cell_type": "code",
   "execution_count": null,
   "metadata": {},
   "outputs": [],
   "source": [
    "datos_antabus = all_data[0][14]\n",
    "datos_eutirox = all_data[1][17]\n",
    "datos_aspirina = all_data[2][15]"
   ]
  },
  {
   "cell_type": "code",
   "execution_count": null,
   "metadata": {},
   "outputs": [],
   "source": [
    "datos_aspirina"
   ]
  },
  {
   "cell_type": "code",
   "execution_count": null,
   "metadata": {},
   "outputs": [],
   "source": [
    "def bar(text):\n",
    "    from IPython.display import display, HTML\n",
    "    chart = HTML(text)\n",
    "    # or chart = charts.plot(...)\n",
    "    display(chart)\n",
    "    return chart\n",
    "\n",
    "chart = bar(datos_aspirina[\"contenido\"])"
   ]
  },
  {
   "cell_type": "code",
   "execution_count": null,
   "metadata": {},
   "outputs": [],
   "source": [
    "## Este metodo se encarga de quitar las etiquetas del html y eliminar tabs\n",
    "\n",
    "# TODO:\n",
    "#   - Mirar si funciona con todos los tipos de punto 4.8\n",
    "\n",
    "html_content = datos_aspirina[\"contenido\"]\n",
    "# Parse the HTML content\n",
    "soup = BeautifulSoup(html_content, 'html.parser')\n",
    "\n",
    "# Extract text and filter out empty lines\n",
    "text = soup.get_text(separator='\\n').strip()\n",
    "cleaned_text = re.sub(r'\\xa0', '', text)\n",
    "\n",
    "lines = re.split(r'\\n{2,}', cleaned_text)\n",
    "for index,element in enumerate(lines):\n",
    "    cleaned_text = re.sub(r'\\n', '', element)\n",
    "    lines[index] = cleaned_text\n",
    "\n",
    "cleaned_text = '\\n'.join(lines)"
   ]
  },
  {
   "cell_type": "code",
   "execution_count": null,
   "metadata": {},
   "outputs": [],
   "source": [
    "lines"
   ]
  },
  {
   "cell_type": "code",
   "execution_count": null,
   "metadata": {},
   "outputs": [],
   "source": [
    "# Remove capital letters and periods\n",
    "low_not_dots = ''.join([char for char in cleaned_text.lower() if char != '.'])\n",
    "low_not_dots"
   ]
  },
  {
   "cell_type": "code",
   "execution_count": null,
   "metadata": {},
   "outputs": [],
   "source": [
    "a = low_not_dots.split(\"\\n\")"
   ]
  },
  {
   "cell_type": "code",
   "execution_count": null,
   "metadata": {},
   "outputs": [],
   "source": [
    "b = re.sub(':', '', low_not_dots)\n",
    "c = b.split(\"\\n\")"
   ]
  },
  {
   "cell_type": "code",
   "execution_count": null,
   "metadata": {},
   "outputs": [],
   "source": [
    "info = \"data/prueba\"\n",
    "\n",
    "html_content = datos_aspirina[\"contenido\"]\n",
    "\n",
    "# Parse the HTML content\n",
    "soup = BeautifulSoup(html_content, 'html.parser')\n",
    "\n",
    "# Extract text and filter out empty lines\n",
    "text = soup.get_text(separator='\\n').strip()\n",
    "cleaned_text = re.sub(r'\\xa0', '', text)\n",
    "\n",
    "lines = re.split(r'\\n{2,}', cleaned_text)\n",
    "for index,element in enumerate(lines):\n",
    "    cleaned_text = re.sub(r'\\n', '', element)\n",
    "    lines[index] = cleaned_text\n",
    "\n",
    "cleaned_text = '\\n'.join(lines)\n",
    "\n",
    "# Remove capital letters and periods\n",
    "low_not_dots = ''.join([char for char in cleaned_text.lower() if char != '.'])\n",
    "low_not_dots\n",
    "\n",
    "a = low_not_dots.split(\"\\n\")\n",
    "\n",
    "b = re.sub(':', '', low_not_dots)\n",
    "c = b.split(\"\\n\")\n",
    "\n",
    "texto = c\n",
    "# Procesar cada línea del texto\n",
    "new_texto = []\n",
    "for linea in texto:\n",
    "    linea_limpia = utils.limpiar_texto(linea)\n",
    "    linea_lematizada = utils.lematizar_texto(linea_limpia)\n",
    "    tokens = word_tokenize(linea_lematizada)\n",
    "    new_texto.append(tokens)\n",
    "\n",
    "listas_filtradas = [[elemento for elemento in lista if elemento not in stop_words] for lista in new_texto]\n",
    "\n",
    "\n",
    "# TODO: Revisar usar space para quitar stopwords"
   ]
  },
  {
   "cell_type": "code",
   "execution_count": null,
   "metadata": {},
   "outputs": [],
   "source": [
    "for element in listas_filtradas:\n",
    "    print(element)"
   ]
  },
  {
   "cell_type": "code",
   "execution_count": null,
   "metadata": {},
   "outputs": [],
   "source": []
  },
  {
   "cell_type": "code",
   "execution_count": null,
   "metadata": {},
   "outputs": [],
   "source": []
  },
  {
   "cell_type": "code",
   "execution_count": null,
   "metadata": {},
   "outputs": [],
   "source": []
  },
  {
   "cell_type": "code",
   "execution_count": null,
   "metadata": {},
   "outputs": [],
   "source": []
  },
  {
   "cell_type": "code",
   "execution_count": null,
   "metadata": {},
   "outputs": [],
   "source": []
  },
  {
   "cell_type": "code",
   "execution_count": null,
   "metadata": {},
   "outputs": [],
   "source": []
  },
  {
   "cell_type": "code",
   "execution_count": null,
   "metadata": {},
   "outputs": [],
   "source": []
  },
  {
   "cell_type": "code",
   "execution_count": null,
   "metadata": {},
   "outputs": [],
   "source": []
  },
  {
   "cell_type": "code",
   "execution_count": null,
   "metadata": {},
   "outputs": [],
   "source": []
  },
  {
   "cell_type": "code",
   "execution_count": null,
   "metadata": {},
   "outputs": [],
   "source": []
  },
  {
   "cell_type": "code",
   "execution_count": null,
   "metadata": {},
   "outputs": [],
   "source": []
  },
  {
   "cell_type": "code",
   "execution_count": null,
   "metadata": {},
   "outputs": [],
   "source": []
  },
  {
   "cell_type": "code",
   "execution_count": null,
   "metadata": {},
   "outputs": [],
   "source": []
  },
  {
   "cell_type": "code",
   "execution_count": null,
   "metadata": {},
   "outputs": [],
   "source": []
  },
  {
   "cell_type": "code",
   "execution_count": null,
   "metadata": {},
   "outputs": [],
   "source": []
  },
  {
   "cell_type": "code",
   "execution_count": null,
   "metadata": {},
   "outputs": [],
   "source": []
  },
  {
   "cell_type": "code",
   "execution_count": null,
   "metadata": {},
   "outputs": [],
   "source": []
  }
 ],
 "metadata": {
  "language_info": {
   "name": "python"
  }
 },
 "nbformat": 4,
 "nbformat_minor": 2
}
