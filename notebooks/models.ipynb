{
 "cells": [
  {
   "cell_type": "code",
   "execution_count": 4,
   "metadata": {},
   "outputs": [],
   "source": [
    "import sys\n",
    "import os\n",
    "sys.path.append('../')\n",
    "os.chdir('../')\n",
    "\n",
    "import pandas as pd\n",
    "import numpy as np\n",
    "import shutil\n",
    "from pathlib import Path\n",
    "from datetime import datetime\n",
    "import time\n",
    "import threading\n",
    "import json\n",
    "import requests\n",
    "import threading  \n",
    "from src import utils  "
   ]
  },
  {
   "cell_type": "markdown",
   "metadata": {},
   "source": [
    "Posibles tesauros:\n",
    "\n",
    "    - MedDRA (Diccionario Médico para Actividades Reguladoras)\n",
    "    - DeCS/MeSH"
   ]
  },
  {
   "cell_type": "code",
   "execution_count": 5,
   "metadata": {},
   "outputs": [],
   "source": [
    "info = \"data/prueba\""
   ]
  },
  {
   "cell_type": "code",
   "execution_count": 6,
   "metadata": {},
   "outputs": [],
   "source": [
    "def read_medicamento_info(filename):\n",
    "    with open(filename,\"r\") as file:\n",
    "        data = json.load(file)\n",
    "    return data"
   ]
  },
  {
   "cell_type": "code",
   "execution_count": 7,
   "metadata": {},
   "outputs": [
    {
     "name": "stdout",
     "output_type": "stream",
     "text": [
      "12723\n",
      "[{'seccion': '1', 'titulo': 'NOMBRE DEL MEDICAMENTO', 'contenido': '<div>\\r\\n    <p style=\"margin:0pt; line-height:115%; font-size:11pt\"><span style=\"font-family:Times New Roman; font-size:11pt\">Antabus 250 mg comprimidos</span></p>\\r\\n  </div>', 'orden': 1}, {'seccion': '2', 'titulo': 'COMPOSICIÓN CUALITATIVA Y CUANTITATIVA', 'contenido': '<div>\\r\\n    <p style=\"margin:0pt\"><span style=\"font-family:Times New Roman; font-size:11pt\">Cada comprimido contiene 250 mg de disulfiram.</span></p>\\r\\n\\r\\n    <p style=\"margin:0pt\"><span style=\"font-family:Times New Roman; font-size:11pt\">&#xa0;</span></p>\\r\\n\\r\\n    <p style=\"margin:0pt\"><span style=\"font-family:Times New Roman; font-size:11pt\">Para consultar la lista completa de excipientes ver secci&#243;n 6.1.</span></p>\\r\\n\\r\\n    <p style=\"margin:0pt; line-height:115%; font-size:11pt\"><span style=\"font-family:Times New Roman; font-size:11pt\">&#xa0;</span></p>\\r\\n  </div>', 'orden': 1}, {'seccion': '3', 'titulo': 'FORMA FARMACÉUTICA', 'contenido': '<div>\\r\\n    <p style=\"margin:0pt; line-height:115%; font-size:11pt\"><span style=\"font-family:Times New Roman; font-size:11pt\">Comprimidos.</span></p>\\r\\n  </div>', 'orden': 1}, {'seccion': '4', 'titulo': 'DATOS CLÍNICOS', 'orden': 1}, {'seccion': '4.1', 'titulo': 'Indicaciones terapéuticas', 'contenido': '<div>\\r\\n    <p style=\"margin:0pt; line-height:115%; font-size:11pt\"><span style=\"font-family:Times New Roman; font-size:11pt\">Antabus est&#225; indicado para el tratamiento de la dependencia al alcohol (alcoholismo cr&#243;nico), como coadyuvante de programas integrados de deshabituaci&#243;n.</span></p>\\r\\n  </div>', 'orden': 2}, {'seccion': '4.2', 'titulo': 'Posología y forma de administración', 'contenido': '<div>\\r\\n    <p style=\"margin:0pt; text-align:justify\"><strong><span style=\"font-family:Times New Roman; font-size:11pt;\">Adultos</span></strong></p>\\r\\n\\r\\n    <p style=\"margin:0pt; text-align:justify\"><span style=\"font-family:Times New Roman; font-size:11pt\">Antabus no debe administrarse hasta que haya transcurrido un periodo de al menos 24 horas de abstinencia de la &#250;ltima ingesta de alcohol. S&#243;lo debe ser administrado por un m&#233;dico. El paciente debe estar adecuadamente motivado y tener un apoyo social y familiar que predisponga el cese del consumo de alcohol.</span></p>\\r\\n\\r\\n    <p style=\"margin:0pt; text-align:justify\"><span style=\"font-family:Times New Roman; font-size:11pt\">&#xa0;</span></p>\\r\\n\\r\\n    <p style=\"margin:0pt; text-align:justify\"><span style=\"font-family:Times New Roman; font-size:11pt\">Posolog&#237;a inicial</span></p>\\r\\n\\r\\n    <p style=\"margin:0pt; text-align:justify\"><span style=\"font-family:Times New Roman; font-size:11pt\">En la primera fase del tratamiento se administrar&#225; de 1 a 2 comprimidos (250-500mg) al d&#237;a en una dosis &#250;nica durante una o dos semanas. La dosis inicial no deber&#225; exceder de 500 mg de disulfiram diarios.</span></p>\\r\\n\\r\\n    <p style=\"margin:0pt; text-align:justify\"><span style=\"font-family:Times New Roman; font-size:11pt\">&#xa0;</span></p>\\r\\n\\r\\n    <p style=\"margin:0pt; text-align:justify\"><span style=\"font-family:Times New Roman; font-size:11pt\">Se recomienda que el tratamiento inicial con disulfiram se realice en un hospital o cl&#237;nicas especializadas.</span></p>\\r\\n\\r\\n    <p style=\"margin:0pt; text-align:justify\"><span style=\"font-family:Times New Roman; font-size:11pt\">&#xa0;</span></p>\\r\\n\\r\\n    <p style=\"margin:0pt; text-align:justify\"><span style=\"font-family:Times New Roman; font-size:11pt\">Pauta de mantenimiento</span></p>\\r\\n\\r\\n    <p style=\"margin:0pt; text-align:justify\"><span style=\"font-family:Times New Roman; font-size:11pt\">La dosis de mantenimiento es de 250 mg al d&#237;a (1 comprimido). No debiendo superarse, en cualquier caso, los 500 mg al d&#237;a.</span></p>\\r\\n\\r\\n    <p style=\"margin:0pt; text-align:justify\"><span style=\"font-family:Times New Roman; font-size:11pt\">&#xa0;</span></p>\\r\\n\\r\\n    <p style=\"margin:0pt; text-align:justify\"><span style=\"font-family:Times New Roman; font-size:11pt\">Duraci&#243;n del tratamiento</span></p>\\r\\n\\r\\n    <p style=\"margin:0pt; text-align:justify\"><span style=\"font-family:Times New Roman; font-size:11pt\">Debe continuarse la administraci&#243;n diaria e ininterrumpida de Antabus hasta que el paciente se haya reinsertado socialmente por completo y se haya establecido una base de autocontrol permanente. Dependiendo de cada paciente, puede requerirse tratamiento de mantenimiento durante meses o incluso a&#241;os.</span></p>\\r\\n\\r\\n    <p style=\"margin:0pt; line-height:115%; font-size:11pt\"><span style=\"font-family:Times New Roman; font-size:11pt\">&#xa0;</span></p>\\r\\n  </div>', 'orden': 3}, {'seccion': '4.2.2', 'titulo': 'Forma de administración', 'contenido': '<div>\\r\\n    <p style=\"margin:0pt; text-align:justify\"><span style=\"font-family:Times New Roman; font-size:11pt\">Antabus se administra por v&#237;a oral.</span></p>\\r\\n\\r\\n    <p style=\"margin:0pt; text-align:justify\"><span style=\"font-family:Times New Roman; font-size:11pt\">Preferiblemente, Antabus debe tomarse al levantarse, aunque en pacientes que presentan efectos sedante puede tomarse a la hora de acostarse.</span></p>\\r\\n\\r\\n    <p style=\"margin:0pt; text-align:justify\"><span style=\"font-family:Times New Roman; font-size:11pt\">Alternativamente, para minimizar el efecto sedante, puede reducirse la dosis inicial.</span></p>\\r\\n\\r\\n    <p style=\"margin:0pt; text-align:justify\"><span style=\"font-family:Times New Roman; font-size:11pt\">&#xa0;</span></p>\\r\\n\\r\\n    <p style=\"margin:0pt; text-align:justify\"><strong><span style=\"font-family:Times New Roman; font-size:11pt;\">Pacientes de edad avanzada</span></strong></p>\\r\\n\\r\\n    <p style=\"margin:0pt; text-align:justify\"><span style=\"font-family:Times New Roman; font-size:11pt\">Mismas dosis que en adultos. No es necesario un ajuste de dosis.</span></p>\\r\\n\\r\\n    <p style=\"margin:0pt; text-align:justify\"><span style=\"font-family:Times New Roman; font-size:11pt\">&#xa0;</span></p>\\r\\n\\r\\n    <p style=\"margin:0pt; text-align:justify\"><strong><span style=\"font-family:Times New Roman; font-size:11pt;\">Poblaci&#243;n pedi&#225;trica</span></strong></p>\\r\\n\\r\\n    <p style=\"margin:0pt; text-align:justify\"><span style=\"font-family:Times New Roman; font-size:11pt\">No se dispone de datos por lo que no existe recomendaci&#243;n de uso para Antabus en poblaci&#243;n pedi&#225;trica.</span></p>\\r\\n\\r\\n    <p style=\"margin:0pt; line-height:115%; font-size:11pt\"><span style=\"font-family:Times New Roman; font-size:11pt\">&#xa0;</span></p>\\r\\n  </div>', 'orden': 5}, {'seccion': '4.3', 'titulo': 'Contraindicaciones', 'contenido': '<div>\\r\\n    <ul type=\"disc\" style=\"margin:0pt; padding-left:0pt\">\\r\\n      <li style=\"margin:0pt 0pt 0pt 29.04pt; text-indent:0pt; text-align:justify; padding-left:6.96pt; font-family:serif; font-size:11pt\"><span style=\"font-family:Times New Roman; font-size:11pt\">Hipersensibilidad al principio activo o a alguno de los excipientes incluidos en secci&#243;n 6.1.</span></li>\\r\\n\\r\\n      <li style=\"margin:0pt 0pt 0pt 29.04pt; text-indent:0pt; text-align:justify; padding-left:6.96pt; font-family:serif; font-size:11pt\"><span style=\"font-family:Times New Roman; font-size:11pt\">Hipersensibilidad a compuestos de tiuram empleados en pesticidas y procesos de vulcanizaci&#243;n.</span></li>\\r\\n\\r\\n      <li style=\"margin:0pt 0pt 0pt 29.04pt; text-indent:0pt; text-align:justify; padding-left:6.96pt; font-family:serif; font-size:11pt\"><span style=\"font-family:Times New Roman; font-size:11pt\">Pacientes con enfermedad mioc&#225;rdica grave u oclusi&#243;n coronaria.</span></li>\\r\\n\\r\\n      <li style=\"margin:0pt 0pt 0pt 29.04pt; text-indent:0pt; text-align:justify; padding-left:6.96pt; font-family:serif; font-size:11pt\"><span style=\"font-family:Times New Roman; font-size:11pt\">Estados psic&#243;ticos.</span></li>\\r\\n\\r\\n      <li style=\"margin:0pt 0pt 0pt 29.04pt; text-indent:0pt; text-align:justify; padding-left:6.96pt; font-family:serif; font-size:11pt\"><span style=\"font-family:Times New Roman; font-size:11pt\">Ingesta alcoh&#243;lica</span></li>\\r\\n\\r\\n      <li style=\"margin:0pt 0pt 0pt 29.04pt; text-indent:0pt; text-align:justify; padding-left:6.96pt; font-family:serif; font-size:11pt\"><span style=\"font-family:Times New Roman; font-size:11pt\">Uso de preparados con alcohol (ver secci&#243;n 4.4)</span></li>\\r\\n\\r\\n      <li style=\"margin:0pt 0pt 0pt 29.04pt; text-indent:0pt; text-align:justify; padding-left:6.96pt; font-family:serif; font-size:11pt\"><span style=\"font-family:Times New Roman; font-size:11pt\">Pacientes en tratamiento actual o reciente con:</span></li>\\r\\n\\r\\n      <li style=\"list-style: none; display: inline\">\\r\\n        <ul type=\"circle\" style=\"margin:0pt; padding-left:0pt\">\\r\\n          <li style=\"margin:0pt 0pt 0pt 65.6pt; text-indent:0pt; text-align:justify; padding-left:6.4pt; font-family:serif; font-size:11pt\"><span style=\"font-family:Times New Roman; font-size:11pt\">metronidazol,</span></li>\\r\\n\\r\\n          <li style=\"margin:0pt 0pt 0pt 65.6pt; text-indent:0pt; text-align:justify; padding-left:6.4pt; font-family:serif; font-size:11pt\"><span style=\"font-family:Times New Roman; font-size:11pt\">paraldeh&#237;do o</span></li>\\r\\n\\r\\n          <li style=\"margin:0pt 0pt 0pt 65.6pt; text-indent:0pt; text-align:justify; padding-left:6.4pt; font-family:serif; font-size:11pt\"><span style=\"font-family:Times New Roman; font-size:11pt\">medicamentos que contengan alcohol (ver secci&#243;n 4.5.)</span></li>\\r\\n        </ul>\\r\\n      </li>\\r\\n\\r\\n      <li style=\"margin:0pt 0pt 0pt 29.04pt; text-indent:0pt; text-align:justify; padding-left:6.96pt; font-family:serif; font-size:11pt\"><span style=\"font-family:Times New Roman; font-size:11pt\">Insuficiencia hep&#225;tica grave.</span></li>\\r\\n\\r\\n      <li style=\"margin:0pt 0pt 0pt 29.04pt; text-indent:0pt; text-align:justify; padding-left:6.96pt; font-family:serif; font-size:11pt\"><span style=\"font-family:Times New Roman; font-size:11pt\">Insuficiencia renal grave.</span></li>\\r\\n\\r\\n      <li style=\"margin:0pt 0pt 0pt 29.04pt; text-indent:0pt; text-align:justify; padding-left:6.96pt; font-family:serif; font-size:11pt\"><span style=\"font-family:Times New Roman; font-size:11pt\">Pacientes adictos a opi&#225;ceos o en tratamiento con opi&#225;ceos como morfina, hero&#237;na o code&#237;na: el consumo conjunto de Antabus y opi&#225;ceos desencadena el s&#237;ndrome de abstinencia a estos &#250;ltimos.</span></li>\\r\\n\\r\\n      <li style=\"margin:0pt 0pt 0pt 29.04pt; text-indent:0pt; text-align:justify; padding-left:6.96pt; font-family:serif; font-size:11pt\"><span style=\"font-family:Times New Roman; font-size:11pt\">Pacientes adictos a coca&#237;na y alcohol: el consumo conjunto de Antabus, alcohol y coca&#237;na aumenta los niveles plasm&#225;ticos de la coca&#237;na.</span></li>\\r\\n\\r\\n      <li style=\"margin:0pt 0pt 0pt 29.04pt; text-indent:0pt; text-align:justify; padding-left:6.96pt; font-family:serif; font-size:11pt\"><span style=\"font-family:Times New Roman; font-size:11pt\">Pacientes adictos a coca&#237;na: aumenta los niveles de dopamina.</span></li>\\r\\n\\r\\n      <li style=\"margin:0pt 0pt 0pt 29.04pt; text-indent:0pt; text-align:justify; padding-left:6.96pt; font-family:serif; font-size:11pt\"><span style=\"font-family:Times New Roman; font-size:11pt\">Embarazo (ver secci&#243;n 4.6)</span></li>\\r\\n    </ul>\\r\\n\\r\\n    <p style=\"margin:0pt; line-height:115%; font-size:11pt\"><span style=\"font-family:Times New Roman; font-size:11pt\">&#xa0;</span></p>\\r\\n  </div>', 'orden': 6}, {'seccion': '4.4', 'titulo': 'Advertencias y precauciones especiales de empleo', 'contenido': '<div>\\r\\n    <p style=\"margin:0pt; text-align:justify\"><span style=\"font-family:Times New Roman; font-size:11pt\">El tratamiento con Antabus est&#225; indicado en pacientes con capacidad de discernir las consecuencias de la ingesta de alcohol junto con Antabus; as&#237; como del uso de productos conteniendo alcohol junto con Antabus. Se debe informar al paciente de los riesgos asociados al tratamiento.</span></p>\\r\\n\\r\\n    <p style=\"margin:0pt; text-align:justify\"><span style=\"font-family:Times New Roman; font-size:11pt\">&#xa0;</span></p>\\r\\n\\r\\n    <p style=\"margin:0pt; text-align:justify\"><span style=\"font-family:Times New Roman; font-size:11pt\">No administrar Antabus hasta que el paciente se haya abstenido de tomar alcohol al menos 24 h antes.</span></p>\\r\\n\\r\\n    <p style=\"margin:0pt; text-align:justify\"><span style=\"font-family:Times New Roman; font-size:11pt\">&#xa0;</span></p>\\r\\n\\r\\n    <p style=\"margin:0pt; text-align:justify\"><span style=\"font-family:Times New Roman; font-size:11pt\">El paciente debe evitar el uso de alcohol en formas enmascaradas. Algunos productos, alimentos y medicamentos llevan alcohol en su composici&#243;n por lo que se debe leer meticulosamente la composici&#243;n de dichos productos. Se debe advertir de que la reacci&#243;n disulfiram-alcohol puede ocurrir incluso con una m&#237;nima cantidad de alcohol. Algunos ejemplos de preparados que pueden contener alcohol son:</span></p>\\r\\n\\r\\n    <ul type=\"disc\" style=\"margin:0pt; padding-left:0pt\">\\r\\n      <li style=\"margin:0pt 0pt 0pt 26.66pt; text-indent:0pt; text-align:justify; padding-left:9.34pt; font-family:serif; font-size:11pt\"><span style=\"font-family:Times New Roman; font-size:11pt\">Salsas,</span></li>\\r\\n\\r\\n      <li style=\"margin:0pt 0pt 0pt 26.66pt; text-indent:0pt; text-align:justify; padding-left:9.34pt; font-family:serif; font-size:11pt\"><span style=\"font-family:Times New Roman; font-size:11pt\">Vinagre,</span></li>\\r\\n\\r\\n      <li style=\"margin:0pt 0pt 0pt 26.66pt; text-indent:0pt; text-align:justify; padding-left:9.34pt; font-family:serif; font-size:11pt\"><span style=\"font-family:Times New Roman; font-size:11pt\">Enjuagues bucales,</span></li>\\r\\n\\r\\n      <li style=\"margin:0pt 0pt 0pt 26.66pt; text-indent:0pt; text-align:justify; padding-left:9.34pt; font-family:serif; font-size:11pt\"><span style=\"font-family:Times New Roman; font-size:11pt\">Jarabes para la tos,</span></li>\\r\\n\\r\\n      <li style=\"margin:0pt 0pt 0pt 26.66pt; text-indent:0pt; text-align:justify; padding-left:9.34pt; font-family:serif; font-size:11pt\"><span style=\"font-family:Times New Roman; font-size:11pt\">Preparados para despu&#233;s del afeitado.</span></li>\\r\\n    </ul>\\r\\n\\r\\n    <p style=\"margin:0pt; text-align:justify\"><span style=\"font-family:Times New Roman; font-size:11pt\">&#xa0;</span></p>\\r\\n\\r\\n    <p style=\"margin:0pt; text-align:justify\"><span style=\"font-family:Times New Roman; font-size:11pt\">Los pacientes en tratamiento con disulfiram no deben exponerse al dibromuro de etileno o a sus vapores.</span></p>\\r\\n\\r\\n    <p style=\"margin:0pt; text-align:justify\"><span style=\"font-family:Times New Roman; font-size:11pt\">&#xa0;</span></p>\\r\\n\\r\\n    <p style=\"margin:0pt; text-align:justify\"><span style=\"font-family:Times New Roman; font-size:11pt\">Antabus debe administrarse con extrema precauci&#243;n en pacientes con alguna de las enfermedades siguientes:</span></p>\\r\\n\\r\\n    <ul type=\"disc\" style=\"margin:0pt; padding-left:0pt\">\\r\\n      <li style=\"margin:0pt 0pt 0pt 26.66pt; text-indent:0pt; text-align:justify; padding-left:9.34pt; font-family:serif; font-size:11pt\"><span style=\"font-family:Times New Roman; font-size:11pt\">Diabetes mellitus: por una reacci&#243;n accidental disulfiram-etanol,</span></li>\\r\\n\\r\\n      <li style=\"margin:0pt 0pt 0pt 26.66pt; text-indent:0pt; text-align:justify; padding-left:9.34pt; font-family:serif; font-size:11pt\"><span style=\"font-family:Times New Roman; font-size:11pt\">Hipotiroidismo: los s&#237;ntomas de dicha patolog&#237;a pueden ser confundidos con los de la reacci&#243;n disulfiram/alcohol y/o existe un riesgo aumentado de padecer efectos adversos m&#225;s graves.</span></li>\\r\\n\\r\\n      <li style=\"margin:0pt 0pt 0pt 26.66pt; text-indent:0pt; text-align:justify; padding-left:9.34pt; font-family:serif; font-size:11pt\"><span style=\"font-family:Times New Roman; font-size:11pt\">Epilepsia: los s&#237;ntomas de dicha patolog&#237;a pueden ser confundidos con efectos adversos y/o existe un riesgo aumentado de padecer efectos adversos m&#225;s graves.</span></li>\\r\\n\\r\\n      <li style=\"margin:0pt 0pt 0pt 26.66pt; text-indent:0pt; text-align:justify; padding-left:9.34pt; font-family:serif; font-size:11pt\"><span style=\"font-family:Times New Roman; font-size:11pt\">Pacientes tratados con fenito&#237;na: riesgo de intoxicaci&#243;n</span></li>\\r\\n\\r\\n      <li style=\"margin:0pt 0pt 0pt 26.66pt; text-indent:0pt; text-align:justify; padding-left:9.34pt; font-family:serif; font-size:11pt\"><span style=\"font-family:Times New Roman; font-size:11pt\">Enfermedades cerebrovasculares: riesgo de padecer efectos adversos m&#225;s graves.</span></li>\\r\\n\\r\\n      <li style=\"margin:0pt 0pt 0pt 26.66pt; text-indent:0pt; text-align:justify; padding-left:9.34pt; font-family:serif; font-size:11pt\"><span style=\"font-family:Times New Roman; font-size:11pt\">Nefritis aguda y cr&#243;nica o insuficiencia renal,</span></li>\\r\\n\\r\\n      <li style=\"margin:0pt 0pt 0pt 26.66pt; text-indent:0pt; text-align:justify; padding-left:9.34pt; font-family:serif; font-size:11pt\"><span style=\"font-family:Times New Roman; font-size:11pt\">Cirrosis o insuficiencia hep&#225;tica.</span></li>\\r\\n    </ul>\\r\\n\\r\\n    <p style=\"margin:0pt; text-align:justify\"><span style=\"font-family:Times New Roman; font-size:11pt\">&#xa0;</span></p>\\r\\n\\r\\n    <p style=\"margin:0pt; text-align:justify\"><span style=\"font-family:Times New Roman; font-size:11pt\">Se recomienda monitorizar la funci&#243;n hep&#225;tica al inicio y durante el tratamiento con Antabus. Tambi&#233;n es recomendable la realizaci&#243;n de recuentos hematol&#243;gicos y bioqu&#237;micos peri&#243;dicos.</span></p>\\r\\n\\r\\n    <p style=\"margin:0pt; text-align:justify\"><span style=\"font-family:Times New Roman; font-size:11pt\">&#xa0;</span></p>\\r\\n\\r\\n    <p style=\"margin:0pt; text-align:justify\"><span style=\"font-family:Times New Roman; font-size:11pt\">En pacientes con dermatitis de contacto debe evaluarse la hipersensibilidad a compuestos de tiuram antes de iniciar el tratamiento con Antabus.</span></p>\\r\\n\\r\\n    <p style=\"margin:0pt; text-align:justify\"><span style=\"font-family:Times New Roman; font-size:11pt\">&#xa0;</span></p>\\r\\n\\r\\n    <p style=\"margin:0pt; text-align:justify\"><span style=\"font-family:Times New Roman; font-size:11pt\">Puede resultar necesario ajustar la posolog&#237;a de los anticoagulantes orales al iniciar o suspender el tratamiento con disulfiram (ver 4.5).</span></p>\\r\\n\\r\\n    <p style=\"margin:0pt; text-align:justify\"><span style=\"font-family:Times New Roman; font-size:11pt\">&#xa0;</span></p>\\r\\n\\r\\n    <p style=\"margin:0pt; text-align:justify\"><strong><u><span style=\"font-family:Times New Roman; font-size:11pt;\">Reacci&#243;n disulfiram-alcohol</span></u></strong></p>\\r\\n\\r\\n    <p style=\"margin:0pt; text-align:justify\"><span style=\"font-family:Times New Roman; font-size:11pt\">Los efectos de la reacci&#243;n disulfiram-alcohol aparecen a los 10 minutos tras la ingesta de alcohol. Cantidades incluso peque&#241;as de alcohol dan lugar a esta reacci&#243;n, provocando:</span></p>\\r\\n\\r\\n    <p style=\"margin:0pt; text-align:justify\"><span style=\"font-family:Times New Roman; font-size:11pt\">&#xa0;</span></p>\\r\\n\\r\\n    <p style=\"margin:0pt; text-align:justify\"><span style=\"font-family:Times New Roman; font-size:11pt\">Enrojecimiento, palpitaciones en cabeza y cuello, cefalea puls&#225;til, dificultad respiratoria, n&#225;useas, v&#243;mitos abundantes, sudoraci&#243;n, sed, dolor tor&#225;cico, palpitaciones, disnea hiperventilaci&#243;n, taquicardia, hipotensi&#243;n, s&#237;ncope, notable inquietud, debilidad, v&#233;rtigo, visi&#243;n borrosa y confusi&#243;n.</span></p>\\r\\n\\r\\n    <p style=\"margin:0pt; text-align:justify\"><span style=\"font-family:Times New Roman; font-size:11pt\">En reacciones graves puede existir depresi&#243;n respiratoria, colapso cardiovascular, arritmias, infarto de miocardio, insuficiencia cardiaca congestiva aguda, p&#233;rdida de conciencia, convulsiones e incluso muerte.</span></p>\\r\\n\\r\\n    <p style=\"margin:0pt; text-align:justify\"><span style=\"font-family:Times New Roman; font-size:11pt\">&#xa0;</span></p>\\r\\n\\r\\n    <p style=\"margin:0pt; text-align:justify\"><span style=\"font-family:Times New Roman; font-size:11pt\">Hay que resaltar que esta reacci&#243;n puede aparecer incluso 10 - 14 d&#237;as despu&#233;s de la retirada del disulfiram, o hasta 3 semanas despu&#233;s de la retirada.</span></p>\\r\\n\\r\\n    <p style=\"margin:0pt; text-align:justify\"><span style=\"font-family:Times New Roman; font-size:11pt\">&#xa0;</span></p>\\r\\n\\r\\n    <p style=\"margin:0pt; text-align:justify\"><span style=\"font-family:Times New Roman; font-size:11pt\">La reacci&#243;n t&#243;xica disulfiram-etanol, principalmente se manifiesta por un intenso sofoco cut&#225;neo desde la cabeza hacia abajo, implicando a la cara, extremidades superiores y pecho. El sofoco es causado por la vasodilataci&#243;n y se acompa&#241;a de calor, sudoraci&#243;n y palpitaciones, con taquicardia, disnea, hiperventilaci&#243;n y cefalea intensa. Hay sensaci&#243;n de constricci&#243;n e irritaci&#243;n de garganta y tr&#225;quea, que origina tos. Puede aparecer dolor de pecho que aparece simult&#225;neamente a un espasmo coronario. Puede desarrollarse inquietud o una sensaci&#243;n de malestar y miedo a morir. Estos s&#237;ntomas est&#225;n acompa&#241;ados por un aumento en la presi&#243;n sangu&#237;nea, seguido de hipotensi&#243;n si la vasodilataci&#243;n es significativa. El sofoco se reemplaza por palidez, debilidad, v&#233;rtigo y nauseas que se torna a v&#243;mitos violentos con calambres abdominales. Otros s&#237;ntomas descritos incluyen sed, mareos, visi&#243;n borrosa, entumecimiento de manos y pies e insomnio. Las reacciones graves pueden afectar al coraz&#243;n y pueden aparecer convulsiones, p&#233;rdida de consciencia y muerte por fallo cardiorespiratorio.</span></p>\\r\\n\\r\\n    <p style=\"margin:0pt; text-align:justify\"><span style=\"font-family:Times New Roman; font-size:11pt\">&#xa0;</span></p>\\r\\n\\r\\n    <p style=\"margin:0pt; text-align:justify\"><span style=\"font-family:Times New Roman; font-size:11pt\">La intensidad de la reacci&#243;n var&#237;a con cada individuo, pero generalmente es proporcional a la cantidad ingerida de disulfiram y etanol. Las reacciones leves puede aparecer en individuos sensibles cuando las concentraciones de etanol en sangre son ligeramente superiores a 5 - 10 mg/100 mL. Los s&#237;ntomas se desarrollan completamente a concentraciones de 50 mg/100 mL y la inconsciencia aparece generalmente cuando las concentraciones de etanol alcanzan valores de 125 a 150 mg/100 mL.</span></p>\\r\\n\\r\\n    <p style=\"margin:0pt; text-align:justify\"><span style=\"font-family:Times New Roman; font-size:11pt\">&#xa0;</span></p>\\r\\n\\r\\n    <p style=\"margin:0pt; text-align:justify\"><span style=\"font-family:Times New Roman; font-size:11pt\">La duraci&#243;n de la reacci&#243;n var&#237;a de dos a cuatro horas hasta varias horas en la mayor&#237;a de los casos, o mientras que exista etanol en la sangre.</span></p>\\r\\n\\r\\n    <p style=\"margin:0pt; text-align:justify\"><span style=\"font-family:Times New Roman; font-size:11pt\">&#xa0;</span></p>\\r\\n\\r\\n    <p style=\"margin:0pt; text-align:justify\"><span style=\"font-family:Times New Roman; font-size:11pt\">Generalmente contin&#250;a con la aparici&#243;n de confusi&#243;n, somnolencia y sue&#241;o. Frecuentemente hay cambios transitorios en el ECG, as&#237; como aplanamiento de la onda T, depresi&#243;n del segmento ST y prolongaci&#243;n del QT en un patr&#243;n que sugiere la base ventricular derecha.</span></p>\\r\\n\\r\\n    <p style=\"margin:0pt; text-align:justify\"><span style=\"font-family:Times New Roman; font-size:11pt\">&#xa0;</span></p>\\r\\n\\r\\n    <p style=\"margin:0pt; text-align:justify\"><strong><u><span style=\"font-family:Times New Roman; font-size:11pt;\">Tratamiento de la reacci&#243;n disulfiram-etanol</span></u></strong></p>\\r\\n\\r\\n    <p style=\"margin:0pt; text-align:justify\"><span style=\"font-family:Times New Roman; font-size:11pt\">&#xa0;</span></p>\\r\\n\\r\\n    <p style=\"margin:0pt; text-align:justify\"><span style=\"font-family:Times New Roman; font-size:11pt\">En el caso de desarrollarse esta reacci&#243;n como consecuencia del consumo de alcohol en pacientes tratados con disulfiram, deben establecerse medidas de soporte y sintom&#225;ticas.</span></p>\\r\\n\\r\\n    <p style=\"margin:0pt; text-align:justify\"><span style=\"font-family:Times New Roman; font-size:11pt\">&#xa0;</span></p>\\r\\n\\r\\n    <p style=\"margin:0pt; text-align:justify\"><span style=\"font-family:Times New Roman; font-size:11pt\">Deber&#225;n administrarse cantidades importantes de &#225;cido asc&#243;rbico (1 g) por v&#237;a intravenosa.</span></p>\\r\\n\\r\\n    <p style=\"margin:0pt; text-align:justify\"><span style=\"font-family:Times New Roman; font-size:11pt\">&#xa0;</span></p>\\r\\n\\r\\n    <p style=\"margin:0pt; text-align:justify\"><span style=\"font-family:Times New Roman; font-size:11pt\">Es posible que la serotonina, histamina y diversas catecolaminas liberadas intervengan en la reacci&#243;n y, por tanto, han sido administrados antihistam&#237;nicos intravenosos o intramusculares para el tratamiento. En el caso de reacciones no complicadas, se ha observado que puede ser &#250;til la administraci&#243;n de clorpromazina 5 a 100 mg intramuscular.</span></p>\\r\\n\\r\\n    <p style=\"margin:0pt; text-align:justify\"><span style=\"font-family:Times New Roman; font-size:11pt\">&#xa0;</span></p>\\r\\n\\r\\n    <p style=\"margin:0pt; text-align:justify\"><span style=\"font-family:Times New Roman; font-size:11pt\">Los cuidados de mantenimiento en pacientes con reacci&#243;n al aldeh&#237;do incluyen cuidados rutinarios, terapia intensiva de soporte y medidas est&#225;ndares de resucitaci&#243;n cardiorespiratoria, que implica el tratamiento de hipotensi&#243;n, fallo circulatorio, correcci&#243;n de hipoxia y balance de fluidos y electrolitos para restablecer el equilibrio hemodin&#225;mico, todo ello determinado por la monitorizaci&#243;n de los ex&#225;menes. Los pies de la cama deber&#225;n elevarse entre 20 a 25 cm.</span></p>\\r\\n\\r\\n    <p style=\"margin:0pt; text-align:justify\"><span style=\"font-family:Times New Roman; font-size:11pt\">&#xa0;</span></p>\\r\\n\\r\\n    <p style=\"margin:0pt; text-align:justify\"><span style=\"font-family:Times New Roman; font-size:11pt\">Otras medidas incluyen la liberaci&#243;n de v&#237;as a&#233;reas, adecuada ventilaci&#243;n con ox&#237;geno y, si fuera necesario, la correcci&#243;n arterial del pCO2 y PO2, pH y la infusi&#243;n intravenosa de bicarbonato, si hay acidemia patente.</span></p>\\r\\n\\r\\n    <p style=\"margin:0pt; line-height:115%; font-size:11pt\"><span style=\"font-family:Times New Roman; font-size:11pt\">&#xa0;</span></p>\\r\\n  </div>', 'orden': 7}, {'seccion': '4.5', 'titulo': 'Interacción con otros medicamentos y otras formas de interacción', 'contenido': '<div>\\r\\n    <p style=\"margin:0pt; text-align:justify\"><span style=\"font-family:Times New Roman; font-size:11pt\">Preparados l&#237;quidos farmac&#233;uticos que contienen alcohol.</span></p>\\r\\n\\r\\n    <p style=\"margin:0pt; text-align:justify\"><span style=\"font-family:Times New Roman; font-size:11pt\">&#xa0;</span></p>\\r\\n\\r\\n    <p style=\"margin:0pt; text-align:justify\"><span style=\"font-family:Times New Roman; font-size:11pt\">El disulfiram puede retardar el metabolismo de ciertos f&#225;rmacos y, con ello, prolongar la duraci&#243;n de acci&#243;n o aumentar la posibilidad de toxicidad cl&#237;nica de los f&#225;rmacos administrados concomitantemente.</span></p>\\r\\n\\r\\n    <p style=\"margin:0pt; text-align:justify\"><span style=\"font-family:Times New Roman; font-size:11pt\">&#xa0;</span></p>\\r\\n\\r\\n    <p style=\"margin:0pt; text-align:justify\"><span style=\"font-family:Times New Roman; font-size:11pt\">Estos f&#225;rmacos incluyen:</span></p>\\r\\n\\r\\n    <p style=\"margin:0pt; text-align:justify\"><span style=\"font-family:Times New Roman; font-size:11pt\">&#xa0;</span></p>\\r\\n\\r\\n    <ul type=\"disc\" style=\"margin:0pt; padding-left:0pt\">\\r\\n      <li style=\"margin:0pt 0pt 0pt 26.66pt; text-indent:0pt; text-align:justify; padding-left:9.34pt; font-family:serif; font-size:11pt\"><span style=\"font-family:Times New Roman; font-size:11pt\">Propilenglicol: aumento de la concentraci&#243;n plasm&#225;tica y toxicidad del propilenglicol.</span></li>\\r\\n\\r\\n      <li style=\"margin:0pt 0pt 0pt 26.66pt; text-indent:0pt; text-align:justify; padding-left:9.34pt; font-family:serif; font-size:11pt\"><span style=\"font-family:Times New Roman; font-size:11pt\">Hidanto&#237;na: aumento de la concentraci&#243;n plasm&#225;tica y toxicidad de las hidanto&#237;nas.</span></li>\\r\\n\\r\\n      <li style=\"margin:0pt 0pt 0pt 26.66pt; text-indent:0pt; text-align:justify; padding-left:9.34pt; font-family:serif; font-size:11pt\"><span style=\"font-family:Times New Roman; font-size:11pt\">Anticoagulantes orales (ej.warfarina): el disulfiram puede prolongar el tiempo de protrombina. Se debe valorar un ajuste de dosis del anticoagulante.</span></li>\\r\\n\\r\\n      <li style=\"margin:0pt 0pt 0pt 26.66pt; text-indent:0pt; text-align:justify; padding-left:9.34pt; font-family:serif; font-size:11pt\"><span style=\"font-family:Times New Roman; font-size:11pt\">Metronidazol: posible efecto sin&#233;rgico de ambos dando lugar a reacci&#243;n psic&#243;tica aguda y confusi&#243;n (ver secci&#243;n 4.3).</span></li>\\r\\n\\r\\n      <li style=\"margin:0pt 0pt 0pt 26.66pt; text-indent:0pt; text-align:justify; padding-left:9.34pt; font-family:serif; font-size:11pt\"><span style=\"font-family:Times New Roman; font-size:11pt\">Fenito&#237;na: la administraci&#243;n concomitante con fenito&#237;na puede aumentar los niveles s&#233;ricos de fenito&#237;na y la posibilidad de originar una intoxicaci&#243;n por fenito&#237;na. Los niveles s&#233;ricos de fenito&#237;na deber&#237;an controlarse y realizarse ajustes de fenito&#237;na durante el tratamiento con disulfiram. Hay evidencia de que la fenobarbitona no se ve afectada por el disulfiram.</span></li>\\r\\n\\r\\n      <li style=\"margin:0pt 0pt 0pt 26.66pt; text-indent:0pt; text-align:justify; padding-left:9.34pt; font-family:serif; font-size:11pt\"><span style=\"font-family:Times New Roman; font-size:11pt\">Isoniazida: aumento de la toxicidad de ambos medicamentos. Los efectos adversos asociados con el uso concomitante de isoniazida incluyen ataxia y cambios de humor y de conducta.</span></li>\\r\\n\\r\\n      <li style=\"margin:0pt 0pt 0pt 26.66pt; text-indent:0pt; text-align:justify; padding-left:9.34pt; font-family:serif; font-size:11pt\"><span style=\"font-family:Times New Roman; font-size:11pt\">Benzodiazepinas de metabolismo oxidativo (ej. diazepam, clordiazep&#243;xido): los efectos de estas benzodiacepinas pero no del oxazepam se ven incrementados o prolongados con el uso concomitante de disulfiram. Aumento de la concentraci&#243;n plasm&#225;tica y toxicidad de estas benzodiazepinas.</span></li>\\r\\n\\r\\n      <li style=\"margin:0pt 0pt 0pt 26.66pt; text-indent:0pt; text-align:justify; padding-left:9.34pt; font-family:serif; font-size:11pt\"><span style=\"font-family:Times New Roman; font-size:11pt\">Otros. La toxicidad de ciertos f&#225;rmacos se ha visto incrementada en ratas. Entre estos f&#225;rmacos se encuentran: morfina, petidina, anfetamina y barbit&#250;ricos.</span></li>\\r\\n    </ul>\\r\\n\\r\\n    <p style=\"margin:0pt; text-align:justify\"><span style=\"font-family:Times New Roman; font-size:11pt\">&#xa0;</span></p>\\r\\n\\r\\n    <p style=\"margin:0pt; text-align:justify\"><span style=\"font-family:Times New Roman; font-size:11pt\">Se han descrito cuadros confusionales y psic&#243;ticos con el uso concomitante de amitriptilina y disulfiram.</span></p>\\r\\n\\r\\n    <p style=\"margin:0pt; text-align:justify\"><span style=\"font-family:Times New Roman; font-size:11pt\">&#xa0;</span></p>\\r\\n\\r\\n    <p style=\"margin:0pt; text-align:justify\"><span style=\"font-family:Times New Roman; font-size:11pt\">El uso concomitante de clozapina y disulfiram puede dar lugar a un incremento en la eficacia antipsic&#243;tica del tratamiento con clozapina como resultado de la inhibici&#243;n por el disulfiram del metabolismo de la clozapina. Por otro lado, esta interacci&#243;n da como resultado el bloqueo de los efectos psic&#243;ticos del disulfiram. El disulfiram por s&#237; s&#243;lo puede dar lugar a episodios psic&#243;ticos o exacerbar los s&#237;ntomas psic&#243;ticos (ver secci&#243;n 4.8).</span></p>\\r\\n\\r\\n    <p style=\"margin:0pt; text-align:justify\"><span style=\"font-family:Times New Roman; font-size:11pt\">&#xa0;</span></p>\\r\\n\\r\\n    <p style=\"margin:0pt; text-align:justify\"><span style=\"font-family:Times New Roman; font-size:11pt\">El consumo concomitante de disulfiram y teofilina puede provocar aumento de la concentraci&#243;n plasm&#225;tica y toxicidad de la teofilina.</span></p>\\r\\n\\r\\n    <p style=\"margin:0pt; text-align:justify\"><span style=\"font-family:Times New Roman; font-size:11pt\">&#xa0;</span></p>\\r\\n\\r\\n    <p style=\"margin:0pt; text-align:justify\"><span style=\"font-family:Times New Roman; font-size:11pt\">El disulfiram puede potenciar la toxicidad de la tranilcipromida (IMAO) habi&#233;ndose descrito algunos cuadros delirantes debido a la inhibici&#243;n del metabolismo de la tranilcipromida.</span></p>\\r\\n\\r\\n    <p style=\"margin:0pt; text-align:justify\"><span style=\"font-family:Times New Roman; font-size:11pt\">&#xa0;</span></p>\\r\\n\\r\\n    <p style=\"margin:0pt; text-align:justify\"><span style=\"font-family:Times New Roman; font-size:11pt\">Cl&#237;nicamente pueden esperarse interacciones importantes en pacientes tratados con otros f&#225;rmacos que afectan a la regulaci&#243;n de la tensi&#243;n arterial, ejercen acciones a nivel del sistema nervioso central mediadas por noradrenalina o dopamina o inhiben los mismos enzimas que disulfiram. De forma inversa, algunos f&#225;rmacos (por ejemplo: diazepam) pueden reducir la intensidad del efecto del disulfiram.</span></p>\\r\\n\\r\\n    <p style=\"margin:0pt; text-align:justify\"><span style=\"font-family:Times New Roman; font-size:11pt\">&#xa0;</span></p>\\r\\n\\r\\n    <p style=\"margin:0pt; text-align:justify\"><span style=\"font-family:Times New Roman; font-size:11pt\">La administraci&#243;n concomitante de anti&#225;cidos conteniendo cationes divalentes puede disminuir la absorci&#243;n. De forma similar, dosis elevadas de sales ferrosas bloquean la absorci&#243;n.</span></p>\\r\\n\\r\\n    <p style=\"margin:0pt; text-align:justify\"><span style=\"font-family:Times New Roman; font-size:11pt\">&#xa0;</span></p>\\r\\n\\r\\n    <p style=\"margin:0pt; text-align:justify\"><span style=\"font-family:Times New Roman; font-size:11pt\">El disulfiram bloquea la oxidaci&#243;n y la excreci&#243;n renal de rifampicina.</span></p>\\r\\n\\r\\n    <p style=\"margin:0pt; text-align:justify\"><span style=\"font-family:Times New Roman; font-size:11pt\">&#xa0;</span></p>\\r\\n\\r\\n    <p style=\"margin:0pt; text-align:justify\"><span style=\"font-family:Times New Roman; font-size:11pt\">El disulfiram incrementa la absorci&#243;n intestinal del n&#237;quel.</span></p>\\r\\n\\r\\n    <p style=\"margin:0pt; text-align:justify\"><span style=\"font-family:Times New Roman; font-size:11pt\">&#xa0;</span></p>\\r\\n\\r\\n    <p style=\"margin:0pt; text-align:justify\"><span style=\"font-family:Times New Roman; font-size:11pt\">Algunas publicaciones sugieren que el disulfiram puede aumentar las concentraciones de plomo proveniente de la dieta en cerebro.</span></p>\\r\\n\\r\\n    <p style=\"margin:0pt; text-align:justify\"><span style=\"font-family:Times New Roman; font-size:11pt\">&#xa0;</span></p>\\r\\n\\r\\n    <p style=\"margin:0pt; text-align:justify\"><em><u><span style=\"font-family:Times New Roman; font-size:11pt;\">Otras formas de interacci&#243;n: interferencia en pruebas de laboratorio</span></u></em></p>\\r\\n\\r\\n    <p style=\"margin:0pt; text-align:justify\"><span style=\"font-family:Times New Roman; font-size:11pt\">&#xa0;</span></p>\\r\\n\\r\\n    <p style=\"margin:0pt; text-align:justify\"><span style=\"font-family:Times New Roman; font-size:11pt\">El disulfiram puede disminuir la excreci&#243;n urinaria del &#225;cido vanilmand&#233;lico; aunque no lo suficiente como para interferir en el diagn&#243;stico del feocromocitoma.</span></p>\\r\\n\\r\\n    <p style=\"margin:0pt; text-align:justify\"><span style=\"font-family:Times New Roman; font-size:11pt\">&#xa0;</span></p>\\r\\n\\r\\n    <p style=\"margin:0pt; text-align:justify\"><span style=\"font-family:Times New Roman; font-size:11pt\">El disulfiram puede aumentar las concentraciones urinarias del &#225;cido homovan&#237;lico debido a la inhibici&#243;n de la dopamina-beta-hidroxilasa.</span></p>\\r\\n\\r\\n    <p style=\"margin:0pt; line-height:115%; font-size:11pt\"><span style=\"font-family:Times New Roman; font-size:11pt\">&#xa0;</span></p>\\r\\n  </div>', 'orden': 9}, {'seccion': '4.6', 'titulo': 'Fertilidad, embarazo y lactancia', 'orden': 11}, {'seccion': '4.6.1', 'titulo': 'Embarazo', 'contenido': '<div>\\r\\n    <p style=\"margin:0pt; text-align:justify\"><span style=\"font-family:Times New Roman; font-size:11pt\">No hay estudios adecuados y bien controlados en humanos.</span></p>\\r\\n\\r\\n    <p style=\"margin:0pt; text-align:justify\"><span style=\"font-family:Times New Roman; font-size:11pt\">Deber&#225; evaluarse por el m&#233;dico la relaci&#243;n beneficio/riesgo durante el embarazo y los efectos del alcoholismo durante este per&#237;odo.</span></p>\\r\\n\\r\\n    <p style=\"margin:0pt; line-height:115%; font-size:11pt\"><span style=\"font-family:Times New Roman; font-size:11pt\">&#xa0;</span></p>\\r\\n  </div>', 'orden': 12}, {'seccion': '4.6.2', 'titulo': 'Lactancia', 'contenido': '<div>\\r\\n    <p style=\"margin:0pt; line-height:115%; font-size:11pt\"><span style=\"font-family:Times New Roman; font-size:11pt\">No se dispone de informaci&#243;n suficiente relativa a la exceci&#243;n de disulfiram o de sus metabolitos en la leche materna por lo que se debe decidir si es necesario interrumpir la lactancia o interrumpir el tratamiento tras considerar el beneficio de la lactancia para el ni&#241;o y el beneficio del tratamiento para la madre.</span></p>\\r\\n  </div>', 'orden': 13}, {'seccion': '4.7', 'titulo': 'Efectos sobre la capacidad para conducir y utilizar máquinas', 'contenido': '<div>\\r\\n    <p style=\"margin:0pt; line-height:115%; font-size:11pt\"><span style=\"font-family:Times New Roman; font-size:11pt\">La influencia del disulfiram sobre la capacidad para conducir y utilizar m&#225;quinas es nula o insignificante. A pesar de ello, los pacientes deben tener precauci&#243;n al conducir o manejar maquinaria hasta que est&#233;n seguros que el tratamiento con disulfiram no ocasiona efectos adversos .</span></p>\\r\\n  </div>', 'orden': 15}, {'seccion': '4.8', 'titulo': 'Reacciones adversas', 'contenido': '<div>\\r\\n    <p style=\"margin:0pt; text-align:justify\"><span style=\"font-family:Times New Roman; font-size:11pt\">El disulfiram es, por s&#237; mismo, una sustancia relativamente no t&#243;xica, observ&#225;ndose escasos efectos secundarios cuando se administra s&#243;lo a dosis terap&#233;uticas en animales y seres humanos.</span></p>\\r\\n\\r\\n    <p style=\"margin:0pt; text-align:justify\"><span style=\"font-family:Times New Roman; font-size:11pt\">&#xa0;</span></p>\\r\\n\\r\\n    <p style=\"margin:0pt; text-align:justify\"><span style=\"font-family:Times New Roman; font-size:11pt\">Los efectos secundarios durante la reacci&#243;n disulfiram-alcohol se han descrito en la Secci&#243;n 4.4.</span></p>\\r\\n\\r\\n    <p style=\"margin:0pt; text-align:justify\"><span style=\"font-family:Times New Roman; font-size:11pt\">&#xa0;</span></p>\\r\\n\\r\\n    <p style=\"margin:0pt; text-align:justify\"><span style=\"font-family:Times New Roman; font-size:11pt\">La mayor&#237;a de las reacciones al disulfiram son autolimitadas y no representan un riesgo vital para el paciente.</span></p>\\r\\n\\r\\n    <p style=\"margin:0pt; text-align:justify\"><span style=\"font-family:Times New Roman; font-size:11pt\">&#xa0;</span></p>\\r\\n\\r\\n    <p style=\"margin:0pt; text-align:justify\"><span style=\"font-family:Times New Roman; font-size:11pt\">Un n&#250;mero reducido de pacientes pueden experimentar adormeciendo leve transitorio, fatiga, impotencia, cefaleas, erupciones acneiformes, dermatitis al&#233;rgica, o sabor met&#225;lico o a ajo durante las dos primeras semanas de tratamiento. Estos s&#237;ntomas suelen desaparecer espont&#225;neamente con la continuaci&#243;n del tratamiento o la reducci&#243;n de la posolog&#237;a.</span></p>\\r\\n\\r\\n    <p style=\"margin:0pt; text-align:justify\"><span style=\"font-family:Times New Roman; font-size:11pt\">&#xa0;</span></p>\\r\\n\\r\\n    <p style=\"margin:0pt; text-align:justify\"><span style=\"font-family:Times New Roman; font-size:11pt\">Reacciones adversas ordenadas seg&#250;n frecuencia de aparici&#243;n:</span></p>\\r\\n\\r\\n    <p style=\"margin:0pt; text-align:justify\"><span style=\"font-family:Times New Roman; font-size:11pt\">&#xa0;</span></p>\\r\\n\\r\\n    <p style=\"margin:0pt; text-align:justify\"><u><span style=\"font-family:Times New Roman; font-size:11pt;\">Trastornos psiqui&#225;tricos:</span></u></p>\\r\\n\\r\\n    <ul type=\"disc\" style=\"margin:0pt; padding-left:0pt\">\\r\\n      <li style=\"margin:0pt 0pt 0pt 26.66pt; text-indent:0pt; text-align:justify; padding-left:9.34pt; font-family:serif; font-size:11pt\"><em><span style=\"font-family:Times New Roman; font-size:11pt;\">Muy raras (&#60;1/10.000): Episodios psic&#243;ticos</span></em><span style=\"font-family:Times New Roman; font-size:11pt\">, incluyendo, paranoia, esquizofrenia..</span></li>\\r\\n\\r\\n      <li style=\"margin:0pt 0pt 0pt 26.66pt; text-indent:0pt; text-align:justify; padding-left:9.34pt; font-family:serif; font-size:11pt\"><em><span style=\"font-family:Times New Roman; font-size:11pt;\">Frecuentes (&#8805;1/100 a &#60;1/10)</span></em><span style=\"font-family:Times New Roman; font-size:11pt\">: depresi&#243;n, man&#237;a.</span></li>\\r\\n    </ul>\\r\\n\\r\\n    <p style=\"margin:0pt; text-align:justify\"><span style=\"font-family:Times New Roman; font-size:11pt\">&#xa0;</span></p>\\r\\n\\r\\n    <p style=\"margin:0pt; text-align:justify\"><u><span style=\"font-family:Times New Roman; font-size:11pt;\">Trastornos del sistema nervioso:</span></u></p>\\r\\n\\r\\n    <ul type=\"disc\" style=\"margin:0pt; padding-left:0pt\">\\r\\n      <li style=\"margin:0pt 0pt 0pt 26.66pt; text-indent:0pt; text-align:justify; padding-left:9.34pt; font-family:serif; font-size:11pt\"><em><span style=\"font-family:Times New Roman; font-size:11pt;\">Frecuentes (&#8805;1/100 a &#60;1/10)</span></em><span style=\"font-family:Times New Roman; font-size:11pt\">: Somnolencia, cefalea, neuritis perif&#233;rica (1), neuritis &#243;ptica, polineuritis.</span></li>\\r\\n\\r\\n      <li style=\"margin:0pt 0pt 0pt 26.66pt; text-indent:0pt; text-align:justify; padding-left:9.34pt; font-family:serif; font-size:11pt\"><em><span style=\"font-family:Times New Roman; font-size:11pt;\">Poco frecuentes (&#8805;1/1000 a &#60;1/100)</span></em><span style=\"font-family:Times New Roman; font-size:11pt\">: Fatiga, reacciones dist&#243;nicas</span><span style=\"font-family:Times New Roman; font-size:11pt\">,</span></li>\\r\\n\\r\\n      <li style=\"margin:0pt 0pt 0pt 26.66pt; text-indent:0pt; text-align:justify; padding-left:9.34pt; font-family:serif; font-size:11pt\"><em><span style=\"font-family:Times New Roman; font-size:11pt;\">Muy raras (&#60;1/10.000):</span></em> <span style=\"font-family:Times New Roman; font-size:11pt\">cambios en el humor, crisis convulsivas, confusi&#243;n.</span></li>\\r\\n    </ul>\\r\\n\\r\\n    <p style=\"margin:0pt; text-align:justify\"><span style=\"font-family:Times New Roman; font-size:11pt\">&#xa0;</span></p>\\r\\n\\r\\n    <p style=\"margin:0pt; text-align:justify\"><u><span style=\"font-family:Times New Roman; font-size:11pt;\">Trastornos oculares:</span></u></p>\\r\\n\\r\\n    <ul type=\"disc\" style=\"margin:0pt; padding-left:0pt\">\\r\\n      <li style=\"margin:0pt 0pt 0pt 26.66pt; text-indent:0pt; text-align:justify; padding-left:9.34pt; font-family:serif; font-size:11pt\"><em><span style=\"font-family:Times New Roman; font-size:11pt;\">Raras (&#8805;1/10.000 a &#60;1/1.000)</span></em><span style=\"font-family:Times New Roman; font-size:11pt\">: Cambios en la visi&#243;n.</span></li>\\r\\n\\r\\n      <li style=\"margin:0pt 0pt 0pt 26.66pt; text-indent:0pt; text-align:justify; padding-left:9.34pt; font-family:serif; font-size:11pt\"><em><span style=\"font-family:Times New Roman; font-size:11pt;\">Frecuencia no conocida (no puede estimarse a partir de los datos disponibles)</span></em><span style=\"font-family:Times New Roman; font-size:11pt\">: edema papilarceguera.</span></li>\\r\\n    </ul>\\r\\n\\r\\n    <p style=\"margin:0pt; text-align:justify\"><span style=\"font-family:Times New Roman; font-size:11pt\">&#xa0;</span></p>\\r\\n\\r\\n    <p style=\"margin:0pt; text-align:justify\"><u><span style=\"font-family:Times New Roman; font-size:11pt;\">Trastornos gastrointestinales:</span></u></p>\\r\\n\\r\\n    <ul type=\"disc\" style=\"margin:0pt; padding-left:0pt\">\\r\\n      <li style=\"margin:0pt 0pt 0pt 26.66pt; text-indent:0pt; text-align:justify; padding-left:9.34pt; font-family:serif; font-size:11pt\"><em><span style=\"font-family:Times New Roman; font-size:11pt;\">Frecuentes (&#8805;1/100 a &#60;1/10)</span></em><span style=\"font-family:Times New Roman; font-size:11pt\">: Nauseas, v&#243;mitos, diarrea.</span></li>\\r\\n    </ul>\\r\\n\\r\\n    <p style=\"margin:0pt; text-align:justify\"><span style=\"font-family:Times New Roman; font-size:11pt\">&#xa0;</span></p>\\r\\n\\r\\n    <p style=\"margin:0pt; text-align:justify\"><u><span style=\"font-family:Times New Roman; font-size:11pt;\">Trastornos hepatobiliares:</span></u></p>\\r\\n\\r\\n    <ul type=\"disc\" style=\"margin:0pt; padding-left:0pt\">\\r\\n      <li style=\"margin:0pt 0pt 0pt 26.66pt; text-indent:0pt; text-align:justify; padding-left:9.34pt; font-family:serif; font-size:11pt\"><em><span style=\"font-family:Times New Roman; font-size:11pt;\">Frecuentes (&#8805;1/100 a &#60;1/10)</span></em><span style=\"font-family:Times New Roman; font-size:11pt\">: Alteraciones en las determinaciones de funci&#243;n hep&#225;tica con aumento en las transaminasas y la bilirrubina.</span></li>\\r\\n\\r\\n      <li style=\"margin:0pt 0pt 0pt 26.66pt; text-indent:0pt; text-align:justify; padding-left:9.34pt; font-family:serif; font-size:11pt\"><em><span style=\"font-family:Times New Roman; font-size:11pt;\">Muy raras (&#60;1/10.000):</span></em><span style=\"font-family:Times New Roman; font-size:11pt\">Hepatitis, hepatotoxicidad, da&#241;o hepatocelular, hepatitis fulminante y necrosis hep&#225;tica, la cual puede originar fallo hep&#225;tico, coma hep&#225;tico y muerte. Los efectos sobre el sistema hepatobiliar generalmente aparecen a los 2 primeros meses de tratamiento.</span></li>\\r\\n    </ul>\\r\\n\\r\\n    <p style=\"margin:0pt; text-align:justify\"><span style=\"font-family:Times New Roman; font-size:11pt\">&#xa0;</span></p>\\r\\n\\r\\n    <p style=\"margin:0pt; text-align:justify\"><u><span style=\"font-family:Times New Roman; font-size:11pt;\">Trastornos de la piel y del tejido subcut&#225;neo (2):</span></u></p>\\r\\n\\r\\n    <ul type=\"disc\" style=\"margin:0pt; padding-left:0pt\">\\r\\n      <li style=\"margin:0pt 0pt 0pt 26.66pt; text-indent:0pt; text-align:justify; padding-left:9.34pt; font-family:serif; font-size:11pt\"><em><span style=\"font-family:Times New Roman; font-size:11pt;\">Poc</span></em><em><span style=\"font-family:Times New Roman; font-size:11pt;\">o frecuentes (&#8805;1/1.000 a &#60;1/100)</span></em><span style=\"font-family:Times New Roman; font-size:11pt\">: Dermatitis al&#233;rgica.</span></li>\\r\\n\\r\\n      <li style=\"margin:0pt 0pt 0pt 26.66pt; text-indent:0pt; text-align:justify; padding-left:9.34pt; font-family:serif; font-size:11pt\"><em><span style=\"font-family:Times New Roman; font-size:11pt;\">Raras (&#8805;1/10.000 a &#60;1/1.000)</span></em><span style=\"font-family:Times New Roman; font-size:11pt\">: coloraci&#243;n amarillenta de la piel.</span></li>\\r\\n\\r\\n      <li style=\"margin:0pt 0pt 0pt 26.66pt; text-indent:0pt; text-align:justify; padding-left:9.34pt; font-family:serif; font-size:11pt\"><em><span style=\"font-family:Times New Roman; font-size:11pt;\">Frecuencia no conocida (no puede estimarse a partir de los datos disponibles)</span></em><span style=\"font-family:Times New Roman; font-size:11pt\">: erupciones acneiformes. Se han descrito casos de fototo</span><span style=\"font-family:Times New Roman; font-size:11pt\">xicidad.</span></li>\\r\\n    </ul>\\r\\n\\r\\n    <p style=\"margin:0pt; text-align:justify\"><span style=\"font-family:Times New Roman; font-size:11pt\">&#xa0;</span></p>\\r\\n\\r\\n    <p style=\"margin:0pt; text-align:justify\"><u><span style=\"font-family:Times New Roman; font-size:11pt;\">Trastornos del aparato reproductor y de la mama:</span></u></p>\\r\\n\\r\\n    <ul type=\"disc\" style=\"margin:0pt; padding-left:0pt\">\\r\\n      <li style=\"margin:0pt 0pt 0pt 26.66pt; text-indent:0pt; text-align:justify; padding-left:9.34pt; font-family:serif; font-size:11pt\"><em><span style=\"font-family:Times New Roman; font-size:11pt;\">Raras (&#8805;1/10.000 a &#60;1/1.000)</span></em><span style=\"font-family:Times New Roman; font-size:11pt\">: Reducci&#243;n de la l&#237;bido.</span></li>\\r\\n\\r\\n      <li style=\"margin:0pt 0pt 0pt 26.66pt; text-indent:0pt; text-align:justify; padding-left:9.34pt; font-family:serif; font-size:11pt\"><em><span style=\"font-family:Times New Roman; font-size:11pt;\">Frecuencia no conocida (no puede estimarse a partir de los datos disponibles)</span></em><span style=\"font-family:Times New Roman; font-size:11pt\">: disfunci&#243;n er&#233;ctil.</span></li>\\r\\n    </ul>\\r\\n\\r\\n    <p style=\"margin:0pt; text-align:justify\"><span style=\"font-family:Times New Roman; font-size:11pt\">&#xa0;</span></p>\\r\\n\\r\\n    <p style=\"margin:0pt; text-align:justify\"><u><span style=\"font-family:Times New Roman; font-size:11pt;\">Trastornos cong&#233;nitos:</span></u></p>\\r\\n\\r\\n    <ul type=\"disc\" style=\"margin:0pt; padding-left:0pt\">\\r\\n      <li style=\"margin:0pt 0pt 0pt 26.66pt; text-indent:0pt; text-align:justify; padding-left:9.34pt; font-family:serif; font-size:11pt\"><em><span style=\"font-family:Times New Roman; font-size:11pt;\">Frecuencia no c</span></em><em><span style=\"font-family:Times New Roman; font-size:11pt;\">onocida (no puede estimarse a partir de los datos disponibles)</span></em><span style=\"font-family:Times New Roman; font-size:11pt\">: se han descrito algunos casos de malformaciones cong&#233;nitas durante el tratamiento con disulfiram.</span></li>\\r\\n    </ul>\\r\\n\\r\\n    <p style=\"margin:0pt; text-align:justify\"><span style=\"font-family:Times New Roman; font-size:11pt\">&#xa0;</span></p>\\r\\n\\r\\n    <p style=\"margin:0pt; text-align:justify\"><u><span style=\"font-family:Times New Roman; font-size:11pt;\">Trastornos del metabolismo:</span></u></p>\\r\\n\\r\\n    <ul type=\"disc\" style=\"margin:0pt; padding-left:0pt\">\\r\\n      <li style=\"margin:0pt 0pt 0pt 26.66pt; text-indent:0pt; text-align:justify; padding-left:9.34pt; font-family:serif; font-size:11pt\"><em><span style=\"font-family:Times New Roman; font-size:11pt;\">Frecuencia no conocida (no puede estimarse a partir de los datos disponibles)</span></em><span style=\"font-family:Times New Roman; font-size:11pt\">: elevaci&#243;n del colesterol.</span></li>\\r\\n    </ul>\\r\\n\\r\\n    <p style=\"margin:0pt; text-align:justify\"><span style=\"font-family:Times New Roman; font-size:11pt\">&#xa0;</span></p>\\r\\n\\r\\n    <p style=\"margin:0pt; text-align:justify\"><u><span style=\"font-family:Times New Roman; font-size:11pt;\">Trastornos card&#237;acos:</span></u></p>\\r\\n\\r\\n    <ul type=\"disc\" style=\"margin:0pt; padding-left:0pt\">\\r\\n      <li style=\"margin:0pt 0pt 0pt 26.66pt; text-indent:0pt; text-align:justify; padding-left:9.34pt; font-family:serif; font-size:11pt\"><em><span style=\"font-family:Times New Roman; font-size:11pt;\">Frecuencia no conocida (no puede estimarse a partir de los datos disponibles)</span></em><span style=\"font-family:Times New Roman; font-size:11pt\">: taquicardia con cambios en el ECG asociados.</span></li>\\r\\n    </ul>\\r\\n\\r\\n    <p style=\"margin:0pt; text-align:justify\"><span style=\"font-family:Times New Roman; font-size:11pt\">&#xa0;</span></p>\\r\\n\\r\\n    <p style=\"margin:0pt; text-align:justify\"><u><span style=\"font-family:Times New Roman; font-size:11pt;\">Trastornos vasculares</span></u><span style=\"font-family:Times New Roman; font-size:11pt\">:</span></p>\\r\\n\\r\\n    <ul type=\"disc\" style=\"margin:0pt; padding-left:0pt\">\\r\\n      <li style=\"margin:0pt 0pt 0pt 26.66pt; text-indent:0pt; text-align:justify; padding-left:9.34pt; font-family:serif; font-size:11pt\"><em><span style=\"font-family:Times New Roman; font-size:11pt;\">Frecuencia no conocida (no puede</span></em> <em><span style=\"font-family:Times New Roman; font-size:11pt;\">estimarse a partir de los datos disponibles)</span></em><span style=\"font-family:Times New Roman; font-size:11pt\">: hipertensi&#243;n arterial.</span></li>\\r\\n    </ul>\\r\\n\\r\\n    <p style=\"margin:0pt; text-align:justify\"><span style=\"font-family:Times New Roman; font-size:11pt\">&#xa0;</span></p>\\r\\n\\r\\n    <p style=\"margin:0pt; text-align:justify\"><u><span style=\"font-family:Times New Roman; font-size:11pt;\">Trastornos generales:</span></u></p>\\r\\n\\r\\n    <ul type=\"disc\" style=\"margin:0pt; padding-left:0pt\">\\r\\n      <li style=\"margin:0pt 0pt 0pt 26.66pt; text-indent:0pt; text-align:justify; padding-left:9.34pt; font-family:serif; font-size:11pt\"><em><span style=\"font-family:Times New Roman; font-size:11pt;\">Frecuentes (&#8805;1/100 a &#60;1/10)</span></em><span style=\"font-family:Times New Roman; font-size:11pt\">: Adormecimiento, fatiga, malestar general, halitosis, dolor abdominal, p&#233;rdida del gusto, sabor met&#225;lico o a ajo.</span></li>\\r\\n    </ul>\\r\\n\\r\\n    <p style=\"margin:0pt; text-align:justify\"><span style=\"font-family:Times New Roman; font-size:11pt\">&#xa0;</span></p>\\r\\n\\r\\n    <p style=\"margin:0pt; text-align:justify\"><span style=\"font-family:Times New Roman; font-size:11pt\">&#xa0;</span></p>\\r\\n\\r\\n    <ol type=\"1\" style=\"margin:0pt; padding-left:0pt\">\\r\\n      <li style=\"margin:0pt 0pt 0pt 52.91pt; text-indent:0pt; text-align:justify; padding-left:1.09pt; font-family:Times New Roman; font-size:11pt\"><span style=\"font-family:Times New Roman; font-size:11pt\">Los pacientes sometidos a mantenimiento con disulfiram 500 mg/d&#237;a tienden a desarrollar neuropat&#237;a perif&#233;rica. Esta neuropat&#237;a mejora cuando se retira el tratamiento con disulfiram.</span></li>\\r\\n    </ol>\\r\\n\\r\\n    <p style=\"margin:0pt; text-align:justify\"><span style=\"font-family:Times New Roman; font-size:11pt\">&#xa0;</span></p>\\r\\n\\r\\n    <p style=\"margin:0pt 0pt 0pt 36pt; text-align:justify\"><span style=\"font-family:Times New Roman; font-size:11pt\">(2) Como regla general, las erupciones cut&#225;neas ocasionales se controlan f&#225;cilmente mediante la administraci&#243;n simult&#225;nea de un antihistam&#237;nico.</span></p>\\r\\n\\r\\n    <p style=\"margin:0pt; text-align:justify\"><span style=\"font-family:Times New Roman; font-size:11pt\">&#xa0;</span></p>\\r\\n\\r\\n    <p style=\"margin:0pt; text-align:justify\"><span style=\"font-family:Times New Roman; font-size:11pt\">&#xa0;</span></p>\\r\\n\\r\\n    <p style=\"margin:0pt; text-align:justify\"><u><span style=\"font-family:Times New Roman; font-size:11pt;\">Notificaci&#243;n de sospechas de reacciones adversas</span></u></p>\\r\\n\\r\\n    <p style=\"margin:0pt; text-align:justify\"><span style=\"font-family:Times New Roman; font-size:11pt\">&#xa0;</span></p>\\r\\n\\r\\n    <p style=\"margin:0pt; text-align:justify\"><span style=\"font-family:Times New Roman; font-size:11pt\">Es importante notificar las sospechas de reacciones adversas al medicamento tras su autorizaci&#243;n. Ello permite una supervisi&#243;n continuada de la relaci&#243;n beneficio/riesgo del medicamento. Se invita a los profesionales sanitarios a notificar las sospechas de reacciones adversas a trav&#233;s del Sistema Espa&#241;ol de Farmacovigilancia de Medicamentos de Uso Humano (Websiwww.notificaram.es).</span></p>\\r\\n\\r\\n    <p style=\"margin:0pt; line-height:115%; font-size:11pt\"><span style=\"font-family:Times New Roman; font-size:11pt\">&#xa0;</span></p>\\r\\n  </div>', 'orden': 16}, {'seccion': '4.9', 'titulo': 'Sobredosis', 'contenido': '<div>\\r\\n    <p style=\"margin:0pt; text-align:justify\"><span style=\"font-family:Times New Roman; font-size:11pt\">Dosis elevadas de disulfiram (hasta 6 g/d&#237;a) poseen una baja toxicidad en humanos. Los s&#237;ntomas de sobredosis incluyen v&#243;mitos, cefaleas, apat&#237;a, ataxia, irritabilidad, alucinaciones, psicosis, p&#233;rdida de consciencia y convulsiones. La muerte aparece por fallo respiratorio, precedida por par&#225;lisis ascendente y lesiones patol&#243;gicas en h&#237;gado, bazo, ri&#241;ones y SNC, con congesti&#243;n en gl&#225;ndula adrenal y edema en m&#250;sculo card&#237;aco. En animales se han observado lesiones similares con la administraci&#243;n cr&#243;nica.</span></p>\\r\\n\\r\\n    <p style=\"margin:0pt; text-align:justify\"><span style=\"font-family:Times New Roman; font-size:11pt\">&#xa0;</span></p>\\r\\n\\r\\n    <p style=\"margin:0pt; text-align:justify\"><span style=\"font-family:Times New Roman; font-size:11pt\">La intoxicaci&#243;n por disulfiram debe tratarse en primer lugar mediante la inducci&#243;n de la emesis o aspiraci&#243;n y lavado g&#225;strico cuando la ingesta de disulfiram es reciente. No hay una un tratamiento espec&#237;fico para la sobredosis aguda con disulfiram, por lo que se instaurar&#225;n medidas sintom&#225;ticas y de soporte y se mantendr&#225;n durante el tiempo que sea necesario (ver Secci&#243;n 4.4).</span></p>\\r\\n\\r\\n    <p style=\"margin:0pt; text-align:justify\"><span style=\"font-family:Times New Roman; font-size:11pt\">&#xa0;</span></p>\\r\\n\\r\\n    <p style=\"margin:0pt; text-align:justify\"><span style=\"font-family:Times New Roman; font-size:11pt\">Las alteraciones gastrointestinales o neurol&#243;gicas deben tratarse sintom&#225;ticamente y el paciente debe abstenerse de la ingesta de alcohol durante 14 d&#237;as, como m&#237;nimo, tras la suspensi&#243;n de disulfiram.</span></p>\\r\\n\\r\\n    <p style=\"margin:0pt; text-align:justify\"><span style=\"font-family:Times New Roman; font-size:11pt\">&#xa0;</span></p>\\r\\n\\r\\n    <p style=\"margin:0pt; text-align:justify\"><span style=\"font-family:Times New Roman; font-size:11pt\">En caso de reacciones graves, ya sea por una dosis excesiva o por la ingesta de alcohol con disulfiram, deben instaurarse las medidas de sost&#233;n adecuadas para restablecer la tensi&#243;n arterial y tratar el shock. Otras recomendaciones incluyen: ox&#237;geno, carb&#243;geno (95% de ox&#237;geno y 5% de di&#243;xido de carbono), vitamina C a dosis masivas (1 g) por v&#237;a intravenosa y sulfato de efedrina. Tambi&#233;n se han administrado antihistam&#237;nicos por v&#237;a intravenosa.</span></p>\\r\\n\\r\\n    <p style=\"margin:0pt; text-align:justify\"><span style=\"font-family:Times New Roman; font-size:11pt\">&#xa0;</span></p>\\r\\n\\r\\n    <p style=\"margin:0pt; text-align:justify\"><span style=\"font-family:Times New Roman; font-size:11pt\">Deben monitorizarse los niveles de potasio, especialmente en pacientes tratados con digital, ya que se han descrito casos de hipocalemia.</span></p>\\r\\n\\r\\n    <p style=\"margin:0pt; line-height:115%; font-size:11pt\"><span style=\"font-family:Times New Roman; font-size:11pt\">&#xa0;</span></p>\\r\\n  </div>', 'orden': 18}, {'seccion': '5', 'titulo': 'PROPIEDADES FARMACOLÓGICAS', 'orden': 1}, {'seccion': '5.1', 'titulo': 'Propiedades farmacodinámicas', 'contenido': '<div>\\r\\n    <p style=\"margin:0pt; text-align:justify\"><span style=\"font-family:Times New Roman; font-size:11pt\">Grupo farmacoterap&#233;utico: F&#225;rmacos usados en la dependencia al alcohol &#8211; Disulfiram, c&#243;digo ATC: N07BB01.</span></p>\\r\\n\\r\\n    <p style=\"margin:0pt; text-align:justify\"><span style=\"font-family:Times New Roman; font-size:11pt\">&#xa0;</span></p>\\r\\n\\r\\n    <p style=\"margin:0pt; text-align:justify\"><span style=\"font-family:Times New Roman; font-size:11pt\">El disulfiram act&#250;a como disuasorio del consumo de alcohol en pacientes que necesitan una ayuda en el tratamiento del alcoholismo cr&#243;nico.</span></p>\\r\\n\\r\\n    <p style=\"margin:0pt; text-align:justify\"><span style=\"font-family:Times New Roman; font-size:11pt\">&#xa0;</span></p>\\r\\n\\r\\n    <p style=\"margin:0pt; text-align:justify\"><span style=\"font-family:Times New Roman; font-size:11pt\">El etanol se metaboliza a acetaldeh&#237;do por la encima alcohol-deshidrogenasa, y este acetaldeh&#237;do se metaboliza a acetato por la aldeh&#237;do-deshidrogenasa.</span></p>\\r\\n\\r\\n    <p style=\"margin:0pt; text-align:justify\"><span style=\"font-family:Times New Roman; font-size:11pt\">El disulfiram produce una inhibici&#243;n irreversible de la enzima aldeh&#237;do-deshidrogenasa (ALDH). La acumulaci&#243;n de acetaldeh&#237;do en sangre contribuye a la reacci&#243;n que aparece despu&#233;s de la ingesta de alcohol en pacientes tratados con disulfiram (ver Secci&#243;n 4.4), reacci&#243;n tambi&#233;n conocida como efecto Antabus.</span></p>\\r\\n\\r\\n    <p style=\"margin:0pt; text-align:justify\"><span style=\"font-family:Times New Roman; font-size:11pt\">&#xa0;</span></p>\\r\\n\\r\\n    <p style=\"margin:0pt; text-align:justify\"><span style=\"font-family:Times New Roman; font-size:11pt\">Existen publicaciones que sugieren que a la reacci&#243;n disulfiram-etanol contribuyen tambi&#233;n tres metabolitos del disulfiram.</span></p>\\r\\n\\r\\n    <p style=\"margin:0pt; text-align:justify\"><span style=\"font-family:Times New Roman; font-size:11pt\">Se cree que el disulfiram se metaboliza r&#225;pidamente despu&#233;s de su ingesta reduci&#233;ndose a dietilditiocarbamato. Tanto &#233;ste como el disulfiram son metabolizados a &#225;cido dietilditiocarb&#225;mico el cual se degrada r&#225;pidamente a dietilamina y disulfuro de carbono. El &#225;cido ditiditiocarb&#225;mico sufre a su vez un metabolismo de fase dos dando lugar a dietilditiometilcarbamato y &#225;cido glucur&#243;nido de dietilditiocarb&#225;mico.</span></p>\\r\\n\\r\\n    <p style=\"margin:0pt; text-align:justify\"><span style=\"font-family:Times New Roman; font-size:11pt\">Finalmente el dietilditiometilcarbamato se oxida a</span> <strong><span style=\"font-family:Times New Roman; font-size:11pt;\">dietiltiometilcarbamato</span></strong> <span style=\"font-family:Times New Roman; font-size:11pt\">(Me-DTC) y &#233;ste a su vez se metaboliza dando lugar a su</span> <strong><span style=\"font-family:Times New Roman; font-size:11pt;\">sulf&#243;xido y sulfona</span></strong><span style=\"font-family:Times New Roman; font-size:11pt\">.</span></p>\\r\\n\\r\\n    <p style=\"margin:0pt; text-align:justify\"><span style=\"font-family:Times New Roman; font-size:11pt\">&#xa0;</span></p>\\r\\n\\r\\n    <p style=\"margin:0pt; text-align:justify\"><span style=\"font-family:Times New Roman; font-size:11pt\">El Me-DTC se considera inhibidor suicida de la ALDH 1 con una potencia inhibitoria muy inferior a la inhibici&#243;n ejercida por sus dos metabolitos, quienes se unen de manera irreversible a la ALDH 1 y ALDH 2 a trav&#233;s de un enlace covalente con el residuo de ciste&#237;na del sitio activo de la enzima.</span></p>\\r\\n\\r\\n    <p style=\"margin:0pt; text-align:justify\"><span style=\"font-family:Times New Roman; font-size:11pt\">&#xa0;</span></p>\\r\\n\\r\\n    <p style=\"margin:0pt; text-align:justify\"><span style=\"font-family:Times New Roman; font-size:11pt\">Despu&#233;s de aproximadamente 4 h, la concentraci&#243;n de Me-DTC alcanza su m&#225;ximo, pero el m&#225;ximo efecto de la inhibici&#243;n enzim&#225;tica (aldeh&#237;do deshidrogenasa -ALDH-) se obtiene despu&#233;s de 3 d&#237;as de tratamiento. La vida media plasm&#225;tica para el Me-DTC es de aproximadamente 10 horas, pero el efecto de inhibici&#243;n enzim&#225;tica de la ALDH es considerablemente mayor.</span></p>\\r\\n\\r\\n    <p style=\"margin:0pt; text-align:justify\"><span style=\"font-family:Times New Roman; font-size:11pt\">&#xa0;</span></p>\\r\\n\\r\\n    <p style=\"margin:0pt; text-align:justify\"><span style=\"font-family:Times New Roman; font-size:11pt\">A pesar de que est&#225; aceptado que la acumulaci&#243;n de acetaldeh&#237;do origina la reacci&#243;n disulfiram-etanol, hay que recordar que la reacci&#243;n puede ser originada por un compuesto cuaternario t&#243;xico</span><em><span style=\"font-family:Times New Roman; font-size:11pt;\">.</span></em></p>\\r\\n\\r\\n    <p style=\"margin:0pt; text-align:justify\"><span style=\"font-family:Times New Roman; font-size:11pt\">&#xa0;</span></p>\\r\\n\\r\\n    <p style=\"margin:0pt; text-align:justify\"><span style=\"font-family:Times New Roman; font-size:11pt\">El restablecimiento de la actividad enzim&#225;tica es dependiente de una nueva s&#237;ntesis, lo cual aparece gradualmente durante el curso de una semana o m&#225;s.</span></p>\\r\\n\\r\\n    <p style=\"margin:0pt; text-align:justify\"><span style=\"font-family:Times New Roman; font-size:11pt\">&#xa0;</span></p>\\r\\n\\r\\n    <p style=\"margin:0pt; text-align:justify\"><span style=\"font-family:Times New Roman; font-size:11pt\">Adem&#225;s del efecto sobre la ALDH, el disulfiram o sus metabolitos inhiben otros sistemas enzim&#225;ticos:</span></p>\\r\\n\\r\\n    <ul type=\"disc\" style=\"margin:0pt; padding-left:0pt\">\\r\\n      <li style=\"margin:0pt 0pt 0pt 28.06pt; text-indent:0pt; text-align:justify; padding-left:7.94pt; font-family:serif; font-size:11pt\"><span style=\"font-family:Times New Roman; font-size:11pt\">El disulfiram y su metabolito dietilditiocarbamato (DDC) tambi&#233;n inhibe la enzima dopamina-beta-hidroxilasa. Esto origina una disminuci&#243;n de la s&#237;ntesis de noradrenalina, lo cual puede contribuir a la reacci&#243;n.</span></li>\\r\\n    </ul>\\r\\n\\r\\n    <p style=\"margin:0pt; text-align:justify\"><span style=\"font-family:Times New Roman; font-size:11pt\">&#xa0;</span></p>\\r\\n\\r\\n    <ul type=\"disc\" style=\"margin:0pt; padding-left:0pt\">\\r\\n      <li style=\"margin:0pt 0pt 0pt 28.06pt; text-indent:0pt; text-align:justify; padding-left:7.94pt; font-family:serif; font-size:11pt\"><span style=\"font-family:Times New Roman; font-size:11pt\">El disulfiram posee un grupo sulfhidrilo (-SH, tiol) que reacciona e inhibe las enzimas encargadas de la oxidaci&#243;n del sitio activo (grupo -SH) de las prote&#237;nas.</span></li>\\r\\n    </ul>\\r\\n\\r\\n    <p style=\"margin:0pt 0pt 0pt 36pt; text-align:justify\"><span style=\"font-family:Times New Roman; font-size:11pt\">&#xa0;</span></p>\\r\\n\\r\\n    <ul type=\"disc\" style=\"margin:0pt; padding-left:0pt\">\\r\\n      <li style=\"margin:0pt 0pt 0pt 28.06pt; text-indent:0pt; text-align:justify; padding-left:7.94pt; font-family:serif; font-size:11pt\"><span style=\"font-family:Times New Roman; font-size:11pt\">El disulfiram difunde con facilidad al interior celular y aumenta los niveles intracelulares de -SH, y, por tanto, puede actuar sobre las reacciones de oxidaci&#243;n-reducci&#243;n intracelulares. Se ha observado que inhibe las enzimas xantinoxidasa y succinoxidasa.</span></li>\\r\\n    </ul>\\r\\n\\r\\n    <p style=\"margin:0pt 0pt 0pt 36pt; text-align:justify\"><span style=\"font-family:Times New Roman; font-size:11pt\">&#xa0;</span></p>\\r\\n\\r\\n    <ul type=\"disc\" style=\"margin:0pt; padding-left:0pt\">\\r\\n      <li style=\"margin:0pt 0pt 0pt 28.06pt; text-indent:0pt; text-align:justify; padding-left:7.94pt; font-family:serif; font-size:11pt\"><span style=\"font-family:Times New Roman; font-size:11pt\">Se ha observado que el disulfiram posee una acci&#243;n antitiroidea atribuible a la presencia de grupos NCS, comunes a muchos compuestos antitiroideos, que presumiblemente reaccionan con el iodo libre para forma complejos estables.</span></li>\\r\\n    </ul>\\r\\n\\r\\n    <p style=\"margin:0pt; line-height:115%; font-size:11pt\"><span style=\"font-family:Times New Roman; font-size:11pt\">&#xa0;</span></p>\\r\\n  </div>', 'orden': 2}, {'seccion': '5.2', 'titulo': 'Propiedades farmacocinéticas', 'contenido': '<div>\\r\\n    <p style=\"margin:0pt; text-align:justify\"><strong><u><span style=\"font-family:Times New Roman; font-size:11pt;\">El efecto puede persistir durante 7 a 14 d&#237;as despu&#233;s de la retirada del tratamiento. En pacientes en terapia de mantenimiento con disulfiram, la ingesti&#243;n de alcohol origina las reacciones t&#237;picas de disulfiram-alcohol en aproximadamente 5 - 10 minutos.</span></u></strong></p>\\r\\n\\r\\n    <p style=\"margin:0pt; text-align:justify\"><span style=\"font-family:Times New Roman; font-size:11pt\">&#xa0;</span></p>\\r\\n\\r\\n    <p style=\"margin:0pt; text-align:justify\"><span style=\"font-family:Times New Roman; font-size:11pt\">El metabolismo no se ve afectado de forma apreciable por la disminuci&#243;n leve o moderada de la funci&#243;n hep&#225;tica.</span></p>\\r\\n\\r\\n    <p style=\"margin:0pt; text-align:justify\"><span style=\"font-family:Times New Roman; font-size:11pt\">&#xa0;</span></p>\\r\\n\\r\\n    <p style=\"margin:0pt; text-align:justify\"><span style=\"font-family:Times New Roman; font-size:11pt\">Hasta el 20% de la dosis puede permanecer en el organismo durante una semana o m&#225;s.</span></p>\\r\\n\\r\\n    <p style=\"margin:0pt; line-height:115%; font-size:11pt\"><span style=\"font-family:Times New Roman; font-size:11pt\">&#xa0;</span></p>\\r\\n  </div>', 'orden': 7}, {'seccion': '5.2.1', 'titulo': 'Absorción', 'contenido': '<div>\\r\\n    <p style=\"margin:0pt; text-align:justify\"><span style=\"font-family:Times New Roman; font-size:11pt\">La absorci&#243;n del disulfiram desde el tracto gastrointestinal es r&#225;pida pero incompleta</span></p>\\r\\n\\r\\n    <p style=\"margin:0pt; text-align:justify\"><span style=\"font-family:Times New Roman; font-size:11pt\">La biodisponibilidad es del 80-90%</span></p>\\r\\n\\r\\n    <p style=\"margin:0pt; text-align:justify\"><span style=\"font-family:Times New Roman; font-size:11pt\">Es posible que los comprimidos de Antabus tengan una mayor biodisponibilidad cuando se administran con los alimentos.</span></p>\\r\\n\\r\\n    <p style=\"margin:0pt; line-height:115%; font-size:11pt\"><span style=\"font-family:Times New Roman; font-size:11pt\">&#xa0;</span></p>\\r\\n  </div>', 'orden': 8}, {'seccion': '5.2.2', 'titulo': 'Distribución', 'contenido': '<div>\\r\\n    <p style=\"margin:0pt; line-height:115%; font-size:11pt\"><span style=\"font-family:Times New Roman; font-size:11pt\">Debido a su elevada liposolubilidad, el disulfiram se distribuye ampliamente y se acumula en diversos dep&#243;sitos grasos.</span></p>\\r\\n  </div>', 'orden': 9}, {'seccion': '5.2.3', 'titulo': 'Metabolismo o Biotransformación', 'contenido': '<div>\\r\\n    <p style=\"margin:0pt; line-height:115%; font-size:11pt\"><span style=\"font-family:Times New Roman; font-size:11pt\">El disulfiram es r&#225;pidamente metabolizado en est&#243;mago a &#225;cido dietilditiocarb&#225;mico el cual, a trav&#233;s de un metabolismo de fase II da lugar finalmente a dietiltiometilcarbamato (Me-DTC) y &#233;ste a su vez se metaboliza dando lugar a su</span> <strong><span style=\"font-family:Times New Roman; font-size:11pt;\">sulf&#243;xido y sulfona</span></strong><span style=\"font-family:Times New Roman; font-size:11pt\">. Estos tres metabolitos son considerados activos (ver secci&#243;n 5.1).</span></p>\\r\\n  </div>', 'orden': 10}, {'seccion': '5.2.4', 'titulo': 'Eliminación', 'contenido': '<div>\\r\\n    <p style=\"margin:0pt; text-align:justify\"><em><span style=\"font-family:Times New Roman; font-size:11pt;\">Excreci&#243;n:</span></em></p>\\r\\n\\r\\n    <p style=\"margin:0pt; text-align:justify\"><span style=\"font-family:Times New Roman; font-size:11pt\">El 5-20% de la dosis ingerida de disulfiram no es absorbida y se excreta en las heces sin modificar.</span></p>\\r\\n\\r\\n    <p style=\"margin:0pt; text-align:justify\"><span style=\"font-family:Times New Roman; font-size:11pt\">El 70-76% de la dosis se elimina por orina ya metabolizado.</span></p>\\r\\n\\r\\n    <p style=\"margin:0pt; text-align:justify\"><span style=\"font-family:Times New Roman; font-size:11pt\">Una peque&#241;a parte puede eliminarse por los pulmones en el aire espirado en forma de disulfuro carb&#243;nico.</span></p>\\r\\n\\r\\n    <p style=\"margin:0pt; text-align:justify\"><span style=\"font-family:Times New Roman; font-size:11pt\">&#xa0;</span></p>\\r\\n\\r\\n    <p style=\"margin:0pt; text-align:justify\"><em><span style=\"font-family:Times New Roman; font-size:11pt;\">Eliminaci&#243;n:</span></em></p>\\r\\n\\r\\n    <p style=\"margin:0pt; text-align:justify\"><span style=\"font-family:Times New Roman; font-size:11pt\">La semivida de aproximadamente 60-120 horas.</span></p>\\r\\n\\r\\n    <p style=\"margin:0pt; line-height:115%; font-size:11pt\"><span style=\"font-family:Times New Roman; font-size:11pt\">&#xa0;</span></p>\\r\\n  </div>', 'orden': 11}, {'seccion': '5.3', 'titulo': 'Datos preclínicos sobre seguridad', 'contenido': '<div>\\r\\n    <p style=\"margin:0pt; text-align:justify\"><span style=\"font-family:Times New Roman; font-size:11pt\">Disulfiram no aument&#243; significativamente el n&#250;mero de aberraciones cromos&#243;micas de linfocitos cultivados in vitro y de linfocitos de pacientes tratados con este compuesto. Sin embargo, disulfiram indujo intercambio de crom&#225;tidas hermanas en las c&#233;lulas de la m&#233;dula &#243;sea y en las espermatogon&#237;as de ratones tratados con dosis de 800 y 200-800 mg/kg, respectivamente.</span></p>\\r\\n\\r\\n    <p style=\"margin:0pt; text-align:justify\"><span style=\"font-family:Times New Roman; font-size:11pt\">No existen datos en animales con relaci&#243;n al potencial carcinog&#233;nico y de toxicidad reproductiva de disulfiram.</span></p>\\r\\n\\r\\n    <p style=\"margin:0pt; line-height:115%; font-size:11pt\"><span style=\"font-family:Times New Roman; font-size:11pt\">&#xa0;</span></p>\\r\\n  </div>', 'orden': 14}, {'seccion': '6', 'titulo': 'DATOS FARMACÉUTICOS', 'orden': 1}, {'seccion': '6.1', 'titulo': 'Lista de excipientes', 'contenido': '<div>\\r\\n    <p style=\"margin:0pt; line-height:115%; font-size:11pt\"><span style=\"font-family:Times New Roman; font-size:11pt\">Estearato de Magnesio, Celulosa Microcristalina PH-101, Talco, Povidona K30, S&#237;lice coloidal anhidra, Fosfato c&#225;lcico dib&#225;sico dihidrato, Carboximetil Almid&#243;n S&#243;dico Tipo A (almid&#243;n de patata).</span></p>\\r\\n  </div>', 'orden': 2}, {'seccion': '6.2', 'titulo': 'Incompatibilidades', 'contenido': '<div>\\r\\n    <p style=\"margin:0pt; line-height:115%; font-size:11pt\"><span style=\"font-family:Times New Roman; font-size:11pt\">No procede.</span></p>\\r\\n  </div>', 'orden': 3}, {'seccion': '6.3', 'titulo': 'Periodo de validez', 'contenido': '<div>\\r\\n    <p style=\"margin:0pt; line-height:115%; font-size:11pt\"><span style=\"font-family:Times New Roman; font-size:11pt\">5 a&#241;os.</span></p>\\r\\n  </div>', 'orden': 4}, {'seccion': '6.4', 'titulo': 'Precauciones especiales de conservación', 'contenido': '<div>\\r\\n    <p style=\"margin:0pt; line-height:115%; font-size:11pt\"><span style=\"font-family:Times New Roman; font-size:11pt\">No requiere condiciones especiales de conservaci&#243;n.</span></p>\\r\\n  </div>', 'orden': 5}, {'seccion': '6.5', 'titulo': 'Naturaleza y contenido del envase', 'contenido': '<div>\\r\\n    <p style=\"margin:0pt; line-height:115%; font-size:11pt\"><span style=\"font-family:Times New Roman; font-size:11pt\">Antabus 250 mg comprimidos se presenta en bl&#237;sters de PVC blanco/aluminio conteniendo 40 comprimidos por envase.</span></p>\\r\\n  </div>', 'orden': 6}, {'seccion': '6.6', 'titulo': 'Precauciones especiales de eliminación y otras manipulaciones', 'contenido': '<div>\\r\\n    <p style=\"margin:0pt; text-align:justify\"><span style=\"font-family:Times New Roman; font-size:11pt\">Ninguna especial.</span></p>\\r\\n\\r\\n    <p style=\"margin:0pt; text-align:justify\"><span style=\"font-family:Times New Roman; font-size:11pt\">&#xa0;</span></p>\\r\\n\\r\\n    <p style=\"margin:0pt; text-align:justify\"><span style=\"font-family:Times New Roman; font-size:11pt\">La eliminaci&#243;n del medicamento no utilizado y de todos los materiales que hayan estado en contacto con &#233;l, se realizar&#225; de acuerdo con la normativa local.</span></p>\\r\\n\\r\\n    <p style=\"margin:0pt; line-height:115%; font-size:11pt\"><span style=\"font-family:Times New Roman; font-size:11pt\">&#xa0;</span></p>\\r\\n  </div>', 'orden': 7}, {'seccion': '7', 'titulo': 'TITULAR DE LA AUTORIZACIÓN DE COMERCIALIZACIÓN', 'contenido': '<div>\\r\\n    <p style=\"margin:0pt\"><span style=\"font-family:Times New Roman; font-size:11pt\">LABORATORIOS BOHM, S.A.</span></p>\\r\\n\\r\\n    <p style=\"margin:0pt\"><span style=\"font-family:Times New Roman; font-size:11pt\">C/ Molinaseca 23-25. Pol&#237;gono Industrial Cobo Calleja.</span></p>\\r\\n\\r\\n    <p style=\"margin:0pt\"><span style=\"font-family:Times New Roman; font-size:11pt\">28947 Fuenlabrada (Madrid)</span></p>\\r\\n\\r\\n    <p style=\"margin:0pt\"><span style=\"font-family:Times New Roman; font-size:11pt\">91 642 18 18</span></p>\\r\\n  </div>', 'orden': 1}, {'seccion': '8', 'titulo': 'NÚMERO(S) DE AUTORIZACIÓN DE COMERCIALIZACIÓN', 'contenido': '<div>\\r\\n    <p style=\"margin:0pt; line-height:115%; font-size:11pt\"><span style=\"font-family:Times New Roman; font-size:11pt\">12.723</span></p>\\r\\n  </div>', 'orden': 1}, {'seccion': '9', 'titulo': 'FECHA DE LA PRIMERA AUTORIZACIÓN/ RENOVACIÓN DE LA AUTORIZACIÓN', 'contenido': '<div>\\r\\n    <p style=\"margin:0pt; line-height:115%; font-size:11pt\"><span style=\"font-family:Times New Roman; font-size:11pt\">Fecha de la primera autorizaci&#243;n: 28 Octubre 1949</span></p>\\r\\n  </div>', 'orden': 1}, {'seccion': '10', 'titulo': 'FECHA DE LA REVISIÓN DEL TEXTO', 'contenido': '<div>\\r\\n    <p style=\"margin:0pt; line-height:115%; font-size:11pt\"><span style=\"font-family:Times New Roman; font-size:11pt\">Mayo 2014</span></p>\\r\\n  </div>', 'orden': 1}]\n"
     ]
    }
   ],
   "source": [
    "all_data = []\n",
    "for element in os.listdir(info):\n",
    "    nregistro = int(element[:-5])\n",
    "    print(nregistro)\n",
    "    data = read_medicamento_info(os.path.join(info,element))\n",
    "    all_data.append(data)\n",
    "    print(data)\n",
    "    break"
   ]
  },
  {
   "cell_type": "markdown",
   "metadata": {},
   "source": [
    "Lectura de todos los medicamentos que tenemos en la carpeta info, en este caso se enseña el nregistro del medicamento, "
   ]
  },
  {
   "cell_type": "code",
   "execution_count": 8,
   "metadata": {},
   "outputs": [
    {
     "name": "stdout",
     "output_type": "stream",
     "text": [
      "Antabus 250 mg comprimidos ,  Antabus\n"
     ]
    }
   ],
   "source": [
    "name_original = utils.extract_and_clean_text(data[0][\"contenido\"])\n",
    "name = utils.extract_text_before_number(name_original)\n",
    "text = utils.extract_and_clean_text(data[14][\"contenido\"])\n",
    "print(name_original,\", \",name)"
   ]
  },
  {
   "cell_type": "code",
   "execution_count": 9,
   "metadata": {},
   "outputs": [
    {
     "data": {
      "text/html": [
       "<div>\r\n",
       "    <p style=\"margin:0pt; text-align:justify\"><span style=\"font-family:Times New Roman; font-size:11pt\">El disulfiram es, por s&#237; mismo, una sustancia relativamente no t&#243;xica, observ&#225;ndose escasos efectos secundarios cuando se administra s&#243;lo a dosis terap&#233;uticas en animales y seres humanos.</span></p>\r\n",
       "\r\n",
       "    <p style=\"margin:0pt; text-align:justify\"><span style=\"font-family:Times New Roman; font-size:11pt\">&#xa0;</span></p>\r\n",
       "\r\n",
       "    <p style=\"margin:0pt; text-align:justify\"><span style=\"font-family:Times New Roman; font-size:11pt\">Los efectos secundarios durante la reacci&#243;n disulfiram-alcohol se han descrito en la Secci&#243;n 4.4.</span></p>\r\n",
       "\r\n",
       "    <p style=\"margin:0pt; text-align:justify\"><span style=\"font-family:Times New Roman; font-size:11pt\">&#xa0;</span></p>\r\n",
       "\r\n",
       "    <p style=\"margin:0pt; text-align:justify\"><span style=\"font-family:Times New Roman; font-size:11pt\">La mayor&#237;a de las reacciones al disulfiram son autolimitadas y no representan un riesgo vital para el paciente.</span></p>\r\n",
       "\r\n",
       "    <p style=\"margin:0pt; text-align:justify\"><span style=\"font-family:Times New Roman; font-size:11pt\">&#xa0;</span></p>\r\n",
       "\r\n",
       "    <p style=\"margin:0pt; text-align:justify\"><span style=\"font-family:Times New Roman; font-size:11pt\">Un n&#250;mero reducido de pacientes pueden experimentar adormeciendo leve transitorio, fatiga, impotencia, cefaleas, erupciones acneiformes, dermatitis al&#233;rgica, o sabor met&#225;lico o a ajo durante las dos primeras semanas de tratamiento. Estos s&#237;ntomas suelen desaparecer espont&#225;neamente con la continuaci&#243;n del tratamiento o la reducci&#243;n de la posolog&#237;a.</span></p>\r\n",
       "\r\n",
       "    <p style=\"margin:0pt; text-align:justify\"><span style=\"font-family:Times New Roman; font-size:11pt\">&#xa0;</span></p>\r\n",
       "\r\n",
       "    <p style=\"margin:0pt; text-align:justify\"><span style=\"font-family:Times New Roman; font-size:11pt\">Reacciones adversas ordenadas seg&#250;n frecuencia de aparici&#243;n:</span></p>\r\n",
       "\r\n",
       "    <p style=\"margin:0pt; text-align:justify\"><span style=\"font-family:Times New Roman; font-size:11pt\">&#xa0;</span></p>\r\n",
       "\r\n",
       "    <p style=\"margin:0pt; text-align:justify\"><u><span style=\"font-family:Times New Roman; font-size:11pt;\">Trastornos psiqui&#225;tricos:</span></u></p>\r\n",
       "\r\n",
       "    <ul type=\"disc\" style=\"margin:0pt; padding-left:0pt\">\r\n",
       "      <li style=\"margin:0pt 0pt 0pt 26.66pt; text-indent:0pt; text-align:justify; padding-left:9.34pt; font-family:serif; font-size:11pt\"><em><span style=\"font-family:Times New Roman; font-size:11pt;\">Muy raras (&#60;1/10.000): Episodios psic&#243;ticos</span></em><span style=\"font-family:Times New Roman; font-size:11pt\">, incluyendo, paranoia, esquizofrenia..</span></li>\r\n",
       "\r\n",
       "      <li style=\"margin:0pt 0pt 0pt 26.66pt; text-indent:0pt; text-align:justify; padding-left:9.34pt; font-family:serif; font-size:11pt\"><em><span style=\"font-family:Times New Roman; font-size:11pt;\">Frecuentes (&#8805;1/100 a &#60;1/10)</span></em><span style=\"font-family:Times New Roman; font-size:11pt\">: depresi&#243;n, man&#237;a.</span></li>\r\n",
       "    </ul>\r\n",
       "\r\n",
       "    <p style=\"margin:0pt; text-align:justify\"><span style=\"font-family:Times New Roman; font-size:11pt\">&#xa0;</span></p>\r\n",
       "\r\n",
       "    <p style=\"margin:0pt; text-align:justify\"><u><span style=\"font-family:Times New Roman; font-size:11pt;\">Trastornos del sistema nervioso:</span></u></p>\r\n",
       "\r\n",
       "    <ul type=\"disc\" style=\"margin:0pt; padding-left:0pt\">\r\n",
       "      <li style=\"margin:0pt 0pt 0pt 26.66pt; text-indent:0pt; text-align:justify; padding-left:9.34pt; font-family:serif; font-size:11pt\"><em><span style=\"font-family:Times New Roman; font-size:11pt;\">Frecuentes (&#8805;1/100 a &#60;1/10)</span></em><span style=\"font-family:Times New Roman; font-size:11pt\">: Somnolencia, cefalea, neuritis perif&#233;rica (1), neuritis &#243;ptica, polineuritis.</span></li>\r\n",
       "\r\n",
       "      <li style=\"margin:0pt 0pt 0pt 26.66pt; text-indent:0pt; text-align:justify; padding-left:9.34pt; font-family:serif; font-size:11pt\"><em><span style=\"font-family:Times New Roman; font-size:11pt;\">Poco frecuentes (&#8805;1/1000 a &#60;1/100)</span></em><span style=\"font-family:Times New Roman; font-size:11pt\">: Fatiga, reacciones dist&#243;nicas</span><span style=\"font-family:Times New Roman; font-size:11pt\">,</span></li>\r\n",
       "\r\n",
       "      <li style=\"margin:0pt 0pt 0pt 26.66pt; text-indent:0pt; text-align:justify; padding-left:9.34pt; font-family:serif; font-size:11pt\"><em><span style=\"font-family:Times New Roman; font-size:11pt;\">Muy raras (&#60;1/10.000):</span></em> <span style=\"font-family:Times New Roman; font-size:11pt\">cambios en el humor, crisis convulsivas, confusi&#243;n.</span></li>\r\n",
       "    </ul>\r\n",
       "\r\n",
       "    <p style=\"margin:0pt; text-align:justify\"><span style=\"font-family:Times New Roman; font-size:11pt\">&#xa0;</span></p>\r\n",
       "\r\n",
       "    <p style=\"margin:0pt; text-align:justify\"><u><span style=\"font-family:Times New Roman; font-size:11pt;\">Trastornos oculares:</span></u></p>\r\n",
       "\r\n",
       "    <ul type=\"disc\" style=\"margin:0pt; padding-left:0pt\">\r\n",
       "      <li style=\"margin:0pt 0pt 0pt 26.66pt; text-indent:0pt; text-align:justify; padding-left:9.34pt; font-family:serif; font-size:11pt\"><em><span style=\"font-family:Times New Roman; font-size:11pt;\">Raras (&#8805;1/10.000 a &#60;1/1.000)</span></em><span style=\"font-family:Times New Roman; font-size:11pt\">: Cambios en la visi&#243;n.</span></li>\r\n",
       "\r\n",
       "      <li style=\"margin:0pt 0pt 0pt 26.66pt; text-indent:0pt; text-align:justify; padding-left:9.34pt; font-family:serif; font-size:11pt\"><em><span style=\"font-family:Times New Roman; font-size:11pt;\">Frecuencia no conocida (no puede estimarse a partir de los datos disponibles)</span></em><span style=\"font-family:Times New Roman; font-size:11pt\">: edema papilarceguera.</span></li>\r\n",
       "    </ul>\r\n",
       "\r\n",
       "    <p style=\"margin:0pt; text-align:justify\"><span style=\"font-family:Times New Roman; font-size:11pt\">&#xa0;</span></p>\r\n",
       "\r\n",
       "    <p style=\"margin:0pt; text-align:justify\"><u><span style=\"font-family:Times New Roman; font-size:11pt;\">Trastornos gastrointestinales:</span></u></p>\r\n",
       "\r\n",
       "    <ul type=\"disc\" style=\"margin:0pt; padding-left:0pt\">\r\n",
       "      <li style=\"margin:0pt 0pt 0pt 26.66pt; text-indent:0pt; text-align:justify; padding-left:9.34pt; font-family:serif; font-size:11pt\"><em><span style=\"font-family:Times New Roman; font-size:11pt;\">Frecuentes (&#8805;1/100 a &#60;1/10)</span></em><span style=\"font-family:Times New Roman; font-size:11pt\">: Nauseas, v&#243;mitos, diarrea.</span></li>\r\n",
       "    </ul>\r\n",
       "\r\n",
       "    <p style=\"margin:0pt; text-align:justify\"><span style=\"font-family:Times New Roman; font-size:11pt\">&#xa0;</span></p>\r\n",
       "\r\n",
       "    <p style=\"margin:0pt; text-align:justify\"><u><span style=\"font-family:Times New Roman; font-size:11pt;\">Trastornos hepatobiliares:</span></u></p>\r\n",
       "\r\n",
       "    <ul type=\"disc\" style=\"margin:0pt; padding-left:0pt\">\r\n",
       "      <li style=\"margin:0pt 0pt 0pt 26.66pt; text-indent:0pt; text-align:justify; padding-left:9.34pt; font-family:serif; font-size:11pt\"><em><span style=\"font-family:Times New Roman; font-size:11pt;\">Frecuentes (&#8805;1/100 a &#60;1/10)</span></em><span style=\"font-family:Times New Roman; font-size:11pt\">: Alteraciones en las determinaciones de funci&#243;n hep&#225;tica con aumento en las transaminasas y la bilirrubina.</span></li>\r\n",
       "\r\n",
       "      <li style=\"margin:0pt 0pt 0pt 26.66pt; text-indent:0pt; text-align:justify; padding-left:9.34pt; font-family:serif; font-size:11pt\"><em><span style=\"font-family:Times New Roman; font-size:11pt;\">Muy raras (&#60;1/10.000):</span></em><span style=\"font-family:Times New Roman; font-size:11pt\">Hepatitis, hepatotoxicidad, da&#241;o hepatocelular, hepatitis fulminante y necrosis hep&#225;tica, la cual puede originar fallo hep&#225;tico, coma hep&#225;tico y muerte. Los efectos sobre el sistema hepatobiliar generalmente aparecen a los 2 primeros meses de tratamiento.</span></li>\r\n",
       "    </ul>\r\n",
       "\r\n",
       "    <p style=\"margin:0pt; text-align:justify\"><span style=\"font-family:Times New Roman; font-size:11pt\">&#xa0;</span></p>\r\n",
       "\r\n",
       "    <p style=\"margin:0pt; text-align:justify\"><u><span style=\"font-family:Times New Roman; font-size:11pt;\">Trastornos de la piel y del tejido subcut&#225;neo (2):</span></u></p>\r\n",
       "\r\n",
       "    <ul type=\"disc\" style=\"margin:0pt; padding-left:0pt\">\r\n",
       "      <li style=\"margin:0pt 0pt 0pt 26.66pt; text-indent:0pt; text-align:justify; padding-left:9.34pt; font-family:serif; font-size:11pt\"><em><span style=\"font-family:Times New Roman; font-size:11pt;\">Poc</span></em><em><span style=\"font-family:Times New Roman; font-size:11pt;\">o frecuentes (&#8805;1/1.000 a &#60;1/100)</span></em><span style=\"font-family:Times New Roman; font-size:11pt\">: Dermatitis al&#233;rgica.</span></li>\r\n",
       "\r\n",
       "      <li style=\"margin:0pt 0pt 0pt 26.66pt; text-indent:0pt; text-align:justify; padding-left:9.34pt; font-family:serif; font-size:11pt\"><em><span style=\"font-family:Times New Roman; font-size:11pt;\">Raras (&#8805;1/10.000 a &#60;1/1.000)</span></em><span style=\"font-family:Times New Roman; font-size:11pt\">: coloraci&#243;n amarillenta de la piel.</span></li>\r\n",
       "\r\n",
       "      <li style=\"margin:0pt 0pt 0pt 26.66pt; text-indent:0pt; text-align:justify; padding-left:9.34pt; font-family:serif; font-size:11pt\"><em><span style=\"font-family:Times New Roman; font-size:11pt;\">Frecuencia no conocida (no puede estimarse a partir de los datos disponibles)</span></em><span style=\"font-family:Times New Roman; font-size:11pt\">: erupciones acneiformes. Se han descrito casos de fototo</span><span style=\"font-family:Times New Roman; font-size:11pt\">xicidad.</span></li>\r\n",
       "    </ul>\r\n",
       "\r\n",
       "    <p style=\"margin:0pt; text-align:justify\"><span style=\"font-family:Times New Roman; font-size:11pt\">&#xa0;</span></p>\r\n",
       "\r\n",
       "    <p style=\"margin:0pt; text-align:justify\"><u><span style=\"font-family:Times New Roman; font-size:11pt;\">Trastornos del aparato reproductor y de la mama:</span></u></p>\r\n",
       "\r\n",
       "    <ul type=\"disc\" style=\"margin:0pt; padding-left:0pt\">\r\n",
       "      <li style=\"margin:0pt 0pt 0pt 26.66pt; text-indent:0pt; text-align:justify; padding-left:9.34pt; font-family:serif; font-size:11pt\"><em><span style=\"font-family:Times New Roman; font-size:11pt;\">Raras (&#8805;1/10.000 a &#60;1/1.000)</span></em><span style=\"font-family:Times New Roman; font-size:11pt\">: Reducci&#243;n de la l&#237;bido.</span></li>\r\n",
       "\r\n",
       "      <li style=\"margin:0pt 0pt 0pt 26.66pt; text-indent:0pt; text-align:justify; padding-left:9.34pt; font-family:serif; font-size:11pt\"><em><span style=\"font-family:Times New Roman; font-size:11pt;\">Frecuencia no conocida (no puede estimarse a partir de los datos disponibles)</span></em><span style=\"font-family:Times New Roman; font-size:11pt\">: disfunci&#243;n er&#233;ctil.</span></li>\r\n",
       "    </ul>\r\n",
       "\r\n",
       "    <p style=\"margin:0pt; text-align:justify\"><span style=\"font-family:Times New Roman; font-size:11pt\">&#xa0;</span></p>\r\n",
       "\r\n",
       "    <p style=\"margin:0pt; text-align:justify\"><u><span style=\"font-family:Times New Roman; font-size:11pt;\">Trastornos cong&#233;nitos:</span></u></p>\r\n",
       "\r\n",
       "    <ul type=\"disc\" style=\"margin:0pt; padding-left:0pt\">\r\n",
       "      <li style=\"margin:0pt 0pt 0pt 26.66pt; text-indent:0pt; text-align:justify; padding-left:9.34pt; font-family:serif; font-size:11pt\"><em><span style=\"font-family:Times New Roman; font-size:11pt;\">Frecuencia no c</span></em><em><span style=\"font-family:Times New Roman; font-size:11pt;\">onocida (no puede estimarse a partir de los datos disponibles)</span></em><span style=\"font-family:Times New Roman; font-size:11pt\">: se han descrito algunos casos de malformaciones cong&#233;nitas durante el tratamiento con disulfiram.</span></li>\r\n",
       "    </ul>\r\n",
       "\r\n",
       "    <p style=\"margin:0pt; text-align:justify\"><span style=\"font-family:Times New Roman; font-size:11pt\">&#xa0;</span></p>\r\n",
       "\r\n",
       "    <p style=\"margin:0pt; text-align:justify\"><u><span style=\"font-family:Times New Roman; font-size:11pt;\">Trastornos del metabolismo:</span></u></p>\r\n",
       "\r\n",
       "    <ul type=\"disc\" style=\"margin:0pt; padding-left:0pt\">\r\n",
       "      <li style=\"margin:0pt 0pt 0pt 26.66pt; text-indent:0pt; text-align:justify; padding-left:9.34pt; font-family:serif; font-size:11pt\"><em><span style=\"font-family:Times New Roman; font-size:11pt;\">Frecuencia no conocida (no puede estimarse a partir de los datos disponibles)</span></em><span style=\"font-family:Times New Roman; font-size:11pt\">: elevaci&#243;n del colesterol.</span></li>\r\n",
       "    </ul>\r\n",
       "\r\n",
       "    <p style=\"margin:0pt; text-align:justify\"><span style=\"font-family:Times New Roman; font-size:11pt\">&#xa0;</span></p>\r\n",
       "\r\n",
       "    <p style=\"margin:0pt; text-align:justify\"><u><span style=\"font-family:Times New Roman; font-size:11pt;\">Trastornos card&#237;acos:</span></u></p>\r\n",
       "\r\n",
       "    <ul type=\"disc\" style=\"margin:0pt; padding-left:0pt\">\r\n",
       "      <li style=\"margin:0pt 0pt 0pt 26.66pt; text-indent:0pt; text-align:justify; padding-left:9.34pt; font-family:serif; font-size:11pt\"><em><span style=\"font-family:Times New Roman; font-size:11pt;\">Frecuencia no conocida (no puede estimarse a partir de los datos disponibles)</span></em><span style=\"font-family:Times New Roman; font-size:11pt\">: taquicardia con cambios en el ECG asociados.</span></li>\r\n",
       "    </ul>\r\n",
       "\r\n",
       "    <p style=\"margin:0pt; text-align:justify\"><span style=\"font-family:Times New Roman; font-size:11pt\">&#xa0;</span></p>\r\n",
       "\r\n",
       "    <p style=\"margin:0pt; text-align:justify\"><u><span style=\"font-family:Times New Roman; font-size:11pt;\">Trastornos vasculares</span></u><span style=\"font-family:Times New Roman; font-size:11pt\">:</span></p>\r\n",
       "\r\n",
       "    <ul type=\"disc\" style=\"margin:0pt; padding-left:0pt\">\r\n",
       "      <li style=\"margin:0pt 0pt 0pt 26.66pt; text-indent:0pt; text-align:justify; padding-left:9.34pt; font-family:serif; font-size:11pt\"><em><span style=\"font-family:Times New Roman; font-size:11pt;\">Frecuencia no conocida (no puede</span></em> <em><span style=\"font-family:Times New Roman; font-size:11pt;\">estimarse a partir de los datos disponibles)</span></em><span style=\"font-family:Times New Roman; font-size:11pt\">: hipertensi&#243;n arterial.</span></li>\r\n",
       "    </ul>\r\n",
       "\r\n",
       "    <p style=\"margin:0pt; text-align:justify\"><span style=\"font-family:Times New Roman; font-size:11pt\">&#xa0;</span></p>\r\n",
       "\r\n",
       "    <p style=\"margin:0pt; text-align:justify\"><u><span style=\"font-family:Times New Roman; font-size:11pt;\">Trastornos generales:</span></u></p>\r\n",
       "\r\n",
       "    <ul type=\"disc\" style=\"margin:0pt; padding-left:0pt\">\r\n",
       "      <li style=\"margin:0pt 0pt 0pt 26.66pt; text-indent:0pt; text-align:justify; padding-left:9.34pt; font-family:serif; font-size:11pt\"><em><span style=\"font-family:Times New Roman; font-size:11pt;\">Frecuentes (&#8805;1/100 a &#60;1/10)</span></em><span style=\"font-family:Times New Roman; font-size:11pt\">: Adormecimiento, fatiga, malestar general, halitosis, dolor abdominal, p&#233;rdida del gusto, sabor met&#225;lico o a ajo.</span></li>\r\n",
       "    </ul>\r\n",
       "\r\n",
       "    <p style=\"margin:0pt; text-align:justify\"><span style=\"font-family:Times New Roman; font-size:11pt\">&#xa0;</span></p>\r\n",
       "\r\n",
       "    <p style=\"margin:0pt; text-align:justify\"><span style=\"font-family:Times New Roman; font-size:11pt\">&#xa0;</span></p>\r\n",
       "\r\n",
       "    <ol type=\"1\" style=\"margin:0pt; padding-left:0pt\">\r\n",
       "      <li style=\"margin:0pt 0pt 0pt 52.91pt; text-indent:0pt; text-align:justify; padding-left:1.09pt; font-family:Times New Roman; font-size:11pt\"><span style=\"font-family:Times New Roman; font-size:11pt\">Los pacientes sometidos a mantenimiento con disulfiram 500 mg/d&#237;a tienden a desarrollar neuropat&#237;a perif&#233;rica. Esta neuropat&#237;a mejora cuando se retira el tratamiento con disulfiram.</span></li>\r\n",
       "    </ol>\r\n",
       "\r\n",
       "    <p style=\"margin:0pt; text-align:justify\"><span style=\"font-family:Times New Roman; font-size:11pt\">&#xa0;</span></p>\r\n",
       "\r\n",
       "    <p style=\"margin:0pt 0pt 0pt 36pt; text-align:justify\"><span style=\"font-family:Times New Roman; font-size:11pt\">(2) Como regla general, las erupciones cut&#225;neas ocasionales se controlan f&#225;cilmente mediante la administraci&#243;n simult&#225;nea de un antihistam&#237;nico.</span></p>\r\n",
       "\r\n",
       "    <p style=\"margin:0pt; text-align:justify\"><span style=\"font-family:Times New Roman; font-size:11pt\">&#xa0;</span></p>\r\n",
       "\r\n",
       "    <p style=\"margin:0pt; text-align:justify\"><span style=\"font-family:Times New Roman; font-size:11pt\">&#xa0;</span></p>\r\n",
       "\r\n",
       "    <p style=\"margin:0pt; text-align:justify\"><u><span style=\"font-family:Times New Roman; font-size:11pt;\">Notificaci&#243;n de sospechas de reacciones adversas</span></u></p>\r\n",
       "\r\n",
       "    <p style=\"margin:0pt; text-align:justify\"><span style=\"font-family:Times New Roman; font-size:11pt\">&#xa0;</span></p>\r\n",
       "\r\n",
       "    <p style=\"margin:0pt; text-align:justify\"><span style=\"font-family:Times New Roman; font-size:11pt\">Es importante notificar las sospechas de reacciones adversas al medicamento tras su autorizaci&#243;n. Ello permite una supervisi&#243;n continuada de la relaci&#243;n beneficio/riesgo del medicamento. Se invita a los profesionales sanitarios a notificar las sospechas de reacciones adversas a trav&#233;s del Sistema Espa&#241;ol de Farmacovigilancia de Medicamentos de Uso Humano (Websiwww.notificaram.es).</span></p>\r\n",
       "\r\n",
       "    <p style=\"margin:0pt; line-height:115%; font-size:11pt\"><span style=\"font-family:Times New Roman; font-size:11pt\">&#xa0;</span></p>\r\n",
       "  </div>"
      ],
      "text/plain": [
       "<IPython.core.display.HTML object>"
      ]
     },
     "metadata": {},
     "output_type": "display_data"
    }
   ],
   "source": [
    "def bar(text):\n",
    "    from IPython.display import display, HTML\n",
    "    chart = HTML(text)\n",
    "    # or chart = charts.plot(...)\n",
    "    display(chart)\n",
    "    return chart\n",
    "\n",
    "chart = bar(data[14][\"contenido\"])"
   ]
  },
  {
   "cell_type": "code",
   "execution_count": 10,
   "metadata": {},
   "outputs": [],
   "source": [
    "## Este metodo se encarga de quitar las etiquetas del html y eliminar tabs\n",
    "\n",
    "# TODO:\n",
    "#   - Mirar si funciona con todos los tipos de punto 4.8\n",
    "\n",
    "from bs4 import BeautifulSoup\n",
    "import re\n",
    "\n",
    "html_content = data[14][\"contenido\"]\n",
    "# Parse the HTML content\n",
    "soup = BeautifulSoup(html_content, 'html.parser')\n",
    "\n",
    "# Extract text and filter out empty lines\n",
    "text = soup.get_text(separator='\\n').strip()\n",
    "cleaned_text = re.sub(r'\\xa0', '', text)\n",
    "\n",
    "lines = re.split(r'\\n{2,}', cleaned_text)\n",
    "for index,element in enumerate(lines):\n",
    "    cleaned_text = re.sub(r'\\n', '', element)\n",
    "    lines[index] = cleaned_text\n",
    "\n",
    "cleaned_text = '\\n'.join(lines)"
   ]
  },
  {
   "cell_type": "code",
   "execution_count": 11,
   "metadata": {},
   "outputs": [
    {
     "data": {
      "text/plain": [
       "['El disulfiram es, por sí mismo, una sustancia relativamente no tóxica, observándose escasos efectos secundarios cuando se administra sólo a dosis terapéuticas en animales y seres humanos.',\n",
       " 'Los efectos secundarios durante la reacción disulfiram-alcohol se han descrito en la Sección 4.4.',\n",
       " 'La mayoría de las reacciones al disulfiram son autolimitadas y no representan un riesgo vital para el paciente.',\n",
       " 'Un número reducido de pacientes pueden experimentar adormeciendo leve transitorio, fatiga, impotencia, cefaleas, erupciones acneiformes, dermatitis alérgica, o sabor metálico o a ajo durante las dos primeras semanas de tratamiento. Estos síntomas suelen desaparecer espontáneamente con la continuación del tratamiento o la reducción de la posología.',\n",
       " 'Reacciones adversas ordenadas según frecuencia de aparición:',\n",
       " 'Trastornos psiquiátricos:',\n",
       " 'Muy raras (<1/10.000): Episodios psicóticos, incluyendo, paranoia, esquizofrenia..',\n",
       " 'Frecuentes (≥1/100 a <1/10): depresión, manía.',\n",
       " 'Trastornos del sistema nervioso:',\n",
       " 'Frecuentes (≥1/100 a <1/10): Somnolencia, cefalea, neuritis periférica (1), neuritis óptica, polineuritis.',\n",
       " 'Poco frecuentes (≥1/1000 a <1/100): Fatiga, reacciones distónicas,',\n",
       " 'Muy raras (<1/10.000): cambios en el humor, crisis convulsivas, confusión.',\n",
       " 'Trastornos oculares:',\n",
       " 'Raras (≥1/10.000 a <1/1.000): Cambios en la visión.',\n",
       " 'Frecuencia no conocida (no puede estimarse a partir de los datos disponibles): edema papilarceguera.',\n",
       " 'Trastornos gastrointestinales:',\n",
       " 'Frecuentes (≥1/100 a <1/10): Nauseas, vómitos, diarrea.',\n",
       " 'Trastornos hepatobiliares:',\n",
       " 'Frecuentes (≥1/100 a <1/10): Alteraciones en las determinaciones de función hepática con aumento en las transaminasas y la bilirrubina.',\n",
       " 'Muy raras (<1/10.000):Hepatitis, hepatotoxicidad, daño hepatocelular, hepatitis fulminante y necrosis hepática, la cual puede originar fallo hepático, coma hepático y muerte. Los efectos sobre el sistema hepatobiliar generalmente aparecen a los 2 primeros meses de tratamiento.',\n",
       " 'Trastornos de la piel y del tejido subcutáneo (2):',\n",
       " 'Poco frecuentes (≥1/1.000 a <1/100): Dermatitis alérgica.',\n",
       " 'Raras (≥1/10.000 a <1/1.000): coloración amarillenta de la piel.',\n",
       " 'Frecuencia no conocida (no puede estimarse a partir de los datos disponibles): erupciones acneiformes. Se han descrito casos de fototoxicidad.',\n",
       " 'Trastornos del aparato reproductor y de la mama:',\n",
       " 'Raras (≥1/10.000 a <1/1.000): Reducción de la líbido.',\n",
       " 'Frecuencia no conocida (no puede estimarse a partir de los datos disponibles): disfunción eréctil.',\n",
       " 'Trastornos congénitos:',\n",
       " 'Frecuencia no conocida (no puede estimarse a partir de los datos disponibles): se han descrito algunos casos de malformaciones congénitas durante el tratamiento con disulfiram.',\n",
       " 'Trastornos del metabolismo:',\n",
       " 'Frecuencia no conocida (no puede estimarse a partir de los datos disponibles): elevación del colesterol.',\n",
       " 'Trastornos cardíacos:',\n",
       " 'Frecuencia no conocida (no puede estimarse a partir de los datos disponibles): taquicardia con cambios en el ECG asociados.',\n",
       " 'Trastornos vasculares:',\n",
       " 'Frecuencia no conocida (no puede estimarse a partir de los datos disponibles): hipertensión arterial.',\n",
       " 'Trastornos generales:',\n",
       " 'Frecuentes (≥1/100 a <1/10): Adormecimiento, fatiga, malestar general, halitosis, dolor abdominal, pérdida del gusto, sabor metálico o a ajo.',\n",
       " 'Los pacientes sometidos a mantenimiento con disulfiram 500 mg/día tienden a desarrollar neuropatía periférica. Esta neuropatía mejora cuando se retira el tratamiento con disulfiram.',\n",
       " '(2) Como regla general, las erupciones cutáneas ocasionales se controlan fácilmente mediante la administración simultánea de un antihistamínico.',\n",
       " 'Notificación de sospechas de reacciones adversas',\n",
       " 'Es importante notificar las sospechas de reacciones adversas al medicamento tras su autorización. Ello permite una supervisión continuada de la relación beneficio/riesgo del medicamento. Se invita a los profesionales sanitarios a notificar las sospechas de reacciones adversas a través del Sistema Español de Farmacovigilancia de Medicamentos de Uso Humano (Websiwww.notificaram.es).']"
      ]
     },
     "execution_count": 11,
     "metadata": {},
     "output_type": "execute_result"
    }
   ],
   "source": [
    "lines"
   ]
  },
  {
   "cell_type": "code",
   "execution_count": 13,
   "metadata": {},
   "outputs": [
    {
     "data": {
      "text/plain": [
       "'el disulfiram es, por sí mismo, una sustancia relativamente no tóxica, observándose escasos efectos secundarios cuando se administra sólo a dosis terapéuticas en animales y seres humanos\\nlos efectos secundarios durante la reacción disulfiram-alcohol se han descrito en la sección 44\\nla mayoría de las reacciones al disulfiram son autolimitadas y no representan un riesgo vital para el paciente\\nun número reducido de pacientes pueden experimentar adormeciendo leve transitorio, fatiga, impotencia, cefaleas, erupciones acneiformes, dermatitis alérgica, o sabor metálico o a ajo durante las dos primeras semanas de tratamiento estos síntomas suelen desaparecer espontáneamente con la continuación del tratamiento o la reducción de la posología\\nreacciones adversas ordenadas según frecuencia de aparición:\\ntrastornos psiquiátricos:\\nmuy raras (<1/10000): episodios psicóticos, incluyendo, paranoia, esquizofrenia\\nfrecuentes (≥1/100 a <1/10): depresión, manía\\ntrastornos del sistema nervioso:\\nfrecuentes (≥1/100 a <1/10): somnolencia, cefalea, neuritis periférica (1), neuritis óptica, polineuritis\\npoco frecuentes (≥1/1000 a <1/100): fatiga, reacciones distónicas,\\nmuy raras (<1/10000): cambios en el humor, crisis convulsivas, confusión\\ntrastornos oculares:\\nraras (≥1/10000 a <1/1000): cambios en la visión\\nfrecuencia no conocida (no puede estimarse a partir de los datos disponibles): edema papilarceguera\\ntrastornos gastrointestinales:\\nfrecuentes (≥1/100 a <1/10): nauseas, vómitos, diarrea\\ntrastornos hepatobiliares:\\nfrecuentes (≥1/100 a <1/10): alteraciones en las determinaciones de función hepática con aumento en las transaminasas y la bilirrubina\\nmuy raras (<1/10000):hepatitis, hepatotoxicidad, daño hepatocelular, hepatitis fulminante y necrosis hepática, la cual puede originar fallo hepático, coma hepático y muerte los efectos sobre el sistema hepatobiliar generalmente aparecen a los 2 primeros meses de tratamiento\\ntrastornos de la piel y del tejido subcutáneo (2):\\npoco frecuentes (≥1/1000 a <1/100): dermatitis alérgica\\nraras (≥1/10000 a <1/1000): coloración amarillenta de la piel\\nfrecuencia no conocida (no puede estimarse a partir de los datos disponibles): erupciones acneiformes se han descrito casos de fototoxicidad\\ntrastornos del aparato reproductor y de la mama:\\nraras (≥1/10000 a <1/1000): reducción de la líbido\\nfrecuencia no conocida (no puede estimarse a partir de los datos disponibles): disfunción eréctil\\ntrastornos congénitos:\\nfrecuencia no conocida (no puede estimarse a partir de los datos disponibles): se han descrito algunos casos de malformaciones congénitas durante el tratamiento con disulfiram\\ntrastornos del metabolismo:\\nfrecuencia no conocida (no puede estimarse a partir de los datos disponibles): elevación del colesterol\\ntrastornos cardíacos:\\nfrecuencia no conocida (no puede estimarse a partir de los datos disponibles): taquicardia con cambios en el ecg asociados\\ntrastornos vasculares:\\nfrecuencia no conocida (no puede estimarse a partir de los datos disponibles): hipertensión arterial\\ntrastornos generales:\\nfrecuentes (≥1/100 a <1/10): adormecimiento, fatiga, malestar general, halitosis, dolor abdominal, pérdida del gusto, sabor metálico o a ajo\\nlos pacientes sometidos a mantenimiento con disulfiram 500 mg/día tienden a desarrollar neuropatía periférica esta neuropatía mejora cuando se retira el tratamiento con disulfiram\\n(2) como regla general, las erupciones cutáneas ocasionales se controlan fácilmente mediante la administración simultánea de un antihistamínico\\nnotificación de sospechas de reacciones adversas\\nes importante notificar las sospechas de reacciones adversas al medicamento tras su autorización ello permite una supervisión continuada de la relación beneficio/riesgo del medicamento se invita a los profesionales sanitarios a notificar las sospechas de reacciones adversas a través del sistema español de farmacovigilancia de medicamentos de uso humano (websiwwwnotificarames)'"
      ]
     },
     "execution_count": 13,
     "metadata": {},
     "output_type": "execute_result"
    }
   ],
   "source": [
    "# Remove capital letters and periods\n",
    "low_not_dots = ''.join([char for char in cleaned_text.lower() if char != '.'])\n",
    "low_not_dots\n"
   ]
  },
  {
   "cell_type": "code",
   "execution_count": 21,
   "metadata": {},
   "outputs": [],
   "source": [
    "a = low_not_dots.split(\"\\n\")"
   ]
  },
  {
   "cell_type": "code",
   "execution_count": 24,
   "metadata": {},
   "outputs": [],
   "source": [
    "b = re.sub(':', '', low_not_dots)\n",
    "c = b.split(\"\\n\")"
   ]
  },
  {
   "cell_type": "code",
   "execution_count": 3,
   "metadata": {},
   "outputs": [
    {
     "name": "stderr",
     "output_type": "stream",
     "text": [
      "[nltk_data] Downloading package punkt to /root/nltk_data...\n",
      "[nltk_data]   Unzipping tokenizers/punkt.zip.\n"
     ]
    },
    {
     "name": "stdout",
     "output_type": "stream",
     "text": [
      "Texto Original: El paciente experimenta molestia en el área cardíaca.\n",
      "Texto Procesado: El paciente experimenta dolor en el área cardíaca .\n"
     ]
    }
   ],
   "source": [
    "import nltk\n",
    "from nltk.tokenize import word_tokenize\n",
    "nltk.download('punkt')\n",
    "\n",
    "# Supongamos que este es nuestro tesauro simplificado\n",
    "tesauro = {\n",
    "    \"corazón\": [\"cardíaco\", \"miocardio\"],\n",
    "    \"dolor\": [\"molestia\", \"incomodidad\"]\n",
    "}\n",
    "\n",
    "# Función para buscar sinónimos en el tesauro\n",
    "def buscar_sinonimos(palabra, tesauro):\n",
    "    for key, sinonimos in tesauro.items():\n",
    "        if palabra in sinonimos:\n",
    "            return key\n",
    "    return palabra\n",
    "\n",
    "# Texto de ejemplo\n",
    "texto = \"El paciente experimenta molestia en el área cardíaca.\"\n",
    "\n",
    "# Tokenización del texto\n",
    "tokens = word_tokenize(texto)\n",
    "\n",
    "# Reemplazo de sinónimos\n",
    "texto_procesado = [buscar_sinonimos(palabra, tesauro) for palabra in tokens]\n",
    "\n",
    "# Reconstruir el texto\n",
    "texto_reconstruido = ' '.join(texto_procesado)\n",
    "print(\"Texto Original:\", texto)\n",
    "print(\"Texto Procesado:\", texto_reconstruido)"
   ]
  },
  {
   "cell_type": "markdown",
   "metadata": {},
   "source": [
    "El texto a analizar debe ser procesado adecuadamente. Esto implica limpiar el texto (eliminar ruido, normalizar términos, etc.), \n",
    "tokenizarlo (dividirlo en palabras o frases individuales) y posiblemente lematizarlo (reducir las palabras a su forma base).\n",
    "\n",
    "pip install nltk\n",
    "pip install spacy\n",
    "python -m spacy download es_core_news_sm # Descargar el modelo en español para spaCy"
   ]
  },
  {
   "cell_type": "code",
   "execution_count": 38,
   "metadata": {},
   "outputs": [
    {
     "name": "stdout",
     "output_type": "stream",
     "text": [
      "Tokens: ['el', 'disulfiram', 'ser', 'por', 'él', 'mismo', 'uno', 'sustancia', 'relativamente', 'no', 'tóxico', 'observar', 'él', 'escaso', 'efecto', 'secundario', 'cuando', 'él', 'administrar', 'sólo', 'a', 'dosis', 'terapéutico', 'en', 'animal', 'y', 'ser', 'humano']\n",
      "Tokens: ['el', 'efecto', 'secundario', 'durante', 'el', 'reacción', 'disulfiramalcohol', 'él', 'haber', 'describir', 'en', 'el', 'sección']\n",
      "Tokens: ['el', 'mayoría', 'de', 'el', 'reacción', 'al', 'disulfiram', 'ser', 'autolimitada', 'y', 'no', 'representar', 'uno', 'riesgo', 'vital', 'para', 'el', 'paciente']\n",
      "Tokens: ['uno', 'número', 'reducido', 'de', 'paciente', 'poder', 'experimentar', 'adormecer', 'leve', 'transitorio', 'fatigo', 'impotencia', 'cefalea', 'erupción', 'acneiform', 'dermatitis', 'alérgico', 'o', 'sabor', 'metálico', 'o', 'a', 'ajo', 'durante', 'el', 'dos', 'primero', 'semana', 'de', 'tratamiento', 'este', 'síntoma', 'soler', 'desaparecer', 'espontáneamente', 'con', 'el', 'continuación', 'del', 'tratamiento', 'o', 'el', 'reducción', 'de', 'el', 'posología']\n",
      "Tokens: ['reacción', 'adverso', 'ordenado', 'según', 'frecuencia', 'de', 'aparición']\n",
      "Tokens: ['trastorno', 'psiquiátrico']\n",
      "Tokens: ['mucho', 'rara', 'episodio', 'psicótico', 'incluir', 'paranoia', 'esquizofrenia']\n",
      "Tokens: ['frecuente', 'a', 'depresión', 'manir']\n",
      "Tokens: ['trastorno', 'del', 'sistema', 'nervioso']\n",
      "Tokens: ['frecuente', 'a', 'somnolencia', 'cefalear', 'neuritis', 'periférico', 'neuritis', 'óptico', 'polineuritis']\n",
      "Tokens: ['poco', 'frecuente', 'a', 'fatiga', 'reacción', 'distónica']\n",
      "Tokens: ['mucho', 'rara', 'cambio', 'en', 'el', 'humor', 'crisis', 'convulsiva', 'confusión']\n",
      "Tokens: ['trastorno', 'ocular']\n",
      "Tokens: ['rara', 'a', 'cambio', 'en', 'el', 'visión']\n",
      "Tokens: ['frecuencia', 'no', 'conocido', 'no', 'poder', 'estimar', 'él', 'a', 'partir', 'de', 'el', 'dato', 'disponible', 'edema', 'papilarceguero']\n",
      "Tokens: ['trastorno', 'gastrointestinal']\n",
      "Tokens: ['frecuente', 'a', 'nausea', 'vómito', 'diarreo']\n",
      "Tokens: ['trastorno', 'hepatobiliar']\n",
      "Tokens: ['frecuente', 'a', 'alteración', 'en', 'el', 'determinación', 'de', 'función', 'hepático', 'con', 'aumento', 'en', 'el', 'transaminasa', 'y', 'el', 'bilirrubina']\n",
      "Tokens: ['mucho', 'rara', 'hepatitis', 'hepatotoxicidad', 'daño', 'hepatocelular', 'hepatitis', 'fulminante', 'y', 'necrosis', 'hepático', 'el', 'cual', 'poder', 'originar', 'fallo', 'hepático', 'coma', 'hepático', 'y', 'muertir', 'el', 'efecto', 'sobre', 'el', 'sistema', 'hepatobiliar', 'generalmente', 'aparecer', 'a', 'el', 'primero', 'mes', 'de', 'tratamiento']\n",
      "Tokens: ['trastorno', 'de', 'el', 'piel', 'y', 'del', 'tejido', 'subcutáneo']\n",
      "Tokens: ['poco', 'frecuente', 'a', 'dermatitis', 'alérgico']\n",
      "Tokens: ['rara', 'a', 'coloración', 'amarillentar', 'de', 'el', 'piel']\n",
      "Tokens: ['frecuencia', 'no', 'conocido', 'no', 'poder', 'estimar', 'él', 'a', 'partir', 'de', 'el', 'dato', 'disponible', 'erupción', 'acneiform', 'él', 'haber', 'describir', 'caso', 'de', 'fototoxicidad']\n",
      "Tokens: ['trastorno', 'del', 'aparato', 'reproductor', 'y', 'de', 'el', 'mama']\n",
      "Tokens: ['rara', 'a', 'reducción', 'de', 'el', 'líbido']\n",
      "Tokens: ['frecuencia', 'no', 'conocido', 'no', 'poder', 'estimar', 'él', 'a', 'partir', 'de', 'el', 'dato', 'disponible', 'disfunción', 'eréctil']\n",
      "Tokens: ['trastorno', 'congénito']\n",
      "Tokens: ['frecuencia', 'no', 'conocido', 'no', 'poder', 'estimar', 'él', 'a', 'partir', 'de', 'el', 'dato', 'disponible', 'él', 'haber', 'describir', 'alguno', 'caso', 'de', 'malformación', 'congénita', 'durante', 'el', 'tratamiento', 'con', 'disulfiram']\n",
      "Tokens: ['trastorno', 'del', 'metabolismo']\n",
      "Tokens: ['frecuencia', 'no', 'conocido', 'no', 'poder', 'estimar', 'él', 'a', 'partir', 'de', 'el', 'dato', 'disponible', 'elevación', 'del', 'colesterol']\n",
      "Tokens: ['trastorno', 'cardíaco']\n",
      "Tokens: ['frecuencia', 'no', 'conocido', 'no', 'poder', 'estimar', 'él', 'a', 'partir', 'de', 'el', 'dato', 'disponible', 'taquicardia', 'con', 'cambio', 'en', 'el', 'ecg', 'asociado']\n",
      "Tokens: ['trastorno', 'vascular']\n",
      "Tokens: ['frecuencia', 'no', 'conocido', 'no', 'poder', 'estimar', 'él', 'a', 'partir', 'de', 'el', 'dato', 'disponible', 'hipertensión', 'arterial']\n",
      "Tokens: ['trastorno', 'general']\n",
      "Tokens: ['frecuente', 'a', 'adormecimiento', 'fatigar', 'malestar', 'general', 'halitosis', 'dolor', 'abdominal', 'pérdida', 'del', 'gusto', 'sabor', 'metálico', 'o', 'a', 'ajo']\n",
      "Tokens: ['el', 'paciente', 'sometido', 'a', 'mantenimiento', 'con', 'disulfiram', 'mgdía', 'tender', 'a', 'desarrollar', 'neuropatía', 'periférico', 'este', 'neuropatía', 'mejora', 'cuando', 'él', 'retirar', 'el', 'tratamiento', 'con', 'disulfiram']\n",
      "Tokens: ['como', 'regla', 'general', 'el', 'erupción', 'cutánea', 'ocasional', 'él', 'controlar', 'fácilmente', 'mediante', 'el', 'administración', 'simultáneo', 'de', 'uno', 'antihistamínico']\n",
      "Tokens: ['notificación', 'de', 'sospecha', 'de', 'reacción', 'adverso']\n",
      "Tokens: ['ser', 'importante', 'notificar', 'el', 'sospecha', 'de', 'reacción', 'adverso', 'al', 'medicamento', 'tras', 'su', 'autorización', 'él', 'permitir', 'uno', 'supervisión', 'continuado', 'de', 'el', 'relación', 'beneficioriesgo', 'del', 'medicamento', 'él', 'invitar', 'a', 'el', 'profesional', 'sanitario', 'a', 'notificar', 'el', 'sospecha', 'de', 'reacción', 'adverso', 'a', 'través', 'del', 'sistema', 'español', 'de', 'farmacovigilancia', 'de', 'medicamento', 'de', 'uso', 'humano', 'websiwwwnotificarames']\n"
     ]
    }
   ],
   "source": [
    "import spacy\n",
    "import re\n",
    "from nltk.tokenize import word_tokenize\n",
    "\n",
    "# Cargar el modelo en español de spaCy\n",
    "nlp = spacy.load('es_core_news_sm')\n",
    "\n",
    "# Texto de ejemplo\n",
    "texto = c\n",
    "\n",
    "# Función para limpiar el texto\n",
    "def limpiar_texto(texto):\n",
    "    # Eliminar caracteres especiales y números\n",
    "    texto = re.sub(r'[^a-zA-ZáéíóúÁÉÍÓÚñÑ\\s]', '', texto)\n",
    "    # Convertir a minúsculas\n",
    "    return texto.lower()\n",
    "\n",
    "# Lematizar el texto\n",
    "def lematizar_texto(texto):\n",
    "    doc = nlp(texto)\n",
    "    return ' '.join([token.lemma_ for token in doc])\n",
    "\n",
    "# Procesar cada línea del texto\n",
    "new_texto = []\n",
    "for linea in texto:\n",
    "    linea_limpia = limpiar_texto(linea)\n",
    "    linea_lematizada = lematizar_texto(linea_limpia)\n",
    "    tokens = word_tokenize(linea_lematizada)\n",
    "    new_texto.append(tokens)\n",
    "    # print(\"Original:\", linea)\n",
    "    # print(\"Limpio:\", linea_limpia)\n",
    "    # print(\"Lematizado:\", linea_lematizada)\n",
    "    print(\"Tokens:\", tokens)\n",
    "    # print(\"\\n\")\n",
    "# print(new_texto)"
   ]
  },
  {
   "cell_type": "code",
   "execution_count": 44,
   "metadata": {},
   "outputs": [
    {
     "name": "stderr",
     "output_type": "stream",
     "text": [
      "[nltk_data] Downloading package stopwords to /root/nltk_data...\n",
      "[nltk_data]   Package stopwords is already up-to-date!\n"
     ]
    }
   ],
   "source": [
    "import spacy\n",
    "from nltk.corpus import stopwords\n",
    "from nltk.tokenize import word_tokenize\n",
    "nltk.download('stopwords')\n",
    "\n",
    "# Cargar el modelo en español de spaCy\n",
    "nlp = spacy.load('es_core_news_sm')\n",
    "\n",
    "# Lista de stop words en español\n",
    "stop_words = set(stopwords.words('spanish'))\n",
    "\n",
    "listas_filtradas = [[elemento for elemento in lista if elemento not in stop_words] for lista in new_texto]\n"
   ]
  },
  {
   "cell_type": "code",
   "execution_count": 46,
   "metadata": {},
   "outputs": [
    {
     "name": "stdout",
     "output_type": "stream",
     "text": [
      "['disulfiram', 'ser', 'mismo', 'sustancia', 'relativamente', 'tóxico', 'observar', 'escaso', 'efecto', 'secundario', 'administrar', 'sólo', 'dosis', 'terapéutico', 'animal', 'ser', 'humano']\n",
      "['efecto', 'secundario', 'reacción', 'disulfiramalcohol', 'haber', 'describir', 'sección']\n",
      "['mayoría', 'reacción', 'disulfiram', 'ser', 'autolimitada', 'representar', 'riesgo', 'vital', 'paciente']\n",
      "['número', 'reducido', 'paciente', 'poder', 'experimentar', 'adormecer', 'leve', 'transitorio', 'fatigo', 'impotencia', 'cefalea', 'erupción', 'acneiform', 'dermatitis', 'alérgico', 'sabor', 'metálico', 'ajo', 'dos', 'primero', 'semana', 'tratamiento', 'síntoma', 'soler', 'desaparecer', 'espontáneamente', 'continuación', 'tratamiento', 'reducción', 'posología']\n",
      "['reacción', 'adverso', 'ordenado', 'según', 'frecuencia', 'aparición']\n",
      "['trastorno', 'psiquiátrico']\n",
      "['rara', 'episodio', 'psicótico', 'incluir', 'paranoia', 'esquizofrenia']\n",
      "['frecuente', 'depresión', 'manir']\n",
      "['trastorno', 'sistema', 'nervioso']\n",
      "['frecuente', 'somnolencia', 'cefalear', 'neuritis', 'periférico', 'neuritis', 'óptico', 'polineuritis']\n",
      "['frecuente', 'fatiga', 'reacción', 'distónica']\n",
      "['rara', 'cambio', 'humor', 'crisis', 'convulsiva', 'confusión']\n",
      "['trastorno', 'ocular']\n",
      "['rara', 'cambio', 'visión']\n",
      "['frecuencia', 'conocido', 'poder', 'estimar', 'partir', 'dato', 'disponible', 'edema', 'papilarceguero']\n",
      "['trastorno', 'gastrointestinal']\n",
      "['frecuente', 'nausea', 'vómito', 'diarreo']\n",
      "['trastorno', 'hepatobiliar']\n",
      "['frecuente', 'alteración', 'determinación', 'función', 'hepático', 'aumento', 'transaminasa', 'bilirrubina']\n",
      "['rara', 'hepatitis', 'hepatotoxicidad', 'daño', 'hepatocelular', 'hepatitis', 'fulminante', 'necrosis', 'hepático', 'poder', 'originar', 'fallo', 'hepático', 'coma', 'hepático', 'muertir', 'efecto', 'sistema', 'hepatobiliar', 'generalmente', 'aparecer', 'primero', 'mes', 'tratamiento']\n",
      "['trastorno', 'piel', 'tejido', 'subcutáneo']\n",
      "['frecuente', 'dermatitis', 'alérgico']\n",
      "['rara', 'coloración', 'amarillentar', 'piel']\n",
      "['frecuencia', 'conocido', 'poder', 'estimar', 'partir', 'dato', 'disponible', 'erupción', 'acneiform', 'haber', 'describir', 'caso', 'fototoxicidad']\n",
      "['trastorno', 'aparato', 'reproductor', 'mama']\n",
      "['rara', 'reducción', 'líbido']\n",
      "['frecuencia', 'conocido', 'poder', 'estimar', 'partir', 'dato', 'disponible', 'disfunción', 'eréctil']\n",
      "['trastorno', 'congénito']\n",
      "['frecuencia', 'conocido', 'poder', 'estimar', 'partir', 'dato', 'disponible', 'haber', 'describir', 'alguno', 'caso', 'malformación', 'congénita', 'tratamiento', 'disulfiram']\n",
      "['trastorno', 'metabolismo']\n",
      "['frecuencia', 'conocido', 'poder', 'estimar', 'partir', 'dato', 'disponible', 'elevación', 'colesterol']\n",
      "['trastorno', 'cardíaco']\n",
      "['frecuencia', 'conocido', 'poder', 'estimar', 'partir', 'dato', 'disponible', 'taquicardia', 'cambio', 'ecg', 'asociado']\n",
      "['trastorno', 'vascular']\n",
      "['frecuencia', 'conocido', 'poder', 'estimar', 'partir', 'dato', 'disponible', 'hipertensión', 'arterial']\n",
      "['trastorno', 'general']\n",
      "['frecuente', 'adormecimiento', 'fatigar', 'malestar', 'general', 'halitosis', 'dolor', 'abdominal', 'pérdida', 'gusto', 'sabor', 'metálico', 'ajo']\n",
      "['paciente', 'sometido', 'mantenimiento', 'disulfiram', 'mgdía', 'tender', 'desarrollar', 'neuropatía', 'periférico', 'neuropatía', 'mejora', 'retirar', 'tratamiento', 'disulfiram']\n",
      "['regla', 'general', 'erupción', 'cutánea', 'ocasional', 'controlar', 'fácilmente', 'mediante', 'administración', 'simultáneo', 'antihistamínico']\n",
      "['notificación', 'sospecha', 'reacción', 'adverso']\n",
      "['ser', 'importante', 'notificar', 'sospecha', 'reacción', 'adverso', 'medicamento', 'tras', 'autorización', 'permitir', 'supervisión', 'continuado', 'relación', 'beneficioriesgo', 'medicamento', 'invitar', 'profesional', 'sanitario', 'notificar', 'sospecha', 'reacción', 'adverso', 'través', 'sistema', 'español', 'farmacovigilancia', 'medicamento', 'uso', 'humano', 'websiwwwnotificarames']\n"
     ]
    }
   ],
   "source": [
    "for element in listas_filtradas:\n",
    "    print(element)"
   ]
  },
  {
   "cell_type": "code",
   "execution_count": null,
   "metadata": {},
   "outputs": [],
   "source": []
  }
 ],
 "metadata": {
  "kernelspec": {
   "display_name": "Python 3",
   "language": "python",
   "name": "python3"
  },
  "language_info": {
   "codemirror_mode": {
    "name": "ipython",
    "version": 3
   },
   "file_extension": ".py",
   "mimetype": "text/x-python",
   "name": "python",
   "nbconvert_exporter": "python",
   "pygments_lexer": "ipython3",
   "version": "3.10.12"
  }
 },
 "nbformat": 4,
 "nbformat_minor": 2
}
