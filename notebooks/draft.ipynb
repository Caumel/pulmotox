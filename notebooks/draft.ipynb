{
 "cells": [
  {
   "cell_type": "code",
   "execution_count": 1,
   "metadata": {},
   "outputs": [],
   "source": [
    "import sys\n",
    "import os\n",
    "sys.path.append('../')\n",
    "os.chdir('../')\n",
    "\n",
    "import pandas as pd\n",
    "import numpy as np\n",
    "import shutil\n",
    "from pathlib import Path\n",
    "from datetime import datetime\n",
    "import time\n",
    "import threading\n",
    "import json\n",
    "import requests\n",
    "import threading\n",
    "import re\n",
    "# from src.cima import cima_api as cimaAPI\n",
    "from src import utils  \n",
    "\n",
    "cima_url = 'https://cima.aemps.es/cima/rest/'\n",
    "timeout_value = 10"
   ]
  },
  {
   "cell_type": "markdown",
   "metadata": {},
   "source": [
    "\n",
    "GET medicamentos?{condiciones} da medicamentos con nombres\n",
    "GET medicamento?{condiciones } da medicamento con nombre.\n",
    "GET docSegmentado/secciones/:tipoDoc?{condiciones } secciones sin info\n",
    "GET docSegmentado/contenido/:tipoDoc?{condiciones } secciones con info\n",
    "POST buscarEnFichaTecnica\n",
    "\n",
    "GET https://cima.aemps.es/cima/rest/docSegmentado/contenido/1?nregistro=64014&seccion=   \n",
    "GET https://cima.aemps.es/cima/rest/docSegmentado/secciones/1?nregistro=64014&seccion=   \n",
    "\n",
    "https://cima.aemps.es/cima/rest/buscarEnFichaTecnica\n",
    "[{\n",
    "\"seccion\":\"4.1\",\n",
    "\"texto\":\"cáncer\",\n",
    "\"contiene\":1\n",
    "}]\n"
   ]
  },
  {
   "cell_type": "markdown",
   "metadata": {},
   "source": [
    "### API"
   ]
  },
  {
   "cell_type": "code",
   "execution_count": null,
   "metadata": {},
   "outputs": [],
   "source": [
    "class MyCimaAPI:\n",
    "    # TODO:\n",
    "\n",
    "    \"\"\"API para Cima.\n",
    "\n",
    "            Atributos\n",
    "            ----------\n",
    "\n",
    "            Constructor\n",
    "            ------------\n",
    "                MyCimaAPI()\n",
    "\n",
    "            Métodos\n",
    "            -------\n",
    "                create_url: \n",
    "                get_medicamentos: \n",
    "                get_medicamento: \n",
    "                get_info_medicamento: \n",
    "                get_info_secciones: \n",
    "                buscarEnFichaTecnica:\n",
    "    \"\"\"\n",
    "\n",
    "    def __init__(self):\n",
    "        pass\n",
    "\n",
    "    def create_url(self,kind,list_var={}):\n",
    "\n",
    "        \"\"\"Dado el tipo de url, crea el link para realizar la peticion.\n",
    "\n",
    "            Parametros\n",
    "            ----------\n",
    "                kind: String\n",
    "                    Tipo de petición a realizar en la API. Ex: Eutirox\n",
    "\n",
    "            Retorna\n",
    "            -------\n",
    "                url: String\n",
    "                    Url para realizar la peticion, Ex: https://cima.aemps.es/cima/rest/medicamentos?&nombre=EUTIROX\n",
    "\n",
    "        \"\"\"\n",
    "\n",
    "        url = cima_url + kind\n",
    "\n",
    "        for index, (key, value) in enumerate(list_var.items()):\n",
    "            if isinstance(value,int):\n",
    "                url += \"&\" + key + \"=\" + str(value)\n",
    "            elif isinstance(value,str):\n",
    "                url += \"&\" + key + \"=\" + value\n",
    "        print(url)\n",
    "        return url\n",
    "\n",
    "    def get_medicamentos(self,name=None,page=1):\n",
    "        \"\"\"Devuelve informacion del medicamento proporcionado, puede ser mas de un tipo, dependiendo de los gramos, mililitros etc.\n",
    "\n",
    "            Parametros\n",
    "            ----------\n",
    "                name: String\n",
    "                    Nombre del medicamento. Ex: Eutirox\n",
    "                page: String\n",
    "                    Nombre del medicamento. Ex: Eutirox\n",
    "\n",
    "            Retorna\n",
    "            -------\n",
    "                text: json\n",
    "                    Contiene el medicamento encontrado que coincide con el nombre proporcionado.\n",
    "\n",
    "                resp_code: int\n",
    "                    Codigo de respuesta de nuestra consulta. Ex: 200\n",
    "        \"\"\"\n",
    "\n",
    "        dic_var = {\n",
    "            \"nombre\": name \n",
    "        }\n",
    "\n",
    "        url = self.create_url(\"medicamentos?\",dic_var)\n",
    "\n",
    "        params = {\n",
    "            'pagina': page,      # Setting the current page number\n",
    "            'tamanioPagina': 25  # Setting the number of items per page\n",
    "        }\n",
    "\n",
    "        # Send query, \n",
    "        response = requests.get(url, params=params,timeout=timeout_value)\n",
    "        resp_code = response.status_code\n",
    "        resp_message = response.text\n",
    "\n",
    "        # If all OK, get info\n",
    "        products = None\n",
    "        if resp_code == 200:\n",
    "            text = json.loads(resp_message)\n",
    "        else:\n",
    "            return None\n",
    "        \n",
    "        return text, resp_code\n",
    "\n",
    "    def get_medicamentos_all(self,name=None):\n",
    "        \"\"\"Devuelve informacion de medicamentos que contienen el nombre proporcionado, puede ser mas de un tipo, dependiendo de los gramos, mililitros etc.\n",
    "\n",
    "            Parametros\n",
    "            ----------\n",
    "                nombre: String\n",
    "                    Nombre del medicamento. Ex: Eutirox\n",
    "\n",
    "            Retorna\n",
    "            -------\n",
    "                text: list\n",
    "                    Contiene la lista de medicamentos encontrado que coincide con el nombre proporcionado.\n",
    "\n",
    "        \"\"\"\n",
    "\n",
    "        dic_var = {\n",
    "            \"nombre\": name \n",
    "        }\n",
    "\n",
    "        url = self.create_url(\"medicamentos?\",dic_var)\n",
    "\n",
    "        # Send query, \n",
    "        response = requests.get(url, timeout=timeout_value)\n",
    "        resp_message = response.json()\n",
    "\n",
    "        total_pages = round(resp_message[\"totalFilas\"] / resp_message[\"tamanioPagina\"])\n",
    "\n",
    "        list_objects = []\n",
    "\n",
    "        # Looping through each page\n",
    "        for page in range(1, total_pages + 1):\n",
    "            # Parameters for the request\n",
    "            params = {\n",
    "                'pagina': page,      # Setting the current page number\n",
    "                'tamanioPagina': 25  # Setting the number of items per page\n",
    "            }\n",
    "\n",
    "            # Making the request\n",
    "            response = requests.get(url, params=params)\n",
    "\n",
    "            # Check if the request was successful\n",
    "            if response.status_code == 200:\n",
    "                data = response.json()\n",
    "                if not data[\"resultados\"]:\n",
    "                    break\n",
    "                else:\n",
    "                    list_objects += data[\"resultados\"]\n",
    "            else:\n",
    "                print(f\"Failed to retrieve data for page {page}\")\n",
    "\n",
    "        return list_objects\n",
    "\n",
    "    def get_medicamento(self,cn=None,nregister=None):\n",
    "        \"\"\"Devuelve informacion del medicamento proporcionado, que coincide con el numero de registro, tambien cuenta con los principios activos.\n",
    "\n",
    "            Parametros\n",
    "            ----------\n",
    "                cn: int\n",
    "                    Codigo nacional. Ex: ?\n",
    "                nregister: int\n",
    "                    Numero de registro. Ex: 64014\n",
    "\n",
    "            Retorna\n",
    "            -------\n",
    "                text: json\n",
    "                    Contiene el medicamento encontrado que coincide con el numero de registro.\n",
    "\n",
    "                resp_code: int\n",
    "                    Codigo de respuesta de nuestra consulta. Ex: 200\n",
    "        \"\"\"\n",
    "\n",
    "        dic_var = {\n",
    "            \"cn\": cn,\n",
    "            \"nregistro\": nregister\n",
    "        }\n",
    "\n",
    "        url = self.create_url(\"medicamento?\",dic_var)\n",
    "\n",
    "        response = requests.get(url, timeout=timeout_value)\n",
    "        resp_code = response.status_code\n",
    "\n",
    "        # If all OK, get info\n",
    "        if resp_code == 200:\n",
    "            text = response.json()\n",
    "        else:\n",
    "            return None\n",
    "        \n",
    "        return text, resp_code\n",
    "\n",
    "    def get_info_medicamento_section(self,typeDoc=1,nregister=None,section=\"\"):\n",
    "        \"\"\"Devuelve una lista de secciones con su informacion para el tipo de documento asociado al medicamento por número de registro.\n",
    "\n",
    "            Parametros\n",
    "            ----------\n",
    "                typeDoc: int\n",
    "                    Tipo de documento. Ex: 1/2\n",
    "                        1: Ficha técnica\n",
    "                        2: Prospecto\n",
    "                nregister: int\n",
    "                    Numero de registro. Ex: 64014\n",
    "                section: String\n",
    "                    Seccion a solicitar. Ex: 4.8 or None\n",
    "\n",
    "            Retorna\n",
    "            -------\n",
    "                text: json\n",
    "                    Contiene el medicamento encontrado que coincide con el numero de registro.\n",
    "\n",
    "                resp_code: int\n",
    "                    Codigo de respuesta de nuestra consulta. Ex: 200\n",
    "        \"\"\"\n",
    "\n",
    "        dic_var = {\n",
    "            \"nregistro\": nregister,\n",
    "            \"seccion\": section\n",
    "        }\n",
    "        headers = {\n",
    "            'Accept':\"application/json\"\n",
    "        }\n",
    "\n",
    "        url = self.create_url(\"docSegmentado/contenido/\" + str(typeDoc) + \"?\" ,dic_var)\n",
    "\n",
    "        # Send query, \n",
    "        response = requests.get(url, timeout=timeout_value, headers=headers)\n",
    "        resp_code = response.status_code\n",
    "\n",
    "        # If all OK, get info\n",
    "        if resp_code == 200:\n",
    "            text = response.json()\n",
    "        else:\n",
    "            return None\n",
    "\n",
    "        return text,resp_code\n",
    "\n",
    "    def get_info_secciones(self,typeDoc=None,nregister=None):\n",
    "        \"\"\"Devuelve una lista con las secciones existentes para un tipo de documento y un medicamento.\n",
    "\n",
    "            Parametros\n",
    "            ----------\n",
    "                tipoDoc: int\n",
    "                    Tipo de documento. Ex: 1/2\n",
    "                        1: Ficha técnica\n",
    "                        2: Prospecto\n",
    "                nregistro: int\n",
    "                    Numero de registro. Ex: 64014\n",
    "\n",
    "            Retorna\n",
    "            -------\n",
    "                text: json\n",
    "                    Contiene el medicamento encontrado que coincide con el numero de registro.\n",
    "\n",
    "                resp_code: int\n",
    "                    Codigo de respuesta de nuestra consulta. Ex: 200\n",
    "        \"\"\"\n",
    "\n",
    "        dic_var = {\n",
    "            \"nregistro\": nregister,\n",
    "        }\n",
    "\n",
    "        url = self.reate_url(\"docSegmentado/secciones/\" + str(typeDoc) + \"?\" ,dic_var)\n",
    "\n",
    "        # Send query, \n",
    "        response = requests.get(url, timeout=timeout_value)\n",
    "        resp_code = response.status_code\n",
    "\n",
    "        # If all OK, get info\n",
    "        if resp_code == 200:\n",
    "            text = response.json()\n",
    "        else:\n",
    "            return None\n",
    "\n",
    "        return text,resp_code\n",
    "\n",
    "    def buscarEnFichaTecnica(self,body):\n",
    "        \"\"\"Recibe en formato JSON como cuerpo de la petición una serie de texto a buscar en las secciones y devuelve una lista de medicamentos.\n",
    "\n",
    "            Parametros\n",
    "            ----------\n",
    "                body: List\n",
    "                    Parametros para realizar la busqueda. Ex: # body = [{\"seccion\":\"4.1\",\"texto\":\"cáncer\",\"contiene\":1}]\n",
    "\n",
    "            Retorna\n",
    "            -------\n",
    "                text: list\n",
    "                    Contiene la lista de medicamentos encontrado que coincide con el body proporcionado.\n",
    "\n",
    "        \"\"\"\n",
    "\n",
    "        url = self.create_url(\"buscarEnFichaTecnica\")\n",
    "        headers = {'Content-Type': 'application/json'}\n",
    "\n",
    "        # Realizar la solicitud POST\n",
    "        response = requests.post(url, data=json.dumps(body), headers=headers, timeout=timeout_value)\n",
    "        resp_message = response.json()\n",
    "\n",
    "        print(resp_message[\"totalFilas\"])\n",
    "        total_pages = round(resp_message[\"totalFilas\"] / resp_message[\"tamanioPagina\"])\n",
    "\n",
    "        list_objects = []\n",
    "\n",
    "        # Looping through each page\n",
    "        for page in range(1, total_pages + 1):\n",
    "            # Parameters for the request\n",
    "            params = {\n",
    "                'pagina': page,      # Setting the current page number\n",
    "                'tamanioPagina': 25  # Setting the number of items per page\n",
    "            }\n",
    "\n",
    "            # Making the request\n",
    "            response = requests.post(url, data=json.dumps(body), headers=headers, params=params)\n",
    "\n",
    "            # Check if the request was successful\n",
    "            if response.status_code == 200:\n",
    "                data = response.json()\n",
    "                if not data[\"resultados\"]:\n",
    "                    break\n",
    "                else:\n",
    "                    list_objects += data[\"resultados\"]\n",
    "            else:\n",
    "                print(f\"Failed to retrieve data for page {page}\")\n",
    "                \n",
    "        return list_objects\n",
    "\n",
    "    def registroCambios(self,date,nregister=\"\"):\n",
    "        \"\"\"Recibe en formato JSON como cuerpo de la petición una serie de texto a buscar en las secciones y devuelve una lista de medicamentos.\n",
    "\n",
    "            Parametros\n",
    "            ----------\n",
    "                date: String\n",
    "                   Fecha desde la que se quiere conoecer los cambios. Ex: 11/11/2023\n",
    "                nregistro: int\n",
    "                    Numero de registro. Ex: 64014\n",
    "\n",
    "            Retorna\n",
    "            -------\n",
    "                text: list\n",
    "                    Contiene la lista de medicamentos que han recibido algun cambio desde la fecha indicada.\n",
    "        \"\"\"\n",
    "\n",
    "        dic_var = {\n",
    "            \"fecha\":date,\n",
    "            \"nregistro\": nregister\n",
    "        }\n",
    "\n",
    "        url = self.create_url(\"registroCambios?\",dic_var)\n",
    "\n",
    "        # Send query, \n",
    "        response = requests.post(url, timeout=timeout_value)\n",
    "        resp_message = response.json()\n",
    "\n",
    "        print(resp_message[\"totalFilas\"])\n",
    "        total_pages = round(resp_message[\"totalFilas\"] / resp_message[\"tamanioPagina\"])\n",
    "\n",
    "        list_objects = []\n",
    "\n",
    "        # Looping through each page\n",
    "        for page in range(1, total_pages + 1):\n",
    "            # Parameters for the request\n",
    "            params = {\n",
    "                'pagina': page,      # Setting the current page number\n",
    "                'tamanioPagina': 25  # Setting the number of items per page\n",
    "            }\n",
    "\n",
    "            # Making the request\n",
    "            response = requests.post(url, params=params)\n",
    "\n",
    "            # Check if the request was successful\n",
    "            if response.status_code == 200:\n",
    "                data = response.json()\n",
    "                if not data[\"resultados\"]:\n",
    "                    break\n",
    "                else:\n",
    "                    list_objects += data[\"resultados\"]\n",
    "            else:\n",
    "                print(f\"Failed to retrieve data for page {page}\")\n",
    "                \n",
    "        return list_objects"
   ]
  },
  {
   "cell_type": "code",
   "execution_count": 3,
   "metadata": {},
   "outputs": [],
   "source": [
    "from bs4 import BeautifulSoup\n",
    "import requests\n",
    "import os\n",
    "import json\n",
    "\n",
    "def extract_and_clean_text(html_content):\n",
    "    # Parse the HTML content\n",
    "    soup = BeautifulSoup(html_content, 'html.parser')\n",
    "    \n",
    "    # Extract text and filter out empty lines\n",
    "    text = soup.get_text(separator='\\n').strip()\n",
    "    lines = [line.strip() for line in text.split('\\n') if line.strip()]\n",
    "    \n",
    "    # Join the lines back into a single string\n",
    "    cleaned_text = '\\n'.join(lines)\n",
    "    return cleaned_text"
   ]
  },
  {
   "cell_type": "markdown",
   "metadata": {},
   "source": [
    "### Experimentos"
   ]
  },
  {
   "cell_type": "code",
   "execution_count": null,
   "metadata": {},
   "outputs": [],
   "source": [
    "cima = MyCimaAPI()"
   ]
  },
  {
   "cell_type": "code",
   "execution_count": 8,
   "metadata": {},
   "outputs": [
    {
     "name": "stdout",
     "output_type": "stream",
     "text": [
      "https://cima.aemps.es/cima/rest/medicamento?&cn=64014&nregistro=64014\n"
     ]
    }
   ],
   "source": [
    "# cima.get_medicamentos(name=\"EUTIROX\")\n",
    "# cima.get_medicamentos_all(name=\"EUTIROX\")\n",
    "cima.get_medicamento(cn=\"\",nregister=\"64014\")\n",
    "# cima.get_info_medicamento(typeDoc=1,nregister=\"64014\",section=\"\")\n",
    "# cima.get_info_secciones(typeDoc=1,nregister=\"64014\")\n",
    "\n",
    "# body = [{\n",
    "# \"seccion\":\"4.1\",\n",
    "# \"texto\":\"cáncer\",\n",
    "# \"contiene\":1\n",
    "# }]\n",
    "# cima.buscarEnFichaTecnica(body)"
   ]
  },
  {
   "cell_type": "code",
   "execution_count": 111,
   "metadata": {},
   "outputs": [
    {
     "name": "stdout",
     "output_type": "stream",
     "text": [
      "https://cima.aemps.es/cima/rest/medicamentos?&nombre=EUTIROX\n",
      "64014\n",
      "EUTIROX\n",
      "1699917809000\n",
      "{'nregistro': '64014', 'nombre': 'EUTIROX 100 microgramos COMPRIMIDOS', 'labtitular': 'Merck S.L.', 'cpresc': 'Medicamento Sujeto A Prescripción Médica. Tratamiento De Larga Duración', 'estado': {'aut': 993506400000}, 'comerc': True, 'receta': True, 'generico': False, 'conduc': False, 'triangulo': False, 'huerfano': False, 'biosimilar': False, 'nosustituible': {'id': 2, 'nombre': 'Medicamentos con principios activos de estrecho margen terapéutico'}, 'psum': False, 'notas': True, 'materialesInf': False, 'ema': False, 'docs': [{'tipo': 1, 'url': 'https://cima.aemps.es/cima/pdfs/ft/64014/FT_64014.pdf', 'urlHtml': 'https://cima.aemps.es/cima/dochtml/ft/64014/FT_64014.html', 'secc': True, 'fecha': 1686090551000}, {'tipo': 2, 'url': 'https://cima.aemps.es/cima/pdfs/p/64014/P_64014.pdf', 'urlHtml': 'https://cima.aemps.es/cima/dochtml/p/64014/P_64014.html', 'secc': True, 'fecha': 1699917809000}], 'fotos': [{'tipo': 'materialas', 'url': 'https://cima.aemps.es/cima/fotos/thumbnails/materialas/64014/64014_materialas.jpg', 'fecha': 1585648800000}, {'tipo': 'formafarmac', 'url': 'https://cima.aemps.es/cima/fotos/thumbnails/formafarmac/64014/64014_formafarmac.jpg', 'fecha': 1520252905000}], 'viasAdministracion': [{'id': 48, 'nombre': 'VÍA ORAL'}], 'formaFarmaceutica': {'id': 40, 'nombre': 'COMPRIMIDO'}, 'formaFarmaceuticaSimplificada': {'id': 10, 'nombre': 'COMPRIMIDO'}, 'vtm': {'id': 142071000140100, 'nombre': 'levotiroxina'}, 'dosis': '100 mcg levotiroxina sodica'}\n"
     ]
    }
   ],
   "source": [
    "text, status = cima.get_medicamentos(name=\"EUTIROX\")\n",
    "\n",
    "print(text[\"resultados\"][0][\"nregistro\"])\n",
    "print(text[\"resultados\"][0][\"nombre\"].split(\" \")[0])\n",
    "print(text[\"resultados\"][0][\"docs\"][-1][\"fecha\"])\n",
    "print(text[\"resultados\"][0])"
   ]
  },
  {
   "cell_type": "code",
   "execution_count": 112,
   "metadata": {},
   "outputs": [
    {
     "name": "stdout",
     "output_type": "stream",
     "text": [
      "https://cima.aemps.es/cima/rest/medicamentos?&nombre=EUTIROX\n",
      "[{'nregistro': '64014', 'nombre': 'EUTIROX 100 microgramos COMPRIMIDOS', 'labtitular': 'Merck S.L.', 'cpresc': 'Medicamento Sujeto A Prescripción Médica. Tratamiento De Larga Duración', 'estado': {'aut': 993506400000}, 'comerc': True, 'receta': True, 'generico': False, 'conduc': False, 'triangulo': False, 'huerfano': False, 'biosimilar': False, 'nosustituible': {'id': 2, 'nombre': 'Medicamentos con principios activos de estrecho margen terapéutico'}, 'psum': False, 'notas': True, 'materialesInf': False, 'ema': False, 'docs': [{'tipo': 1, 'url': 'https://cima.aemps.es/cima/pdfs/ft/64014/FT_64014.pdf', 'urlHtml': 'https://cima.aemps.es/cima/dochtml/ft/64014/FT_64014.html', 'secc': True, 'fecha': 1686090551000}, {'tipo': 2, 'url': 'https://cima.aemps.es/cima/pdfs/p/64014/P_64014.pdf', 'urlHtml': 'https://cima.aemps.es/cima/dochtml/p/64014/P_64014.html', 'secc': True, 'fecha': 1699917809000}], 'fotos': [{'tipo': 'materialas', 'url': 'https://cima.aemps.es/cima/fotos/thumbnails/materialas/64014/64014_materialas.jpg', 'fecha': 1585648800000}, {'tipo': 'formafarmac', 'url': 'https://cima.aemps.es/cima/fotos/thumbnails/formafarmac/64014/64014_formafarmac.jpg', 'fecha': 1520252905000}], 'viasAdministracion': [{'id': 48, 'nombre': 'VÍA ORAL'}], 'formaFarmaceutica': {'id': 40, 'nombre': 'COMPRIMIDO'}, 'formaFarmaceuticaSimplificada': {'id': 10, 'nombre': 'COMPRIMIDO'}, 'vtm': {'id': 142071000140100, 'nombre': 'levotiroxina'}, 'dosis': '100 mcg levotiroxina sodica'}, {'nregistro': '70042', 'nombre': 'EUTIROX 112 microgramos COMPRIMIDOS', 'labtitular': 'Merck S.L.', 'cpresc': 'Medicamento Sujeto A Prescripción Médica. Tratamiento De Larga Duración', 'estado': {'aut': 1219874400000}, 'comerc': True, 'receta': True, 'generico': False, 'conduc': False, 'triangulo': False, 'huerfano': False, 'biosimilar': False, 'nosustituible': {'id': 2, 'nombre': 'Medicamentos con principios activos de estrecho margen terapéutico'}, 'psum': False, 'notas': True, 'materialesInf': False, 'ema': False, 'docs': [{'tipo': 1, 'url': 'https://cima.aemps.es/cima/pdfs/ft/70042/FT_70042.pdf', 'urlHtml': 'https://cima.aemps.es/cima/dochtml/ft/70042/FT_70042.html', 'secc': True, 'fecha': 1686090841000}, {'tipo': 2, 'url': 'https://cima.aemps.es/cima/pdfs/p/70042/P_70042.pdf', 'urlHtml': 'https://cima.aemps.es/cima/dochtml/p/70042/P_70042.html', 'secc': True, 'fecha': 1699917894000}], 'fotos': [{'tipo': 'materialas', 'url': 'https://cima.aemps.es/cima/fotos/thumbnails/materialas/70042/70042_materialas.jpg', 'fecha': 1585648811000}, {'tipo': 'formafarmac', 'url': 'https://cima.aemps.es/cima/fotos/thumbnails/formafarmac/70042/70042_formafarmac.jpg', 'fecha': 1521633958000}], 'viasAdministracion': [{'id': 48, 'nombre': 'VÍA ORAL'}], 'formaFarmaceutica': {'id': 40, 'nombre': 'COMPRIMIDO'}, 'formaFarmaceuticaSimplificada': {'id': 10, 'nombre': 'COMPRIMIDO'}, 'vtm': {'id': 142071000140100, 'nombre': 'levotiroxina'}, 'dosis': '112 mcg levotiroxina sodica'}, {'nregistro': '64015', 'nombre': 'EUTIROX 125 microgramos COMPRIMIDOS', 'labtitular': 'Merck S.L.', 'cpresc': 'Medicamento Sujeto A Prescripción Médica. Tratamiento De Larga Duración', 'estado': {'aut': 993506400000}, 'comerc': True, 'receta': True, 'generico': False, 'conduc': False, 'triangulo': False, 'huerfano': False, 'biosimilar': False, 'nosustituible': {'id': 2, 'nombre': 'Medicamentos con principios activos de estrecho margen terapéutico'}, 'psum': False, 'notas': True, 'materialesInf': False, 'ema': False, 'docs': [{'tipo': 1, 'url': 'https://cima.aemps.es/cima/pdfs/ft/64015/FT_64015.pdf', 'urlHtml': 'https://cima.aemps.es/cima/dochtml/ft/64015/FT_64015.html', 'secc': True, 'fecha': 1686090594000}, {'tipo': 2, 'url': 'https://cima.aemps.es/cima/pdfs/p/64015/P_64015.pdf', 'urlHtml': 'https://cima.aemps.es/cima/dochtml/p/64015/P_64015.html', 'secc': True, 'fecha': 1699917822000}], 'fotos': [{'tipo': 'materialas', 'url': 'https://cima.aemps.es/cima/fotos/thumbnails/materialas/64015/64015_materialas.jpg', 'fecha': 1585648820000}, {'tipo': 'formafarmac', 'url': 'https://cima.aemps.es/cima/fotos/thumbnails/formafarmac/64015/64015_formafarmac.jpg', 'fecha': 1521634044000}], 'viasAdministracion': [{'id': 48, 'nombre': 'VÍA ORAL'}], 'formaFarmaceutica': {'id': 40, 'nombre': 'COMPRIMIDO'}, 'formaFarmaceuticaSimplificada': {'id': 10, 'nombre': 'COMPRIMIDO'}, 'vtm': {'id': 142071000140100, 'nombre': 'levotiroxina'}, 'dosis': '125 mcg levotiroxina sodica'}, {'nregistro': '70043', 'nombre': 'EUTIROX 137 microgramos COMPRIMIDOS', 'labtitular': 'Merck S.L.', 'cpresc': 'Medicamento Sujeto A Prescripción Médica. Tratamiento De Larga Duración', 'estado': {'aut': 1219874400000}, 'comerc': True, 'receta': True, 'generico': False, 'conduc': False, 'triangulo': False, 'huerfano': False, 'biosimilar': False, 'nosustituible': {'id': 2, 'nombre': 'Medicamentos con principios activos de estrecho margen terapéutico'}, 'psum': False, 'notas': True, 'materialesInf': False, 'ema': False, 'docs': [{'tipo': 1, 'url': 'https://cima.aemps.es/cima/pdfs/ft/70043/FT_70043.pdf', 'urlHtml': 'https://cima.aemps.es/cima/dochtml/ft/70043/FT_70043.html', 'secc': True, 'fecha': 1686090887000}, {'tipo': 2, 'url': 'https://cima.aemps.es/cima/pdfs/p/70043/P_70043.pdf', 'urlHtml': 'https://cima.aemps.es/cima/dochtml/p/70043/P_70043.html', 'secc': True, 'fecha': 1699917909000}], 'fotos': [{'tipo': 'materialas', 'url': 'https://cima.aemps.es/cima/fotos/thumbnails/materialas/70043/70043_materialas.jpg', 'fecha': 1585648830000}, {'tipo': 'formafarmac', 'url': 'https://cima.aemps.es/cima/fotos/thumbnails/formafarmac/70043/70043_formafarmac.jpg', 'fecha': 1521634078000}], 'viasAdministracion': [{'id': 48, 'nombre': 'VÍA ORAL'}], 'formaFarmaceutica': {'id': 40, 'nombre': 'COMPRIMIDO'}, 'formaFarmaceuticaSimplificada': {'id': 10, 'nombre': 'COMPRIMIDO'}, 'vtm': {'id': 142071000140100, 'nombre': 'levotiroxina'}, 'dosis': '137 mcg levotiroxina sodica'}, {'nregistro': '64016', 'nombre': 'EUTIROX 150 microgramos COMPRIMIDOS', 'labtitular': 'Merck S.L.', 'cpresc': 'Medicamento Sujeto A Prescripción Médica. Tratamiento De Larga Duración', 'estado': {'aut': 993506400000}, 'comerc': True, 'receta': True, 'generico': False, 'conduc': False, 'triangulo': False, 'huerfano': False, 'biosimilar': False, 'nosustituible': {'id': 2, 'nombre': 'Medicamentos con principios activos de estrecho margen terapéutico'}, 'psum': False, 'notas': True, 'materialesInf': False, 'ema': False, 'docs': [{'tipo': 1, 'url': 'https://cima.aemps.es/cima/pdfs/ft/64016/FT_64016.pdf', 'urlHtml': 'https://cima.aemps.es/cima/dochtml/ft/64016/FT_64016.html', 'secc': True, 'fecha': 1686090636000}, {'tipo': 2, 'url': 'https://cima.aemps.es/cima/pdfs/p/64016/P_64016.pdf', 'urlHtml': 'https://cima.aemps.es/cima/dochtml/p/64016/P_64016.html', 'secc': True, 'fecha': 1699917838000}], 'fotos': [{'tipo': 'materialas', 'url': 'https://cima.aemps.es/cima/fotos/thumbnails/materialas/64016/64016_materialas.jpg', 'fecha': 1585648840000}, {'tipo': 'formafarmac', 'url': 'https://cima.aemps.es/cima/fotos/thumbnails/formafarmac/64016/64016_formafarmac.jpg', 'fecha': 1521634221000}], 'viasAdministracion': [{'id': 48, 'nombre': 'VÍA ORAL'}], 'formaFarmaceutica': {'id': 40, 'nombre': 'COMPRIMIDO'}, 'formaFarmaceuticaSimplificada': {'id': 10, 'nombre': 'COMPRIMIDO'}, 'vtm': {'id': 142071000140100, 'nombre': 'levotiroxina'}, 'dosis': '150 mcg levotiroxina sodica'}, {'nregistro': '64017', 'nombre': 'EUTIROX 175 microgramos COMPRIMIDOS', 'labtitular': 'Merck S.L.', 'cpresc': 'Medicamento Sujeto A Prescripción Médica. Tratamiento De Larga Duración', 'estado': {'aut': 993506400000}, 'comerc': True, 'receta': True, 'generico': False, 'conduc': False, 'triangulo': False, 'huerfano': False, 'biosimilar': False, 'nosustituible': {'id': 2, 'nombre': 'Medicamentos con principios activos de estrecho margen terapéutico'}, 'psum': False, 'notas': True, 'materialesInf': False, 'ema': False, 'docs': [{'tipo': 1, 'url': 'https://cima.aemps.es/cima/pdfs/ft/64017/FT_64017.pdf', 'urlHtml': 'https://cima.aemps.es/cima/dochtml/ft/64017/FT_64017.html', 'secc': True, 'fecha': 1686090685000}, {'tipo': 2, 'url': 'https://cima.aemps.es/cima/pdfs/p/64017/P_64017.pdf', 'urlHtml': 'https://cima.aemps.es/cima/dochtml/p/64017/P_64017.html', 'secc': True, 'fecha': 1699917852000}], 'fotos': [{'tipo': 'materialas', 'url': 'https://cima.aemps.es/cima/fotos/thumbnails/materialas/64017/64017_materialas.jpg', 'fecha': 1585648850000}, {'tipo': 'formafarmac', 'url': 'https://cima.aemps.es/cima/fotos/thumbnails/formafarmac/64017/64017_formafarmac.jpg', 'fecha': 1521635167000}], 'viasAdministracion': [{'id': 48, 'nombre': 'VÍA ORAL'}], 'formaFarmaceutica': {'id': 40, 'nombre': 'COMPRIMIDO'}, 'formaFarmaceuticaSimplificada': {'id': 10, 'nombre': 'COMPRIMIDO'}, 'vtm': {'id': 142071000140100, 'nombre': 'levotiroxina'}, 'dosis': '175 mcg levotiroxina sodica'}, {'nregistro': '64018', 'nombre': 'EUTIROX 200 microgramos COMPRIMIDOS', 'labtitular': 'Merck S.L.', 'cpresc': 'Medicamento Sujeto A Prescripción Médica. Tratamiento De Larga Duración', 'estado': {'aut': 993506400000}, 'comerc': True, 'receta': True, 'generico': False, 'conduc': False, 'triangulo': False, 'huerfano': False, 'biosimilar': False, 'nosustituible': {'id': 2, 'nombre': 'Medicamentos con principios activos de estrecho margen terapéutico'}, 'psum': False, 'notas': True, 'materialesInf': False, 'ema': False, 'docs': [{'tipo': 1, 'url': 'https://cima.aemps.es/cima/pdfs/ft/64018/FT_64018.pdf', 'urlHtml': 'https://cima.aemps.es/cima/dochtml/ft/64018/FT_64018.html', 'secc': True, 'fecha': 1686090752000}, {'tipo': 2, 'url': 'https://cima.aemps.es/cima/pdfs/p/64018/P_64018.pdf', 'urlHtml': 'https://cima.aemps.es/cima/dochtml/p/64018/P_64018.html', 'secc': True, 'fecha': 1699917866000}], 'fotos': [{'tipo': 'materialas', 'url': 'https://cima.aemps.es/cima/fotos/thumbnails/materialas/64018/64018_materialas.jpg', 'fecha': 1585648766000}, {'tipo': 'formafarmac', 'url': 'https://cima.aemps.es/cima/fotos/thumbnails/formafarmac/64018/64018_formafarmac.jpg', 'fecha': 1585647953000}], 'viasAdministracion': [{'id': 48, 'nombre': 'VÍA ORAL'}], 'formaFarmaceutica': {'id': 40, 'nombre': 'COMPRIMIDO'}, 'formaFarmaceuticaSimplificada': {'id': 10, 'nombre': 'COMPRIMIDO'}, 'vtm': {'id': 142071000140100, 'nombre': 'levotiroxina'}, 'dosis': '200 mcg levotiroxina sodica'}, {'nregistro': '64011', 'nombre': 'EUTIROX 25 microgramos COMPRIMIDOS', 'labtitular': 'Merck S.L.', 'cpresc': 'Medicamento Sujeto A Prescripción Médica. Tratamiento De Larga Duración', 'estado': {'aut': 993506400000}, 'comerc': True, 'receta': True, 'generico': False, 'conduc': False, 'triangulo': False, 'huerfano': False, 'biosimilar': False, 'nosustituible': {'id': 2, 'nombre': 'Medicamentos con principios activos de estrecho margen terapéutico'}, 'psum': False, 'notas': True, 'materialesInf': False, 'ema': False, 'docs': [{'tipo': 1, 'url': 'https://cima.aemps.es/cima/pdfs/ft/64011/FT_64011.pdf', 'urlHtml': 'https://cima.aemps.es/cima/dochtml/ft/64011/FT_64011.html', 'secc': True, 'fecha': 1686090421000}, {'tipo': 2, 'url': 'https://cima.aemps.es/cima/pdfs/p/64011/P_64011.pdf', 'urlHtml': 'https://cima.aemps.es/cima/dochtml/p/64011/P_64011.html', 'secc': True, 'fecha': 1699917761000}], 'fotos': [{'tipo': 'materialas', 'url': 'https://cima.aemps.es/cima/fotos/thumbnails/materialas/64011/64011_materialas.jpg', 'fecha': 1585648859000}, {'tipo': 'formafarmac', 'url': 'https://cima.aemps.es/cima/fotos/thumbnails/formafarmac/64011/64011_formafarmac.jpg', 'fecha': 1521633817000}], 'viasAdministracion': [{'id': 48, 'nombre': 'VÍA ORAL'}], 'formaFarmaceutica': {'id': 40, 'nombre': 'COMPRIMIDO'}, 'formaFarmaceuticaSimplificada': {'id': 10, 'nombre': 'COMPRIMIDO'}, 'vtm': {'id': 142071000140100, 'nombre': 'levotiroxina'}, 'dosis': '25 mcg levotiroxina sodica'}, {'nregistro': '64012', 'nombre': 'EUTIROX 50 microgramos COMPRIMIDOS', 'labtitular': 'Merck S.L.', 'cpresc': 'Medicamento Sujeto A Prescripción Médica. Tratamiento De Larga Duración', 'estado': {'aut': 993506400000}, 'comerc': True, 'receta': True, 'generico': False, 'conduc': False, 'triangulo': False, 'huerfano': False, 'biosimilar': False, 'nosustituible': {'id': 2, 'nombre': 'Medicamentos con principios activos de estrecho margen terapéutico'}, 'psum': False, 'notas': True, 'materialesInf': False, 'ema': False, 'docs': [{'tipo': 1, 'url': 'https://cima.aemps.es/cima/pdfs/ft/64012/FT_64012.pdf', 'urlHtml': 'https://cima.aemps.es/cima/dochtml/ft/64012/FT_64012.html', 'secc': True, 'fecha': 1686090465000}, {'tipo': 2, 'url': 'https://cima.aemps.es/cima/pdfs/p/64012/P_64012.pdf', 'urlHtml': 'https://cima.aemps.es/cima/dochtml/p/64012/P_64012.html', 'secc': True, 'fecha': 1699917775000}], 'fotos': [{'tipo': 'materialas', 'url': 'https://cima.aemps.es/cima/fotos/thumbnails/materialas/64012/64012_materialas.jpg', 'fecha': 1585648868000}, {'tipo': 'formafarmac', 'url': 'https://cima.aemps.es/cima/fotos/thumbnails/formafarmac/64012/64012_formafarmac.jpg', 'fecha': 1521633844000}], 'viasAdministracion': [{'id': 48, 'nombre': 'VÍA ORAL'}], 'formaFarmaceutica': {'id': 40, 'nombre': 'COMPRIMIDO'}, 'formaFarmaceuticaSimplificada': {'id': 10, 'nombre': 'COMPRIMIDO'}, 'vtm': {'id': 142071000140100, 'nombre': 'levotiroxina'}, 'dosis': '50 mcg levotiroxina sodica'}, {'nregistro': '64013', 'nombre': 'EUTIROX 75 microgramos COMPRIMIDOS', 'labtitular': 'Merck S.L.', 'cpresc': 'Medicamento Sujeto A Prescripción Médica. Tratamiento De Larga Duración', 'estado': {'aut': 993506400000}, 'comerc': True, 'receta': True, 'generico': False, 'conduc': False, 'triangulo': False, 'huerfano': False, 'biosimilar': False, 'nosustituible': {'id': 2, 'nombre': 'Medicamentos con principios activos de estrecho margen terapéutico'}, 'psum': False, 'notas': True, 'materialesInf': False, 'ema': False, 'docs': [{'tipo': 1, 'url': 'https://cima.aemps.es/cima/pdfs/ft/64013/FT_64013.pdf', 'urlHtml': 'https://cima.aemps.es/cima/dochtml/ft/64013/FT_64013.html', 'secc': True, 'fecha': 1686090509000}, {'tipo': 2, 'url': 'https://cima.aemps.es/cima/pdfs/p/64013/P_64013.pdf', 'urlHtml': 'https://cima.aemps.es/cima/dochtml/p/64013/P_64013.html', 'secc': True, 'fecha': 1699917792000}], 'fotos': [{'tipo': 'materialas', 'url': 'https://cima.aemps.es/cima/fotos/thumbnails/materialas/64013/64013_materialas.jpg', 'fecha': 1585648782000}, {'tipo': 'formafarmac', 'url': 'https://cima.aemps.es/cima/fotos/thumbnails/formafarmac/64013/64013_formafarmac.jpg', 'fecha': 1521633868000}], 'viasAdministracion': [{'id': 48, 'nombre': 'VÍA ORAL'}], 'formaFarmaceutica': {'id': 40, 'nombre': 'COMPRIMIDO'}, 'formaFarmaceuticaSimplificada': {'id': 10, 'nombre': 'COMPRIMIDO'}, 'vtm': {'id': 142071000140100, 'nombre': 'levotiroxina'}, 'dosis': '75 mcg levotiroxina sodica'}, {'nregistro': '70044', 'nombre': 'EUTIROX 88 microgramos COMPRIMIDOS', 'labtitular': 'Merck S.L.', 'cpresc': 'Medicamento Sujeto A Prescripción Médica. Tratamiento De Larga Duración', 'estado': {'aut': 1219874400000}, 'comerc': True, 'receta': True, 'generico': False, 'conduc': False, 'triangulo': False, 'huerfano': False, 'biosimilar': False, 'nosustituible': {'id': 2, 'nombre': 'Medicamentos con principios activos de estrecho margen terapéutico'}, 'psum': False, 'notas': True, 'materialesInf': False, 'ema': False, 'docs': [{'tipo': 1, 'url': 'https://cima.aemps.es/cima/pdfs/ft/70044/FT_70044.pdf', 'urlHtml': 'https://cima.aemps.es/cima/dochtml/ft/70044/FT_70044.html', 'secc': True, 'fecha': 1686090799000}, {'tipo': 2, 'url': 'https://cima.aemps.es/cima/pdfs/p/70044/P_70044.pdf', 'urlHtml': 'https://cima.aemps.es/cima/dochtml/p/70044/P_70044.html', 'secc': True, 'fecha': 1699917879000}], 'fotos': [{'tipo': 'materialas', 'url': 'https://cima.aemps.es/cima/fotos/thumbnails/materialas/70044/70044_materialas.jpg', 'fecha': 1585648880000}, {'tipo': 'formafarmac', 'url': 'https://cima.aemps.es/cima/fotos/thumbnails/formafarmac/70044/70044_formafarmac.jpg', 'fecha': 1521633917000}], 'viasAdministracion': [{'id': 48, 'nombre': 'VÍA ORAL'}], 'formaFarmaceutica': {'id': 40, 'nombre': 'COMPRIMIDO'}, 'formaFarmaceuticaSimplificada': {'id': 10, 'nombre': 'COMPRIMIDO'}, 'vtm': {'id': 142071000140100, 'nombre': 'levotiroxina'}, 'dosis': '88 mcg levotiroxina sodica'}]\n",
      "11\n",
      "EUTIROX\n",
      "EUTIROX\n",
      "EUTIROX\n",
      "EUTIROX\n",
      "EUTIROX\n",
      "EUTIROX\n",
      "EUTIROX\n",
      "EUTIROX\n",
      "EUTIROX\n",
      "EUTIROX\n",
      "EUTIROX\n"
     ]
    }
   ],
   "source": [
    "list_elements = cima.get_medicamentos_all(name=\"EUTIROX\")\n",
    "print(list_elements)\n",
    "print(len(list_elements))\n",
    "for element in list_elements:\n",
    "    print(element[\"nombre\"].split(\" \")[0])"
   ]
  },
  {
   "cell_type": "code",
   "execution_count": 113,
   "metadata": {},
   "outputs": [
    {
     "name": "stdout",
     "output_type": "stream",
     "text": [
      "https://cima.aemps.es/cima/rest/medicamento?&cn=&nregistro=64014\n"
     ]
    }
   ],
   "source": [
    "text, status = cima.get_medicamento(cn=\"\",nregister=\"64014\")"
   ]
  },
  {
   "cell_type": "code",
   "execution_count": 114,
   "metadata": {},
   "outputs": [
    {
     "name": "stdout",
     "output_type": "stream",
     "text": [
      "{'nregistro': '64014', 'nombre': 'EUTIROX 100 microgramos COMPRIMIDOS', 'pactivos': 'LEVOTIROXINA SODICA', 'labtitular': 'Merck S.L.', 'cpresc': 'Medicamento Sujeto A Prescripción Médica. Tratamiento De Larga Duración', 'estado': {'aut': 993506400000}, 'comerc': True, 'receta': True, 'generico': False, 'conduc': False, 'triangulo': False, 'huerfano': False, 'biosimilar': False, 'nosustituible': {'id': 2, 'nombre': 'Medicamentos con principios activos de estrecho margen terapéutico'}, 'psum': False, 'notas': True, 'materialesInf': False, 'ema': False, 'docs': [{'tipo': 1, 'url': 'https://cima.aemps.es/cima/pdfs/ft/64014/FT_64014.pdf', 'urlHtml': 'https://cima.aemps.es/cima/dochtml/ft/64014/FT_64014.html', 'secc': True, 'fecha': 1686090551000}, {'tipo': 2, 'url': 'https://cima.aemps.es/cima/pdfs/p/64014/P_64014.pdf', 'urlHtml': 'https://cima.aemps.es/cima/dochtml/p/64014/P_64014.html', 'secc': True, 'fecha': 1699917809000}], 'fotos': [{'tipo': 'materialas', 'url': 'https://cima.aemps.es/cima/fotos/thumbnails/materialas/64014/64014_materialas.jpg', 'fecha': 1585648800000}, {'tipo': 'formafarmac', 'url': 'https://cima.aemps.es/cima/fotos/thumbnails/formafarmac/64014/64014_formafarmac.jpg', 'fecha': 1520252905000}], 'atcs': [{'codigo': 'H03A', 'nombre': 'PREPARADOS DE HORMONA TIROIDEA', 'nivel': 3}, {'codigo': 'H03AA', 'nombre': 'Hormonas tiroideas', 'nivel': 4}, {'codigo': 'H03AA01', 'nombre': 'Levotiroxina sódica', 'nivel': 5}], 'principiosActivos': [{'id': 1842, 'codigo': '1842SO', 'nombre': 'LEVOTIROXINA SODICA', 'cantidad': '100', 'unidad': 'µg', 'orden': 1}], 'excipientes': [{'id': 9142, 'nombre': 'CROSCARMELOSA SODICA', 'cantidad': '3.50', 'unidad': 'mg', 'orden': 1}], 'viasAdministracion': [{'id': 48, 'nombre': 'VÍA ORAL'}], 'presentaciones': [{'cn': '698095', 'nombre': 'EUTIROX 100 microgramos COMPRIMIDOS , 100 comprimidos', 'estado': {'aut': 1369000800000}, 'comerc': True, 'psum': False}], 'formaFarmaceutica': {'id': 40, 'nombre': 'COMPRIMIDO'}, 'formaFarmaceuticaSimplificada': {'id': 10, 'nombre': 'COMPRIMIDO'}, 'vtm': {'id': 142071000140100, 'nombre': 'levotiroxina'}, 'dosis': '100 mcg levotiroxina sodica'}\n",
      "LEVOTIROXINA SODICA\n",
      "[{'id': 1842, 'codigo': '1842SO', 'nombre': 'LEVOTIROXINA SODICA', 'cantidad': '100', 'unidad': 'µg', 'orden': 1}]\n"
     ]
    }
   ],
   "source": [
    "print(text)\n",
    "print(text[\"pactivos\"])\n",
    "print(text[\"principiosActivos\"])"
   ]
  },
  {
   "cell_type": "code",
   "execution_count": 115,
   "metadata": {},
   "outputs": [
    {
     "name": "stdout",
     "output_type": "stream",
     "text": [
      "https://cima.aemps.es/cima/rest/docSegmentado/contenido/1?&nregistro=64014&seccion=\n"
     ]
    }
   ],
   "source": [
    "text, status = cima.get_info_medicamento_section(typeDoc=1,nregister=\"64014\",section=\"\")"
   ]
  },
  {
   "cell_type": "code",
   "execution_count": 116,
   "metadata": {},
   "outputs": [
    {
     "name": "stdout",
     "output_type": "stream",
     "text": [
      "{'seccion': '4.8', 'titulo': 'Reacciones adversas', 'contenido': '<div>\\r\\n    <p style=\"margin:0pt; text-align:justify; line-height:115%; font-size:11pt\"><span style=\"font-family:Times New Roman; font-size:11pt\">Cuando se excede el l&#237;mite de tolerancia individual de levotiroxina de sodio o cuando se produce sobredosis, especialmente si se aumenta la dosis demasiado r&#225;pidamente al inicio del tratamiento, es posible que aparezcan los siguientes s&#237;ntomas cl&#237;nicos t&#237;picos de hipertiroidismo: arritmias card&#237;acas (ej. fibrilaci&#243;n auricular y extras&#237;stoles), taquicardia, palpitaciones, angor, dolor de cabeza, debilidad muscular y calambres, rubor, fiebre, v&#243;mitos, alteraciones de la menstruaci&#243;n, pseudotumor cerebral, temblor, agitaci&#243;n, insomnio, hiperhidrosis, p&#233;rdida de peso y diarrea.</span></p>\\r\\n\\r\\n    <p style=\"margin:0pt; text-align:justify; line-height:115%; font-size:11pt\"><span style=\"font-family:Times New Roman; font-size:11pt\">En estos casos la dosis diaria debe disminuirse o suspenderse la medicaci&#243;n durante algunos d&#237;as. Una vez hayan desaparecido las reacciones adversas, la terapia puede reanudarse con precauci&#243;n.</span></p>\\r\\n\\r\\n    <p style=\"margin:0pt 0pt 0pt 28.35pt; text-align:justify; line-height:115%; font-size:11pt\"><span style=\"font-family:Times New Roman; font-size:11pt\">&#xa0;</span></p>\\r\\n\\r\\n    <p style=\"margin:0pt\"><span style=\"font-family:Times New Roman; font-size:11pt\">En caso de hipersensibilidad a cualquiera de los componentes de Eutirox pueden aparecer especialmente reacciones al&#233;rgicas cut&#225;neas (sarpullido, urticaria) o del tracto respiratorio. Se han descrito casos de angioedema.</span></p>\\r\\n\\r\\n    <p style=\"margin:0pt\"><span style=\"font-family:Times New Roman; font-size:11pt\">&#xa0;</span></p>\\r\\n\\r\\n    <p style=\"margin:0pt; text-align:justify; line-height:115%; font-size:11pt\"><span style=\"font-family:Times New Roman; font-size:11pt\">Notificaci&#243;n de sospechas de reacciones adversas</span></p>\\r\\n\\r\\n    <p style=\"margin:0pt; line-height:115%; font-size:11pt\"><span style=\"font-family:Times New Roman; font-size:11pt\">Es importante notificar sospechas de reacciones adversas al medicamento tras su autorizaci&#243;n. Ello permite una supervisi&#243;n continuada de la relaci&#243;n beneficio/riesgo del medicamento. Se invita a los profesionales sanitarios a notificar las sospechas de reacciones adversas a trav&#233;s del Sistema Espa&#241;ol de Farmacovigilancia de Medicamentos de Uso Humano:</span> <a href=\"http://www.notificaRAM.es\"><u><span style=\"font-family:Times New Roman; font-size:11pt; color:#0000ff\">www.notificaRAM.es</span></u></a></p>\\r\\n  </div>', 'orden': 16}\n",
      "<div>\n",
      "    <p style=\"margin:0pt; text-align:justify; line-height:115%; font-size:11pt\"><span style=\"font-family:Times New Roman; font-size:11pt\">Cuando se excede el l&#237;mite de tolerancia individual de levotiroxina de sodio o cuando se produce sobredosis, especialmente si se aumenta la dosis demasiado r&#225;pidamente al inicio del tratamiento, es posible que aparezcan los siguientes s&#237;ntomas cl&#237;nicos t&#237;picos de hipertiroidismo: arritmias card&#237;acas (ej. fibrilaci&#243;n auricular y extras&#237;stoles), taquicardia, palpitaciones, angor, dolor de cabeza, debilidad muscular y calambres, rubor, fiebre, v&#243;mitos, alteraciones de la menstruaci&#243;n, pseudotumor cerebral, temblor, agitaci&#243;n, insomnio, hiperhidrosis, p&#233;rdida de peso y diarrea.</span></p>\n",
      "\n",
      "    <p style=\"margin:0pt; text-align:justify; line-height:115%; font-size:11pt\"><span style=\"font-family:Times New Roman; font-size:11pt\">En estos casos la dosis diaria debe disminuirse o suspenderse la medicaci&#243;n durante algunos d&#237;as. Una vez hayan desaparecido las reacciones adversas, la terapia puede reanudarse con precauci&#243;n.</span></p>\n",
      "\n",
      "    <p style=\"margin:0pt 0pt 0pt 28.35pt; text-align:justify; line-height:115%; font-size:11pt\"><span style=\"font-family:Times New Roman; font-size:11pt\">&#xa0;</span></p>\n",
      "\n",
      "    <p style=\"margin:0pt\"><span style=\"font-family:Times New Roman; font-size:11pt\">En caso de hipersensibilidad a cualquiera de los componentes de Eutirox pueden aparecer especialmente reacciones al&#233;rgicas cut&#225;neas (sarpullido, urticaria) o del tracto respiratorio. Se han descrito casos de angioedema.</span></p>\n",
      "\n",
      "    <p style=\"margin:0pt\"><span style=\"font-family:Times New Roman; font-size:11pt\">&#xa0;</span></p>\n",
      "\n",
      "    <p style=\"margin:0pt; text-align:justify; line-height:115%; font-size:11pt\"><span style=\"font-family:Times New Roman; font-size:11pt\">Notificaci&#243;n de sospechas de reacciones adversas</span></p>\n",
      "\n",
      "    <p style=\"margin:0pt; line-height:115%; font-size:11pt\"><span style=\"font-family:Times New Roman; font-size:11pt\">Es importante notificar sospechas de reacciones adversas al medicamento tras su autorizaci&#243;n. Ello permite una supervisi&#243;n continuada de la relaci&#243;n beneficio/riesgo del medicamento. Se invita a los profesionales sanitarios a notificar las sospechas de reacciones adversas a trav&#233;s del Sistema Espa&#241;ol de Farmacovigilancia de Medicamentos de Uso Humano:</span> <a href=\"http://www.notificaRAM.es\"><u><span style=\"font-family:Times New Roman; font-size:11pt; color:#0000ff\">www.notificaRAM.es</span></u></a></p>\n",
      "  </div>\n"
     ]
    }
   ],
   "source": [
    "print(text[17])\n",
    "print(text[17][\"contenido\"])"
   ]
  },
  {
   "cell_type": "code",
   "execution_count": 117,
   "metadata": {},
   "outputs": [
    {
     "data": {
      "text/plain": [
       "'Cuando se excede el límite de tolerancia individual de levotiroxina de sodio o cuando se produce sobredosis, especialmente si se aumenta la dosis demasiado rápidamente al inicio del tratamiento, es posible que aparezcan los siguientes síntomas clínicos típicos de hipertiroidismo: arritmias cardíacas (ej. fibrilación auricular y extrasístoles), taquicardia, palpitaciones, angor, dolor de cabeza, debilidad muscular y calambres, rubor, fiebre, vómitos, alteraciones de la menstruación, pseudotumor cerebral, temblor, agitación, insomnio, hiperhidrosis, pérdida de peso y diarrea.\\nEn estos casos la dosis diaria debe disminuirse o suspenderse la medicación durante algunos días. Una vez hayan desaparecido las reacciones adversas, la terapia puede reanudarse con precaución.\\nEn caso de hipersensibilidad a cualquiera de los componentes de Eutirox pueden aparecer especialmente reacciones alérgicas cutáneas (sarpullido, urticaria) o del tracto respiratorio. Se han descrito casos de angioedema.\\nNotificación de sospechas de reacciones adversas\\nEs importante notificar sospechas de reacciones adversas al medicamento tras su autorización. Ello permite una supervisión continuada de la relación beneficio/riesgo del medicamento. Se invita a los profesionales sanitarios a notificar las sospechas de reacciones adversas a través del Sistema Español de Farmacovigilancia de Medicamentos de Uso Humano:\\nwww.notificaRAM.es'"
      ]
     },
     "execution_count": 117,
     "metadata": {},
     "output_type": "execute_result"
    }
   ],
   "source": [
    "extract_and_clean_text(text[17][\"contenido\"])"
   ]
  },
  {
   "cell_type": "code",
   "execution_count": 118,
   "metadata": {},
   "outputs": [
    {
     "name": "stdout",
     "output_type": "stream",
     "text": [
      "https://cima.aemps.es/cima/rest/buscarEnFichaTecnica\n",
      "75\n"
     ]
    }
   ],
   "source": [
    "body = [{\n",
    "\"seccion\":\"4.1\",\n",
    "\"texto\":\"cáncer\",\n",
    "\"contiene\":1\n",
    "}]\n",
    "list_objects = cima.buscarEnFichaTecnica(body)"
   ]
  },
  {
   "cell_type": "code",
   "execution_count": 119,
   "metadata": {},
   "outputs": [
    {
     "name": "stdout",
     "output_type": "stream",
     "text": [
      "75\n",
      "[{'nregistro': '71857', 'nombre': 'ANASTROZOL SANDOZ 1 MG COMPRIMIDOS RECUBIERTOS CON PELÍCULA EFG', 'labtitular': 'Sandoz Farmaceutica S.A.', 'cpresc': 'Medicamento Sujeto A Prescripción Médica', 'estado': {'aut': 1302645600000}, 'comerc': True, 'receta': True, 'generico': True, 'conduc': False, 'triangulo': False, 'huerfano': False, 'biosimilar': False, 'nosustituible': {'id': 0, 'nombre': 'N/A'}, 'psum': False, 'notas': False, 'materialesInf': False, 'ema': False, 'docs': [{'tipo': 1, 'url': 'https://cima.aemps.es/cima/pdfs/ft/71857/FT_71857.pdf', 'urlHtml': 'https://cima.aemps.es/cima/dochtml/ft/71857/FT_71857.html', 'secc': True, 'fecha': 1624398171000}, {'tipo': 2, 'url': 'https://cima.aemps.es/cima/pdfs/p/71857/P_71857.pdf', 'urlHtml': 'https://cima.aemps.es/cima/dochtml/p/71857/P_71857.html', 'secc': True, 'fecha': 1624398183000}], 'fotos': [{'tipo': 'materialas', 'url': 'https://cima.aemps.es/cima/fotos/thumbnails/materialas/71857/71857_materialas.jpg', 'fecha': 1529504834000}, {'tipo': 'formafarmac', 'url': 'https://cima.aemps.es/cima/fotos/thumbnails/formafarmac/71857/71857_formafarmac.jpg', 'fecha': 1529504836000}], 'viasAdministracion': [{'id': 48, 'nombre': 'VÍA ORAL'}], 'formaFarmaceutica': {'id': 42, 'nombre': 'COMPRIMIDO RECUBIERTO CON PELÍCULA'}, 'formaFarmaceuticaSimplificada': {'id': 10, 'nombre': 'COMPRIMIDO'}, 'vtm': {'id': 108774000, 'nombre': 'anastrozol'}, 'dosis': '1 MG'}, {'nregistro': '69269', 'nombre': 'ANASTROZOL STADA 1 mg COMPRIMIDOS RECUBIERTOS CON PELICULA EFG', 'labtitular': 'Laboratorio Stada S.L.', 'cpresc': 'Medicamento Sujeto A Prescripción Médica', 'estado': {'aut': 1190152800000}, 'comerc': True, 'receta': True, 'generico': True, 'conduc': False, 'triangulo': False, 'huerfano': False, 'biosimilar': False, 'nosustituible': {'id': 0, 'nombre': 'N/A'}, 'psum': False, 'notas': False, 'materialesInf': False, 'ema': False, 'docs': [{'tipo': 1, 'url': 'https://cima.aemps.es/cima/pdfs/ft/69269/FT_69269.pdf', 'urlHtml': 'https://cima.aemps.es/cima/dochtml/ft/69269/FT_69269.html', 'secc': True, 'fecha': 1617056639000}, {'tipo': 2, 'url': 'https://cima.aemps.es/cima/pdfs/p/69269/P_69269.pdf', 'urlHtml': 'https://cima.aemps.es/cima/dochtml/p/69269/P_69269.html', 'secc': True, 'fecha': 1617140300000}], 'fotos': [{'tipo': 'materialas', 'url': 'https://cima.aemps.es/cima/fotos/thumbnails/materialas/69269/69269_materialas.jpg', 'fecha': 1686657956000}, {'tipo': 'formafarmac', 'url': 'https://cima.aemps.es/cima/fotos/thumbnails/formafarmac/69269/69269_formafarmac.jpg', 'fecha': 1526541737000}], 'viasAdministracion': [{'id': 48, 'nombre': 'VÍA ORAL'}], 'formaFarmaceutica': {'id': 42, 'nombre': 'COMPRIMIDO RECUBIERTO CON PELÍCULA'}, 'formaFarmaceuticaSimplificada': {'id': 10, 'nombre': 'COMPRIMIDO'}, 'vtm': {'id': 108774000, 'nombre': 'anastrozol'}, 'dosis': '1 mg'}, {'nregistro': '69088', 'nombre': 'BICALUTAMIDA SANDOZ 50 mg COMPRIMIDOS RECUBIERTOS CON PELÍCULA EFG', 'labtitular': 'Sandoz Farmaceutica S.A.', 'cpresc': 'Medicamento Sujeto A Prescripción Médica', 'estado': {'aut': 1202770800000}, 'comerc': True, 'receta': True, 'generico': True, 'conduc': True, 'triangulo': False, 'huerfano': False, 'biosimilar': False, 'nosustituible': {'id': 0, 'nombre': 'N/A'}, 'psum': False, 'notas': False, 'materialesInf': False, 'ema': False, 'docs': [{'tipo': 1, 'url': 'https://cima.aemps.es/cima/pdfs/ft/69088/FT_69088.pdf', 'urlHtml': 'https://cima.aemps.es/cima/dochtml/ft/69088/FT_69088.html', 'secc': True, 'fecha': 1563486848000}, {'tipo': 2, 'url': 'https://cima.aemps.es/cima/pdfs/p/69088/P_69088.pdf', 'urlHtml': 'https://cima.aemps.es/cima/dochtml/p/69088/P_69088.html', 'secc': True, 'fecha': 1563486856000}], 'fotos': [{'tipo': 'materialas', 'url': 'https://cima.aemps.es/cima/fotos/thumbnails/materialas/69088/69088_materialas.jpg', 'fecha': 1608015861000}, {'tipo': 'formafarmac', 'url': 'https://cima.aemps.es/cima/fotos/thumbnails/formafarmac/69088/69088_formafarmac.jpg', 'fecha': 1608015864000}], 'viasAdministracion': [{'id': 48, 'nombre': 'VÍA ORAL'}], 'formaFarmaceutica': {'id': 42, 'nombre': 'COMPRIMIDO RECUBIERTO CON PELÍCULA'}, 'formaFarmaceuticaSimplificada': {'id': 10, 'nombre': 'COMPRIMIDO'}, 'vtm': {'id': 108766001, 'nombre': 'bicalutamida'}, 'dosis': '50 mg'}, {'nregistro': '62107', 'nombre': 'CISPLATINO PHARMACIA 1 mg/ml CONCENTRADO PARA SOLUCION PARA PERFUSION EFG', 'labtitular': 'Pharmacia Nostrum S.A.', 'cpresc': 'Uso Hospitalario', 'estado': {'aut': 896652000000}, 'comerc': True, 'receta': True, 'generico': True, 'conduc': True, 'triangulo': False, 'huerfano': False, 'biosimilar': False, 'nosustituible': {'id': 0, 'nombre': 'N/A'}, 'psum': False, 'notas': False, 'materialesInf': False, 'ema': False, 'docs': [{'tipo': 1, 'url': 'https://cima.aemps.es/cima/pdfs/ft/62107/FT_62107.pdf', 'urlHtml': 'https://cima.aemps.es/cima/dochtml/ft/62107/FT_62107.html', 'secc': True, 'fecha': 1698185157000}, {'tipo': 2, 'url': 'https://cima.aemps.es/cima/pdfs/p/62107/P_62107.pdf', 'urlHtml': 'https://cima.aemps.es/cima/dochtml/p/62107/P_62107.html', 'secc': True, 'fecha': 1698185172000}], 'fotos': [{'tipo': 'materialas', 'url': 'https://cima.aemps.es/cima/fotos/thumbnails/materialas/62107/62107_materialas.jpg', 'fecha': 1514292281000}, {'tipo': 'formafarmac', 'url': 'https://cima.aemps.es/cima/fotos/thumbnails/formafarmac/62107/62107_formafarmac.jpg', 'fecha': 1514292282000}], 'viasAdministracion': [{'id': 42, 'nombre': 'VÍA INTRAVENOSA'}], 'formaFarmaceutica': {'id': 225, 'nombre': 'CONCENTRADO PARA SOLUCIÓN PARA PERFUSIÓN'}, 'formaFarmaceuticaSimplificada': {'id': 35, 'nombre': 'INYECTABLE PERFUSION'}, 'vtm': {'id': 57066004, 'nombre': 'cisplatino'}, 'dosis': '1 mg cisplatino/ml'}, {'nregistro': '71058', 'nombre': 'GALDAR 2,5 mg COMPRIMIDOS RECUBIERTOS CON PELICULA EFG', 'labtitular': 'Gp Pharm S.A.', 'cpresc': 'Medicamento Sujeto A Prescripción Médica', 'estado': {'aut': 1245189600000}, 'comerc': True, 'receta': True, 'generico': True, 'conduc': False, 'triangulo': False, 'huerfano': False, 'biosimilar': False, 'nosustituible': {'id': 0, 'nombre': 'N/A'}, 'psum': False, 'notas': False, 'materialesInf': False, 'ema': False, 'docs': [{'tipo': 1, 'url': 'https://cima.aemps.es/cima/pdfs/ft/71058/FT_71058.pdf', 'urlHtml': 'https://cima.aemps.es/cima/dochtml/ft/71058/FT_71058.html', 'secc': True, 'fecha': 1623534187000}, {'tipo': 2, 'url': 'https://cima.aemps.es/cima/pdfs/p/71058/P_71058.pdf', 'urlHtml': 'https://cima.aemps.es/cima/dochtml/p/71058/P_71058.html', 'secc': True, 'fecha': 1623534206000}], 'fotos': [{'tipo': 'materialas', 'url': 'https://cima.aemps.es/cima/fotos/thumbnails/materialas/71058/71058_materialas.jpg', 'fecha': 1600339996000}, {'tipo': 'formafarmac', 'url': 'https://cima.aemps.es/cima/fotos/thumbnails/formafarmac/71058/71058_formafarmac.jpg', 'fecha': 1600339999000}], 'viasAdministracion': [{'id': 48, 'nombre': 'VÍA ORAL'}], 'formaFarmaceutica': {'id': 42, 'nombre': 'COMPRIMIDO RECUBIERTO CON PELÍCULA'}, 'formaFarmaceuticaSimplificada': {'id': 10, 'nombre': 'COMPRIMIDO'}, 'vtm': {'id': 108777007, 'nombre': 'letrozol'}, 'dosis': '2.5 mg'}, {'nregistro': '74082', 'nombre': 'GEMCITABINA HOSPIRA 1000 mg CONCENTRADO PARA SOLUCION PARA PERFUSION', 'labtitular': 'Pfizer S.L.', 'cpresc': 'Uso Hospitalario', 'estado': {'aut': 1312408800000}, 'comerc': True, 'receta': True, 'generico': False, 'conduc': True, 'triangulo': False, 'huerfano': False, 'biosimilar': False, 'nosustituible': {'id': 0, 'nombre': 'N/A'}, 'psum': False, 'notas': False, 'materialesInf': False, 'ema': False, 'docs': [{'tipo': 1, 'url': 'https://cima.aemps.es/cima/pdfs/ft/74082/FT_74082.pdf', 'urlHtml': 'https://cima.aemps.es/cima/dochtml/ft/74082/FT_74082.html', 'secc': True, 'fecha': 1612573952000}, {'tipo': 2, 'url': 'https://cima.aemps.es/cima/pdfs/p/74082/P_74082.pdf', 'urlHtml': 'https://cima.aemps.es/cima/dochtml/p/74082/P_74082.html', 'secc': True, 'fecha': 1616456183000}], 'fotos': [{'tipo': 'materialas', 'url': 'https://cima.aemps.es/cima/fotos/thumbnails/materialas/74082/74082_materialas.jpg', 'fecha': 1514299714000}, {'tipo': 'formafarmac', 'url': 'https://cima.aemps.es/cima/fotos/thumbnails/formafarmac/74082/74082_formafarmac.jpg', 'fecha': 1514299715000}], 'viasAdministracion': [{'id': 42, 'nombre': 'VÍA INTRAVENOSA'}], 'formaFarmaceutica': {'id': 225, 'nombre': 'CONCENTRADO PARA SOLUCIÓN PARA PERFUSIÓN'}, 'formaFarmaceuticaSimplificada': {'id': 35, 'nombre': 'INYECTABLE PERFUSION'}, 'vtm': {'id': 108811008, 'nombre': 'gemcitabina'}, 'dosis': '1 G/26,3 ML'}, {'nregistro': '74083', 'nombre': 'GEMCITABINA HOSPIRA 200 mg CONCENTRADO PARA SOLUCION PARA PERFUSION', 'labtitular': 'Pfizer S.L.', 'cpresc': 'Uso Hospitalario', 'estado': {'aut': 1312408800000}, 'comerc': True, 'receta': True, 'generico': False, 'conduc': True, 'triangulo': False, 'huerfano': False, 'biosimilar': False, 'nosustituible': {'id': 0, 'nombre': 'N/A'}, 'psum': False, 'notas': False, 'materialesInf': False, 'ema': False, 'docs': [{'tipo': 1, 'url': 'https://cima.aemps.es/cima/pdfs/ft/74083/FT_74083.pdf', 'urlHtml': 'https://cima.aemps.es/cima/dochtml/ft/74083/FT_74083.html', 'secc': True, 'fecha': 1612573899000}, {'tipo': 2, 'url': 'https://cima.aemps.es/cima/pdfs/p/74083/P_74083.pdf', 'urlHtml': 'https://cima.aemps.es/cima/dochtml/p/74083/P_74083.html', 'secc': True, 'fecha': 1616456171000}], 'fotos': [{'tipo': 'materialas', 'url': 'https://cima.aemps.es/cima/fotos/thumbnails/materialas/74083/74083_materialas.jpg', 'fecha': 1514298584000}, {'tipo': 'formafarmac', 'url': 'https://cima.aemps.es/cima/fotos/thumbnails/formafarmac/74083/74083_formafarmac.jpg', 'fecha': 1514298586000}], 'viasAdministracion': [{'id': 42, 'nombre': 'VÍA INTRAVENOSA'}], 'formaFarmaceutica': {'id': 225, 'nombre': 'CONCENTRADO PARA SOLUCIÓN PARA PERFUSIÓN'}, 'formaFarmaceuticaSimplificada': {'id': 35, 'nombre': 'INYECTABLE PERFUSION'}, 'vtm': {'id': 108811008, 'nombre': 'gemcitabina'}, 'dosis': '200 mg/5,3 ml'}, {'nregistro': '74081', 'nombre': 'GEMCITABINA HOSPIRA 2000 mg CONCENTRADO PARA SOLUCION PARA PERFUSION', 'labtitular': 'Pfizer S.L.', 'cpresc': 'Uso Hospitalario', 'estado': {'aut': 1312408800000}, 'comerc': True, 'receta': True, 'generico': False, 'conduc': True, 'triangulo': False, 'huerfano': False, 'biosimilar': False, 'nosustituible': {'id': 0, 'nombre': 'N/A'}, 'psum': False, 'notas': False, 'materialesInf': False, 'ema': False, 'docs': [{'tipo': 1, 'url': 'https://cima.aemps.es/cima/pdfs/ft/74081/FT_74081.pdf', 'urlHtml': 'https://cima.aemps.es/cima/dochtml/ft/74081/FT_74081.html', 'secc': True, 'fecha': 1612574004000}, {'tipo': 2, 'url': 'https://cima.aemps.es/cima/pdfs/p/74081/P_74081.pdf', 'urlHtml': 'https://cima.aemps.es/cima/dochtml/p/74081/P_74081.html', 'secc': True, 'fecha': 1616456193000}], 'fotos': [{'tipo': 'materialas', 'url': 'https://cima.aemps.es/cima/fotos/thumbnails/materialas/74081/74081_materialas.jpg', 'fecha': 1514297898000}, {'tipo': 'formafarmac', 'url': 'https://cima.aemps.es/cima/fotos/thumbnails/formafarmac/74081/74081_formafarmac.jpg', 'fecha': 1514297900000}], 'viasAdministracion': [{'id': 42, 'nombre': 'VÍA INTRAVENOSA'}], 'formaFarmaceutica': {'id': 225, 'nombre': 'CONCENTRADO PARA SOLUCIÓN PARA PERFUSIÓN'}, 'formaFarmaceuticaSimplificada': {'id': 35, 'nombre': 'INYECTABLE PERFUSION'}, 'vtm': {'id': 108811008, 'nombre': 'gemcitabina'}, 'dosis': '2 G/52,6 ML'}, {'nregistro': '77153', 'nombre': 'INNOHEP 10.000 UI ANTI-XA/0,5 ML SOLUCION INYECTABLE EN JERINGAS PRECARGADAS', 'labtitular': 'Leo Pharma A/S', 'cpresc': 'Medicamento Sujeto A Prescripción Médica', 'estado': {'aut': 1360882800000}, 'comerc': True, 'receta': True, 'generico': False, 'conduc': False, 'triangulo': False, 'huerfano': False, 'biosimilar': False, 'nosustituible': {'id': 1, 'nombre': 'Biológicos'}, 'psum': False, 'notas': False, 'materialesInf': False, 'ema': False, 'docs': [{'tipo': 1, 'url': 'https://cima.aemps.es/cima/pdfs/ft/77153/FT_77153.pdf', 'urlHtml': 'https://cima.aemps.es/cima/dochtml/ft/77153/FT_77153.html', 'secc': True, 'fecha': 1679442162000}, {'tipo': 2, 'url': 'https://cima.aemps.es/cima/pdfs/p/77153/P_77153.pdf', 'urlHtml': 'https://cima.aemps.es/cima/dochtml/p/77153/P_77153.html', 'secc': True, 'fecha': 1585352747000}], 'fotos': [{'tipo': 'materialas', 'url': 'https://cima.aemps.es/cima/fotos/thumbnails/materialas/77153/77153_materialas.jpg', 'fecha': 1572936170000}, {'tipo': 'formafarmac', 'url': 'https://cima.aemps.es/cima/fotos/thumbnails/formafarmac/77153/77153_formafarmac.jpg', 'fecha': 1572936172000}], 'viasAdministracion': [{'id': 58, 'nombre': 'VÍA SUBCUTÁNEA'}], 'formaFarmaceutica': {'id': 1286, 'nombre': 'SOLUCIÓN INYECTABLE EN JERINGA PRECARGADA'}, 'formaFarmaceuticaSimplificada': {'id': 34, 'nombre': 'INYECTABLE'}, 'vtm': {'id': 350469004, 'nombre': 'tinzaparina'}, 'dosis': '10000 UI'}, {'nregistro': '79412', 'nombre': 'INNOHEP 12.000 UI ANTI-XA/0,6 ML SOLUCION INYECTABLE EN JERINGAS PRECARGADAS', 'labtitular': 'Leo Pharma A/S', 'cpresc': 'Medicamento Sujeto A Prescripción Médica', 'estado': {'aut': 1421333672000}, 'comerc': True, 'receta': True, 'generico': False, 'conduc': False, 'triangulo': False, 'huerfano': False, 'biosimilar': False, 'nosustituible': {'id': 1, 'nombre': 'Biológicos'}, 'psum': False, 'notas': False, 'materialesInf': False, 'ema': False, 'docs': [{'tipo': 1, 'url': 'https://cima.aemps.es/cima/pdfs/ft/79412/FT_79412.pdf', 'urlHtml': 'https://cima.aemps.es/cima/dochtml/ft/79412/FT_79412.html', 'secc': True, 'fecha': 1679442189000}, {'tipo': 2, 'url': 'https://cima.aemps.es/cima/pdfs/p/79412/P_79412.pdf', 'urlHtml': 'https://cima.aemps.es/cima/dochtml/p/79412/P_79412.html', 'secc': True, 'fecha': 1585353043000}], 'fotos': [{'tipo': 'materialas', 'url': 'https://cima.aemps.es/cima/fotos/thumbnails/materialas/79412/79412_materialas.jpg', 'fecha': 1572936137000}, {'tipo': 'formafarmac', 'url': 'https://cima.aemps.es/cima/fotos/thumbnails/formafarmac/79412/79412_formafarmac.jpg', 'fecha': 1572936139000}], 'viasAdministracion': [{'id': 58, 'nombre': 'VÍA SUBCUTÁNEA'}], 'formaFarmaceutica': {'id': 1286, 'nombre': 'SOLUCIÓN INYECTABLE EN JERINGA PRECARGADA'}, 'formaFarmaceuticaSimplificada': {'id': 34, 'nombre': 'INYECTABLE'}, 'vtm': {'id': 350469004, 'nombre': 'tinzaparina'}, 'dosis': '12.000 UI anti-Xa'}, {'nregistro': '77154', 'nombre': 'INNOHEP 14.000 UI ANTI-XA/0,7 ML SOLUCION INYECTABLE EN JERINGAS PRECARGADAS', 'labtitular': 'Leo Pharma A/S', 'cpresc': 'Medicamento Sujeto A Prescripción Médica', 'estado': {'aut': 1360882800000}, 'comerc': True, 'receta': True, 'generico': False, 'conduc': False, 'triangulo': False, 'huerfano': False, 'biosimilar': False, 'nosustituible': {'id': 1, 'nombre': 'Biológicos'}, 'psum': False, 'notas': False, 'materialesInf': False, 'ema': False, 'docs': [{'tipo': 1, 'url': 'https://cima.aemps.es/cima/pdfs/ft/77154/FT_77154.pdf', 'urlHtml': 'https://cima.aemps.es/cima/dochtml/ft/77154/FT_77154.html', 'secc': True, 'fecha': 1679442216000}, {'tipo': 2, 'url': 'https://cima.aemps.es/cima/pdfs/p/77154/P_77154.pdf', 'urlHtml': 'https://cima.aemps.es/cima/dochtml/p/77154/P_77154.html', 'secc': True, 'fecha': 1585352788000}], 'fotos': [{'tipo': 'materialas', 'url': 'https://cima.aemps.es/cima/fotos/thumbnails/materialas/77154/77154_materialas.jpg', 'fecha': 1572936074000}, {'tipo': 'formafarmac', 'url': 'https://cima.aemps.es/cima/fotos/thumbnails/formafarmac/77154/77154_formafarmac.jpg', 'fecha': 1572936076000}], 'viasAdministracion': [{'id': 58, 'nombre': 'VÍA SUBCUTÁNEA'}], 'formaFarmaceutica': {'id': 1286, 'nombre': 'SOLUCIÓN INYECTABLE EN JERINGA PRECARGADA'}, 'formaFarmaceuticaSimplificada': {'id': 34, 'nombre': 'INYECTABLE'}, 'vtm': {'id': 350469004, 'nombre': 'tinzaparina'}, 'dosis': '14.000 UI'}, {'nregistro': '79413', 'nombre': 'INNOHEP 16.000 UI ANTI-XA/0,8 ML SOLUCION INYECTABLE EN JERINGAS PRECARGADAS', 'labtitular': 'Leo Pharma A/S', 'cpresc': 'Medicamento Sujeto A Prescripción Médica', 'estado': {'aut': 1421333669000}, 'comerc': True, 'receta': True, 'generico': False, 'conduc': False, 'triangulo': False, 'huerfano': False, 'biosimilar': False, 'nosustituible': {'id': 1, 'nombre': 'Biológicos'}, 'psum': False, 'notas': False, 'materialesInf': False, 'ema': False, 'docs': [{'tipo': 1, 'url': 'https://cima.aemps.es/cima/pdfs/ft/79413/FT_79413.pdf', 'urlHtml': 'https://cima.aemps.es/cima/dochtml/ft/79413/FT_79413.html', 'secc': True, 'fecha': 1679442242000}, {'tipo': 2, 'url': 'https://cima.aemps.es/cima/pdfs/p/79413/P_79413.pdf', 'urlHtml': 'https://cima.aemps.es/cima/dochtml/p/79413/P_79413.html', 'secc': True, 'fecha': 1585353083000}], 'fotos': [{'tipo': 'materialas', 'url': 'https://cima.aemps.es/cima/fotos/thumbnails/materialas/79413/79413_materialas.jpg', 'fecha': 1572936043000}, {'tipo': 'formafarmac', 'url': 'https://cima.aemps.es/cima/fotos/thumbnails/formafarmac/79413/79413_formafarmac.jpg', 'fecha': 1572936045000}], 'viasAdministracion': [{'id': 58, 'nombre': 'VÍA SUBCUTÁNEA'}], 'formaFarmaceutica': {'id': 1286, 'nombre': 'SOLUCIÓN INYECTABLE EN JERINGA PRECARGADA'}, 'formaFarmaceuticaSimplificada': {'id': 34, 'nombre': 'INYECTABLE'}, 'vtm': {'id': 350469004, 'nombre': 'tinzaparina'}, 'dosis': '16.000 UI anti-Xa'}, {'nregistro': '77156', 'nombre': 'INNOHEP 18.000 UI ANTI-XA/0,9 ML SOLUCION INYECTABLE EN JERINGAS PRECARGADAS', 'labtitular': 'Leo Pharma A/S', 'cpresc': 'Medicamento Sujeto A Prescripción Médica', 'estado': {'aut': 1360882800000}, 'comerc': True, 'receta': True, 'generico': False, 'conduc': False, 'triangulo': False, 'huerfano': False, 'biosimilar': False, 'nosustituible': {'id': 1, 'nombre': 'Biológicos'}, 'psum': False, 'notas': False, 'materialesInf': False, 'ema': False, 'docs': [{'tipo': 1, 'url': 'https://cima.aemps.es/cima/pdfs/ft/77156/FT_77156.pdf', 'urlHtml': 'https://cima.aemps.es/cima/dochtml/ft/77156/FT_77156.html', 'secc': True, 'fecha': 1679442268000}, {'tipo': 2, 'url': 'https://cima.aemps.es/cima/pdfs/p/77156/P_77156.pdf', 'urlHtml': 'https://cima.aemps.es/cima/dochtml/p/77156/P_77156.html', 'secc': True, 'fecha': 1585352832000}], 'fotos': [{'tipo': 'materialas', 'url': 'https://cima.aemps.es/cima/fotos/thumbnails/materialas/77156/77156_materialas.jpg', 'fecha': 1572935985000}, {'tipo': 'formafarmac', 'url': 'https://cima.aemps.es/cima/fotos/thumbnails/formafarmac/77156/77156_formafarmac.jpg', 'fecha': 1572935987000}], 'viasAdministracion': [{'id': 58, 'nombre': 'VÍA SUBCUTÁNEA'}], 'formaFarmaceutica': {'id': 1286, 'nombre': 'SOLUCIÓN INYECTABLE EN JERINGA PRECARGADA'}, 'formaFarmaceuticaSimplificada': {'id': 34, 'nombre': 'INYECTABLE'}, 'vtm': {'id': 350469004, 'nombre': 'tinzaparina'}, 'dosis': '20.000 UI'}, {'nregistro': '79411', 'nombre': 'INNOHEP 8.000 UI ANTI.XA /0,4 ML SOLUCIÓN INYECTABLE EN JERINGAS PRECARGADAS', 'labtitular': 'Leo Pharma A/S', 'cpresc': 'Medicamento Sujeto A Prescripción Médica', 'estado': {'aut': 1421333695000}, 'comerc': True, 'receta': True, 'generico': False, 'conduc': False, 'triangulo': False, 'huerfano': False, 'biosimilar': False, 'nosustituible': {'id': 1, 'nombre': 'Biológicos'}, 'psum': False, 'notas': False, 'materialesInf': False, 'ema': False, 'docs': [{'tipo': 1, 'url': 'https://cima.aemps.es/cima/pdfs/ft/79411/FT_79411.pdf', 'urlHtml': 'https://cima.aemps.es/cima/dochtml/ft/79411/FT_79411.html', 'secc': True, 'fecha': 1679442136000}, {'tipo': 2, 'url': 'https://cima.aemps.es/cima/pdfs/p/79411/P_79411.pdf', 'urlHtml': 'https://cima.aemps.es/cima/dochtml/p/79411/P_79411.html', 'secc': True, 'fecha': 1585352999000}], 'fotos': [{'tipo': 'materialas', 'url': 'https://cima.aemps.es/cima/fotos/thumbnails/materialas/79411/79411_materialas.jpg', 'fecha': 1572935772000}, {'tipo': 'formafarmac', 'url': 'https://cima.aemps.es/cima/fotos/thumbnails/formafarmac/79411/79411_formafarmac.jpg', 'fecha': 1572935774000}], 'viasAdministracion': [{'id': 58, 'nombre': 'VÍA SUBCUTÁNEA'}], 'formaFarmaceutica': {'id': 1286, 'nombre': 'SOLUCIÓN INYECTABLE EN JERINGA PRECARGADA'}, 'formaFarmaceuticaSimplificada': {'id': 34, 'nombre': 'INYECTABLE'}, 'vtm': {'id': 350469004, 'nombre': 'tinzaparina'}, 'dosis': '8.000 UI anti-Xa/ml'}, {'nregistro': '69862', 'nombre': 'LETROZOL NORMON 2,5 mg COMPRIMIDOS RECUBIERTOS CON PELICULA EFG', 'labtitular': 'Laboratorios Normon S.A.', 'cpresc': 'Medicamento Sujeto A Prescripción Médica', 'estado': {'aut': 1212962400000}, 'comerc': True, 'receta': True, 'generico': True, 'conduc': False, 'triangulo': False, 'huerfano': False, 'biosimilar': False, 'nosustituible': {'id': 0, 'nombre': 'N/A'}, 'psum': False, 'notas': False, 'materialesInf': False, 'ema': False, 'docs': [{'tipo': 1, 'url': 'https://cima.aemps.es/cima/pdfs/ft/69862/FT_69862.pdf', 'urlHtml': 'https://cima.aemps.es/cima/dochtml/ft/69862/FT_69862.html', 'secc': True, 'fecha': 1645598131000}, {'tipo': 2, 'url': 'https://cima.aemps.es/cima/pdfs/p/69862/P_69862.pdf', 'urlHtml': 'https://cima.aemps.es/cima/dochtml/p/69862/P_69862.html', 'secc': True, 'fecha': 1645598143000}], 'fotos': [{'tipo': 'materialas', 'url': 'https://cima.aemps.es/cima/fotos/thumbnails/materialas/69862/69862_materialas.jpg', 'fecha': 1554877052000}, {'tipo': 'formafarmac', 'url': 'https://cima.aemps.es/cima/fotos/thumbnails/formafarmac/69862/69862_formafarmac.jpg', 'fecha': 1554877054000}], 'viasAdministracion': [{'id': 48, 'nombre': 'VÍA ORAL'}], 'formaFarmaceutica': {'id': 42, 'nombre': 'COMPRIMIDO RECUBIERTO CON PELÍCULA'}, 'formaFarmaceuticaSimplificada': {'id': 10, 'nombre': 'COMPRIMIDO'}, 'vtm': {'id': 108777007, 'nombre': 'letrozol'}, 'dosis': '2,5 mg letrozol'}, {'nregistro': '70995', 'nombre': 'LETROZOL TECNIGEN 2,5 mg COMPRIMIDOS RECUBIERTOS CON PELICULA EFG', 'labtitular': 'Tecnimede Espana Industria Farmaceutica S.A.', 'cpresc': 'Medicamento Sujeto A Prescripción Médica', 'estado': {'aut': 1243980000000}, 'comerc': True, 'receta': True, 'generico': True, 'conduc': False, 'triangulo': False, 'huerfano': False, 'biosimilar': False, 'nosustituible': {'id': 0, 'nombre': 'N/A'}, 'psum': False, 'notas': False, 'materialesInf': False, 'ema': False, 'docs': [{'tipo': 1, 'url': 'https://cima.aemps.es/cima/pdfs/ft/70995/FT_70995.pdf', 'urlHtml': 'https://cima.aemps.es/cima/dochtml/ft/70995/FT_70995.html', 'secc': True, 'fecha': 1646981741000}, {'tipo': 2, 'url': 'https://cima.aemps.es/cima/pdfs/p/70995/P_70995.pdf', 'urlHtml': 'https://cima.aemps.es/cima/dochtml/p/70995/P_70995.html', 'secc': True, 'fecha': 1646981756000}], 'fotos': [{'tipo': 'materialas', 'url': 'https://cima.aemps.es/cima/fotos/thumbnails/materialas/70995/70995_materialas.jpg', 'fecha': 1581064577000}, {'tipo': 'formafarmac', 'url': 'https://cima.aemps.es/cima/fotos/thumbnails/formafarmac/70995/70995_formafarmac.jpg', 'fecha': 1581064579000}], 'viasAdministracion': [{'id': 48, 'nombre': 'VÍA ORAL'}], 'formaFarmaceutica': {'id': 42, 'nombre': 'COMPRIMIDO RECUBIERTO CON PELÍCULA'}, 'formaFarmaceuticaSimplificada': {'id': 10, 'nombre': 'COMPRIMIDO'}, 'vtm': {'id': 108777007, 'nombre': 'letrozol'}, 'dosis': '2,5 MG'}, {'nregistro': '62378', 'nombre': 'VINCRISTINA PFIZER 1 mg/ml SOLUCION INYECTABLE EFG', 'labtitular': 'Pfizer S.L.', 'cpresc': 'Uso Hospitalario', 'estado': {'aut': 917823600000}, 'comerc': True, 'receta': True, 'generico': True, 'conduc': True, 'triangulo': False, 'huerfano': False, 'biosimilar': False, 'nosustituible': {'id': 0, 'nombre': 'N/A'}, 'psum': False, 'notas': False, 'materialesInf': False, 'ema': False, 'docs': [{'tipo': 1, 'url': 'https://cima.aemps.es/cima/pdfs/ft/62378/FT_62378.pdf', 'urlHtml': 'https://cima.aemps.es/cima/dochtml/ft/62378/FT_62378.html', 'secc': True, 'fecha': 1698796306000}, {'tipo': 2, 'url': 'https://cima.aemps.es/cima/pdfs/p/62378/P_62378.pdf', 'urlHtml': 'https://cima.aemps.es/cima/dochtml/p/62378/P_62378.html', 'secc': True, 'fecha': 1698796321000}], 'fotos': [{'tipo': 'materialas', 'url': 'https://cima.aemps.es/cima/fotos/thumbnails/materialas/62378/62378_materialas.jpg', 'fecha': 1522760222000}, {'tipo': 'formafarmac', 'url': 'https://cima.aemps.es/cima/fotos/thumbnails/formafarmac/62378/62378_formafarmac.jpg', 'fecha': 1522760224000}], 'viasAdministracion': [{'id': 42, 'nombre': 'VÍA INTRAVENOSA'}], 'formaFarmaceutica': {'id': 197, 'nombre': 'SOLUCIÓN INYECTABLE'}, 'formaFarmaceuticaSimplificada': {'id': 34, 'nombre': 'INYECTABLE'}, 'vtm': {'id': 23079006, 'nombre': 'vincristina'}, 'dosis': '1mg vincristina sulfato/ml'}, {'nregistro': '70501', 'nombre': 'ABSTRAL 100 microgramos COMPRIMIDOS SUBLINGUALES', 'labtitular': 'Kyowa Kirin Holdings B.V.', 'cpresc': 'Medicamento Sujeto A Prescripción Médica. Estupefacientes', 'estado': {'aut': 1234393200000}, 'comerc': True, 'receta': True, 'generico': False, 'conduc': True, 'triangulo': False, 'huerfano': False, 'biosimilar': False, 'nosustituible': {'id': 0, 'nombre': 'N/A'}, 'psum': False, 'notas': True, 'materialesInf': True, 'ema': False, 'docs': [{'tipo': 1, 'url': 'https://cima.aemps.es/cima/pdfs/ft/70501/FT_70501.pdf', 'urlHtml': 'https://cima.aemps.es/cima/dochtml/ft/70501/FT_70501.html', 'secc': True, 'fecha': 1569361071000}, {'tipo': 2, 'url': 'https://cima.aemps.es/cima/pdfs/p/70501/P_70501.pdf', 'urlHtml': 'https://cima.aemps.es/cima/dochtml/p/70501/P_70501.html', 'secc': True, 'fecha': 1681335646000}], 'viasAdministracion': [{'id': 60, 'nombre': 'VÍA SUBLINGUAL'}], 'formaFarmaceutica': {'id': 75, 'nombre': 'COMPRIMIDO SUBLINGUAL'}, 'formaFarmaceuticaSimplificada': {'id': 16, 'nombre': 'COMPRIMIDO SUBLINGUAL'}, 'vtm': {'id': 40648001, 'nombre': 'fentanilo'}, 'dosis': '100 microgramos'}, {'nregistro': '70502', 'nombre': 'ABSTRAL 200 microgramos COMPRIMIDOS SUBLINGUALES', 'labtitular': 'Kyowa Kirin Holdings B.V.', 'cpresc': 'Medicamento Sujeto A Prescripción Médica. Estupefacientes', 'estado': {'aut': 1234393200000}, 'comerc': True, 'receta': True, 'generico': False, 'conduc': True, 'triangulo': False, 'huerfano': False, 'biosimilar': False, 'nosustituible': {'id': 0, 'nombre': 'N/A'}, 'psum': False, 'notas': True, 'materialesInf': True, 'ema': False, 'docs': [{'tipo': 1, 'url': 'https://cima.aemps.es/cima/pdfs/ft/70502/FT_70502.pdf', 'urlHtml': 'https://cima.aemps.es/cima/dochtml/ft/70502/FT_70502.html', 'secc': True, 'fecha': 1569361094000}, {'tipo': 2, 'url': 'https://cima.aemps.es/cima/pdfs/p/70502/P_70502.pdf', 'urlHtml': 'https://cima.aemps.es/cima/dochtml/p/70502/P_70502.html', 'secc': True, 'fecha': 1681335659000}], 'viasAdministracion': [{'id': 60, 'nombre': 'VÍA SUBLINGUAL'}], 'formaFarmaceutica': {'id': 75, 'nombre': 'COMPRIMIDO SUBLINGUAL'}, 'formaFarmaceuticaSimplificada': {'id': 16, 'nombre': 'COMPRIMIDO SUBLINGUAL'}, 'vtm': {'id': 40648001, 'nombre': 'fentanilo'}, 'dosis': '200 microgramos'}, {'nregistro': '70504', 'nombre': 'ABSTRAL 300 microgramos COMPRIMIDOS SUBLINGUALES', 'labtitular': 'Kyowa Kirin Holdings B.V.', 'cpresc': 'Medicamento Sujeto A Prescripción Médica. Estupefacientes', 'estado': {'aut': 1234393200000}, 'comerc': True, 'receta': True, 'generico': False, 'conduc': True, 'triangulo': False, 'huerfano': False, 'biosimilar': False, 'nosustituible': {'id': 0, 'nombre': 'N/A'}, 'psum': False, 'notas': True, 'materialesInf': True, 'ema': False, 'docs': [{'tipo': 1, 'url': 'https://cima.aemps.es/cima/pdfs/ft/70504/FT_70504.pdf', 'urlHtml': 'https://cima.aemps.es/cima/dochtml/ft/70504/FT_70504.html', 'secc': True, 'fecha': 1569361122000}, {'tipo': 2, 'url': 'https://cima.aemps.es/cima/pdfs/p/70504/P_70504.pdf', 'urlHtml': 'https://cima.aemps.es/cima/dochtml/p/70504/P_70504.html', 'secc': True, 'fecha': 1681335675000}], 'viasAdministracion': [{'id': 60, 'nombre': 'VÍA SUBLINGUAL'}], 'formaFarmaceutica': {'id': 75, 'nombre': 'COMPRIMIDO SUBLINGUAL'}, 'formaFarmaceuticaSimplificada': {'id': 16, 'nombre': 'COMPRIMIDO SUBLINGUAL'}, 'vtm': {'id': 40648001, 'nombre': 'fentanilo'}, 'dosis': '300 microgramos'}, {'nregistro': '70507', 'nombre': 'ABSTRAL 400 microgramos COMPRIMIDOS SUBLINGUALES', 'labtitular': 'Kyowa Kirin Holdings B.V.', 'cpresc': 'Medicamento Sujeto A Prescripción Médica. Estupefacientes', 'estado': {'aut': 1234393200000}, 'comerc': True, 'receta': True, 'generico': False, 'conduc': True, 'triangulo': False, 'huerfano': False, 'biosimilar': False, 'nosustituible': {'id': 0, 'nombre': 'N/A'}, 'psum': False, 'notas': True, 'materialesInf': True, 'ema': False, 'docs': [{'tipo': 1, 'url': 'https://cima.aemps.es/cima/pdfs/ft/70507/FT_70507.pdf', 'urlHtml': 'https://cima.aemps.es/cima/dochtml/ft/70507/FT_70507.html', 'secc': True, 'fecha': 1569361145000}, {'tipo': 2, 'url': 'https://cima.aemps.es/cima/pdfs/p/70507/P_70507.pdf', 'urlHtml': 'https://cima.aemps.es/cima/dochtml/p/70507/P_70507.html', 'secc': True, 'fecha': 1681335688000}], 'viasAdministracion': [{'id': 60, 'nombre': 'VÍA SUBLINGUAL'}], 'formaFarmaceutica': {'id': 75, 'nombre': 'COMPRIMIDO SUBLINGUAL'}, 'formaFarmaceuticaSimplificada': {'id': 16, 'nombre': 'COMPRIMIDO SUBLINGUAL'}, 'vtm': {'id': 40648001, 'nombre': 'fentanilo'}, 'dosis': '400 microgramos'}, {'nregistro': '70508', 'nombre': 'ABSTRAL 600 microgramos COMPRIMIDOS SUBLINGUALES', 'labtitular': 'Kyowa Kirin Holdings B.V.', 'cpresc': 'Medicamento Sujeto A Prescripción Médica. Estupefacientes', 'estado': {'aut': 1234393200000}, 'comerc': True, 'receta': True, 'generico': False, 'conduc': True, 'triangulo': False, 'huerfano': False, 'biosimilar': False, 'nosustituible': {'id': 0, 'nombre': 'N/A'}, 'psum': False, 'notas': True, 'materialesInf': True, 'ema': False, 'docs': [{'tipo': 1, 'url': 'https://cima.aemps.es/cima/pdfs/ft/70508/FT_70508.pdf', 'urlHtml': 'https://cima.aemps.es/cima/dochtml/ft/70508/FT_70508.html', 'secc': True, 'fecha': 1569361168000}, {'tipo': 2, 'url': 'https://cima.aemps.es/cima/pdfs/p/70508/P_70508.pdf', 'urlHtml': 'https://cima.aemps.es/cima/dochtml/p/70508/P_70508.html', 'secc': True, 'fecha': 1681335702000}], 'viasAdministracion': [{'id': 60, 'nombre': 'VÍA SUBLINGUAL'}], 'formaFarmaceutica': {'id': 75, 'nombre': 'COMPRIMIDO SUBLINGUAL'}, 'formaFarmaceuticaSimplificada': {'id': 16, 'nombre': 'COMPRIMIDO SUBLINGUAL'}, 'vtm': {'id': 40648001, 'nombre': 'fentanilo'}, 'dosis': '600 microgramos'}, {'nregistro': '70511', 'nombre': 'ABSTRAL 800 microgramos COMPRIMIDOS SUBLINGUALES', 'labtitular': 'Kyowa Kirin Holdings B.V.', 'cpresc': 'Medicamento Sujeto A Prescripción Médica. Estupefacientes', 'estado': {'aut': 1234393200000}, 'comerc': True, 'receta': True, 'generico': False, 'conduc': True, 'triangulo': False, 'huerfano': False, 'biosimilar': False, 'nosustituible': {'id': 0, 'nombre': 'N/A'}, 'psum': False, 'notas': True, 'materialesInf': True, 'ema': False, 'docs': [{'tipo': 1, 'url': 'https://cima.aemps.es/cima/pdfs/ft/70511/FT_70511.pdf', 'urlHtml': 'https://cima.aemps.es/cima/dochtml/ft/70511/FT_70511.html', 'secc': True, 'fecha': 1569361191000}, {'tipo': 2, 'url': 'https://cima.aemps.es/cima/pdfs/p/70511/P_70511.pdf', 'urlHtml': 'https://cima.aemps.es/cima/dochtml/p/70511/P_70511.html', 'secc': True, 'fecha': 1681335716000}], 'viasAdministracion': [{'id': 60, 'nombre': 'VÍA SUBLINGUAL'}], 'formaFarmaceutica': {'id': 75, 'nombre': 'COMPRIMIDO SUBLINGUAL'}, 'formaFarmaceuticaSimplificada': {'id': 16, 'nombre': 'COMPRIMIDO SUBLINGUAL'}, 'vtm': {'id': 40648001, 'nombre': 'fentanilo'}, 'dosis': '800 microgramos'}, {'nregistro': '74806', 'nombre': 'ALLENDA 2,5 MG COMPRIMIDOS RECUBIERTOS CON PELÍCULA EFG', 'labtitular': 'Devon Farmaceutica S.A.', 'cpresc': 'Medicamento Sujeto A Prescripción Médica', 'estado': {'aut': 1317765600000}, 'comerc': True, 'receta': True, 'generico': True, 'conduc': False, 'triangulo': False, 'huerfano': False, 'biosimilar': False, 'nosustituible': {'id': 0, 'nombre': 'N/A'}, 'psum': False, 'notas': False, 'materialesInf': False, 'ema': False, 'docs': [{'tipo': 1, 'url': 'https://cima.aemps.es/cima/pdfs/ft/74806/FT_74806.pdf', 'urlHtml': 'https://cima.aemps.es/cima/dochtml/ft/74806/FT_74806.html', 'secc': True, 'fecha': 1676506659000}, {'tipo': 2, 'url': 'https://cima.aemps.es/cima/pdfs/p/74806/P_74806.pdf', 'urlHtml': 'https://cima.aemps.es/cima/dochtml/p/74806/P_74806.html', 'secc': True, 'fecha': 1676506673000}], 'viasAdministracion': [{'id': 48, 'nombre': 'VÍA ORAL'}], 'formaFarmaceutica': {'id': 42, 'nombre': 'COMPRIMIDO RECUBIERTO CON PELÍCULA'}, 'formaFarmaceuticaSimplificada': {'id': 10, 'nombre': 'COMPRIMIDO'}, 'vtm': {'id': 108777007, 'nombre': 'letrozol'}, 'dosis': '2,5 MG'}, {'nregistro': '74177', 'nombre': 'ANASTROZOL ARISTO 1 mg COMPRIMIDOS RECUBIERTOS CON PELICULA EFG', 'labtitular': 'Aristo Pharma Iberia S.L.', 'cpresc': 'Medicamento Sujeto A Prescripción Médica', 'estado': {'aut': 1307311200000, 'rev': 1691750958000}, 'comerc': False, 'receta': True, 'generico': True, 'conduc': False, 'triangulo': False, 'huerfano': False, 'biosimilar': False, 'nosustituible': {'id': 0, 'nombre': 'N/A'}, 'psum': False, 'notas': False, 'materialesInf': False, 'ema': False, 'docs': [{'tipo': 1, 'url': 'https://cima.aemps.es/cima/pdfs/ft/74177/FT_74177.pdf', 'urlHtml': 'https://cima.aemps.es/cima/dochtml/ft/74177/FT_74177.html', 'secc': True, 'fecha': 1620164239000}, {'tipo': 2, 'url': 'https://cima.aemps.es/cima/pdfs/p/74177/P_74177.pdf', 'urlHtml': 'https://cima.aemps.es/cima/dochtml/p/74177/P_74177.html', 'secc': True, 'fecha': 1620164250000}], 'viasAdministracion': [{'id': 48, 'nombre': 'VÍA ORAL'}], 'formaFarmaceutica': {'id': 42, 'nombre': 'COMPRIMIDO RECUBIERTO CON PELÍCULA'}, 'formaFarmaceuticaSimplificada': {'id': 10, 'nombre': 'COMPRIMIDO'}, 'vtm': {'id': 108774000, 'nombre': 'anastrozol'}, 'dosis': '1 mg'}, {'nregistro': '74032', 'nombre': 'ANASTROZOL COMBIX 1 mg COMPRIMIDOS RECUBIERTOS CON PELICULA EFG', 'labtitular': 'Laboratorios Combix S.L.U.', 'cpresc': 'Medicamento Sujeto A Prescripción Médica', 'estado': {'aut': 1305237600000}, 'comerc': True, 'receta': True, 'generico': True, 'conduc': False, 'triangulo': False, 'huerfano': False, 'biosimilar': False, 'nosustituible': {'id': 0, 'nombre': 'N/A'}, 'psum': False, 'notas': False, 'materialesInf': False, 'ema': False, 'docs': [{'tipo': 1, 'url': 'https://cima.aemps.es/cima/pdfs/ft/74032/FT_74032.pdf', 'urlHtml': 'https://cima.aemps.es/cima/dochtml/ft/74032/FT_74032.html', 'secc': True, 'fecha': 1618874620000}, {'tipo': 2, 'url': 'https://cima.aemps.es/cima/pdfs/p/74032/P_74032.pdf', 'urlHtml': 'https://cima.aemps.es/cima/dochtml/p/74032/P_74032.html', 'secc': True, 'fecha': 1618874648000}], 'viasAdministracion': [{'id': 48, 'nombre': 'VÍA ORAL'}], 'formaFarmaceutica': {'id': 42, 'nombre': 'COMPRIMIDO RECUBIERTO CON PELÍCULA'}, 'formaFarmaceuticaSimplificada': {'id': 10, 'nombre': 'COMPRIMIDO'}, 'vtm': {'id': 108774000, 'nombre': 'anastrozol'}, 'dosis': '1 mg'}, {'nregistro': '70365', 'nombre': 'ANASTROZOL MABO 1 mg COMPRIMIDOS RECUBIERTOS CON PELICULA EFG', 'labtitular': 'Mabo Farma S.A.', 'cpresc': 'Medicamento Sujeto A Prescripción Médica', 'estado': {'aut': 1232492400000, 'rev': 1630938677000}, 'comerc': False, 'receta': True, 'generico': True, 'conduc': False, 'triangulo': False, 'huerfano': False, 'biosimilar': False, 'nosustituible': {'id': 0, 'nombre': 'N/A'}, 'psum': False, 'notas': False, 'materialesInf': False, 'ema': False, 'docs': [{'tipo': 1, 'url': 'https://cima.aemps.es/cima/pdfs/ft/70365/FT_70365.pdf', 'urlHtml': 'https://cima.aemps.es/cima/dochtml/ft/70365/FT_70365.html', 'secc': True, 'fecha': 1565299470000}, {'tipo': 2, 'url': 'https://cima.aemps.es/cima/pdfs/p/70365/P_70365.pdf', 'urlHtml': 'https://cima.aemps.es/cima/dochtml/p/70365/P_70365.html', 'secc': True, 'fecha': 1565299478000}], 'viasAdministracion': [{'id': 48, 'nombre': 'VÍA ORAL'}], 'formaFarmaceutica': {'id': 42, 'nombre': 'COMPRIMIDO RECUBIERTO CON PELÍCULA'}, 'formaFarmaceuticaSimplificada': {'id': 10, 'nombre': 'COMPRIMIDO'}, 'vtm': {'id': 108774000, 'nombre': 'anastrozol'}, 'dosis': '1 mg'}, {'nregistro': '70636', 'nombre': 'ANASTROZOL PHARMAGENUS 1 mg COMPRIMIDOS RECUBIERTOS CON PELICULA EFG', 'labtitular': 'Aristo Pharma Iberia S.L.', 'cpresc': 'Medicamento Sujeto A Prescripción Médica', 'estado': {'aut': 1236294000000, 'rev': 1678800936000}, 'comerc': False, 'receta': True, 'generico': True, 'conduc': False, 'triangulo': False, 'huerfano': False, 'biosimilar': False, 'nosustituible': {'id': 0, 'nombre': 'N/A'}, 'psum': False, 'notas': False, 'materialesInf': False, 'ema': False, 'docs': [{'tipo': 1, 'url': 'https://cima.aemps.es/cima/pdfs/ft/70636/FT_70636.pdf', 'urlHtml': 'https://cima.aemps.es/cima/dochtml/ft/70636/FT_70636.html', 'secc': True, 'fecha': 1618876027000}, {'tipo': 2, 'url': 'https://cima.aemps.es/cima/pdfs/p/70636/P_70636.pdf', 'urlHtml': 'https://cima.aemps.es/cima/dochtml/p/70636/P_70636.html', 'secc': True, 'fecha': 1618876043000}], 'viasAdministracion': [{'id': 48, 'nombre': 'VÍA ORAL'}], 'formaFarmaceutica': {'id': 42, 'nombre': 'COMPRIMIDO RECUBIERTO CON PELÍCULA'}, 'formaFarmaceuticaSimplificada': {'id': 10, 'nombre': 'COMPRIMIDO'}, 'vtm': {'id': 108774000, 'nombre': 'anastrozol'}, 'dosis': '1 mg'}, {'nregistro': '69484', 'nombre': 'ANASTROZOL TARBIS 1 mg COMPRIMIDOS RECUBIERTOS CON PELICULA EFG', 'labtitular': 'Tarbis Farma S.L.', 'cpresc': 'Medicamento Sujeto A Prescripción Médica', 'estado': {'aut': 1198623600000}, 'comerc': True, 'receta': True, 'generico': True, 'conduc': False, 'triangulo': False, 'huerfano': False, 'biosimilar': False, 'nosustituible': {'id': 0, 'nombre': 'N/A'}, 'psum': False, 'notas': False, 'materialesInf': False, 'ema': False, 'docs': [{'tipo': 1, 'url': 'https://cima.aemps.es/cima/pdfs/ft/69484/FT_69484.pdf', 'urlHtml': 'https://cima.aemps.es/cima/dochtml/ft/69484/FT_69484.html', 'secc': True, 'fecha': 1616115605000}, {'tipo': 2, 'url': 'https://cima.aemps.es/cima/pdfs/p/69484/P_69484.pdf', 'urlHtml': 'https://cima.aemps.es/cima/dochtml/p/69484/P_69484.html', 'secc': True, 'fecha': 1616115618000}], 'viasAdministracion': [{'id': 48, 'nombre': 'VÍA ORAL'}], 'formaFarmaceutica': {'id': 42, 'nombre': 'COMPRIMIDO RECUBIERTO CON PELÍCULA'}, 'formaFarmaceuticaSimplificada': {'id': 10, 'nombre': 'COMPRIMIDO'}, 'vtm': {'id': 108774000, 'nombre': 'anastrozol'}, 'dosis': '1 mg'}, {'nregistro': '69479', 'nombre': 'ANASTROZOL VEGAL 1 mg COMPRIMIDOS RECUBIERTOS CON PELÍCULA EFG', 'labtitular': 'Vegal Farmaceutica S.L.', 'cpresc': 'Medicamento Sujeto A Prescripción Médica', 'estado': {'aut': 1197846000000}, 'comerc': False, 'receta': True, 'generico': True, 'conduc': False, 'triangulo': False, 'huerfano': False, 'biosimilar': False, 'nosustituible': {'id': 0, 'nombre': 'N/A'}, 'psum': False, 'notas': False, 'materialesInf': False, 'ema': False, 'docs': [{'tipo': 1, 'url': 'https://cima.aemps.es/cima/pdfs/ft/69479/FT_69479.pdf', 'urlHtml': 'https://cima.aemps.es/cima/dochtml/ft/69479/FT_69479.html', 'secc': True, 'fecha': 1651701191000}, {'tipo': 2, 'url': 'https://cima.aemps.es/cima/pdfs/p/69479/P_69479.pdf', 'urlHtml': 'https://cima.aemps.es/cima/dochtml/p/69479/P_69479.html', 'secc': True, 'fecha': 1651701200000}], 'viasAdministracion': [{'id': 48, 'nombre': 'VÍA ORAL'}], 'formaFarmaceutica': {'id': 42, 'nombre': 'COMPRIMIDO RECUBIERTO CON PELÍCULA'}, 'formaFarmaceuticaSimplificada': {'id': 10, 'nombre': 'COMPRIMIDO'}, 'vtm': {'id': 108774000, 'nombre': 'anastrozol'}, 'dosis': '1 mg'}, {'nregistro': '71957', 'nombre': 'ANASTROZOL VIR 1 mg COMPRIMIDOS RECUBIERTOS CON PELÍCULA EFG', 'labtitular': 'Industria Quimica Y Farmaceutica Vir S.A.', 'cpresc': 'Medicamento Sujeto A Prescripción Médica', 'estado': {'aut': 1337637600000}, 'comerc': True, 'receta': True, 'generico': True, 'conduc': False, 'triangulo': False, 'huerfano': False, 'biosimilar': False, 'nosustituible': {'id': 0, 'nombre': 'N/A'}, 'psum': False, 'notas': False, 'materialesInf': False, 'ema': False, 'docs': [{'tipo': 1, 'url': 'https://cima.aemps.es/cima/pdfs/ft/71957/FT_71957.pdf', 'urlHtml': 'https://cima.aemps.es/cima/dochtml/ft/71957/FT_71957.html', 'secc': True, 'fecha': 1624572891000}, {'tipo': 2, 'url': 'https://cima.aemps.es/cima/pdfs/p/71957/P_71957.pdf', 'urlHtml': 'https://cima.aemps.es/cima/dochtml/p/71957/P_71957.html', 'secc': True, 'fecha': 1624572913000}], 'viasAdministracion': [{'id': 48, 'nombre': 'VÍA ORAL'}], 'formaFarmaceutica': {'id': 42, 'nombre': 'COMPRIMIDO RECUBIERTO CON PELÍCULA'}, 'formaFarmaceuticaSimplificada': {'id': 10, 'nombre': 'COMPRIMIDO'}, 'vtm': {'id': 108774000, 'nombre': 'anastrozol'}, 'dosis': '1 mg'}, {'nregistro': '76976', 'nombre': 'AVARIC 133 microgramos COMPRIMIDOS SUBLINGUALES', 'labtitular': 'Angelini Pharma Espana S.L.', 'cpresc': 'Medicamento Sujeto A Prescripción Médica. Estupefacientes', 'estado': {'aut': 1366581600000}, 'comerc': True, 'receta': True, 'generico': False, 'conduc': True, 'triangulo': False, 'huerfano': False, 'biosimilar': False, 'nosustituible': {'id': 0, 'nombre': 'N/A'}, 'psum': False, 'notas': True, 'materialesInf': True, 'ema': False, 'docs': [{'tipo': 1, 'url': 'https://cima.aemps.es/cima/pdfs/ft/76976/FT_76976.pdf', 'urlHtml': 'https://cima.aemps.es/cima/dochtml/ft/76976/FT_76976.html', 'secc': True, 'fecha': 1678321609000}, {'tipo': 2, 'url': 'https://cima.aemps.es/cima/pdfs/p/76976/P_76976.pdf', 'urlHtml': 'https://cima.aemps.es/cima/dochtml/p/76976/P_76976.html', 'secc': True, 'fecha': 1678321625000}], 'viasAdministracion': [{'id': 60, 'nombre': 'VÍA SUBLINGUAL'}], 'formaFarmaceutica': {'id': 75, 'nombre': 'COMPRIMIDO SUBLINGUAL'}, 'formaFarmaceuticaSimplificada': {'id': 16, 'nombre': 'COMPRIMIDO SUBLINGUAL'}, 'vtm': {'id': 40648001, 'nombre': 'fentanilo'}, 'dosis': '133 microgramos'}, {'nregistro': '76977', 'nombre': 'AVARIC 267 microgramos COMPRIMIDOS SUBLINGUALES', 'labtitular': 'Angelini Pharma Espana S.L.', 'cpresc': 'Medicamento Sujeto A Prescripción Médica. Estupefacientes', 'estado': {'aut': 1366581600000}, 'comerc': True, 'receta': True, 'generico': False, 'conduc': True, 'triangulo': False, 'huerfano': False, 'biosimilar': False, 'nosustituible': {'id': 0, 'nombre': 'N/A'}, 'psum': True, 'notas': True, 'materialesInf': True, 'ema': False, 'docs': [{'tipo': 1, 'url': 'https://cima.aemps.es/cima/pdfs/ft/76977/FT_76977.pdf', 'urlHtml': 'https://cima.aemps.es/cima/dochtml/ft/76977/FT_76977.html', 'secc': True, 'fecha': 1678321659000}, {'tipo': 2, 'url': 'https://cima.aemps.es/cima/pdfs/p/76977/P_76977.pdf', 'urlHtml': 'https://cima.aemps.es/cima/dochtml/p/76977/P_76977.html', 'secc': True, 'fecha': 1678321676000}], 'viasAdministracion': [{'id': 60, 'nombre': 'VÍA SUBLINGUAL'}], 'formaFarmaceutica': {'id': 75, 'nombre': 'COMPRIMIDO SUBLINGUAL'}, 'formaFarmaceuticaSimplificada': {'id': 16, 'nombre': 'COMPRIMIDO SUBLINGUAL'}, 'vtm': {'id': 40648001, 'nombre': 'fentanilo'}, 'dosis': '267 microgramos'}, {'nregistro': '76978', 'nombre': 'AVARIC 400 microgramos COMPRIMIDOS SUBLINGUALES', 'labtitular': 'Angelini Pharma Espana S.L.', 'cpresc': 'Medicamento Sujeto A Prescripción Médica. Estupefacientes', 'estado': {'aut': 1366581600000}, 'comerc': True, 'receta': True, 'generico': False, 'conduc': True, 'triangulo': False, 'huerfano': False, 'biosimilar': False, 'nosustituible': {'id': 0, 'nombre': 'N/A'}, 'psum': False, 'notas': True, 'materialesInf': True, 'ema': False, 'docs': [{'tipo': 1, 'url': 'https://cima.aemps.es/cima/pdfs/ft/76978/FT_76978.pdf', 'urlHtml': 'https://cima.aemps.es/cima/dochtml/ft/76978/FT_76978.html', 'secc': True, 'fecha': 1678321710000}, {'tipo': 2, 'url': 'https://cima.aemps.es/cima/pdfs/p/76978/P_76978.pdf', 'urlHtml': 'https://cima.aemps.es/cima/dochtml/p/76978/P_76978.html', 'secc': True, 'fecha': 1678321728000}], 'viasAdministracion': [{'id': 60, 'nombre': 'VÍA SUBLINGUAL'}], 'formaFarmaceutica': {'id': 75, 'nombre': 'COMPRIMIDO SUBLINGUAL'}, 'formaFarmaceuticaSimplificada': {'id': 16, 'nombre': 'COMPRIMIDO SUBLINGUAL'}, 'vtm': {'id': 40648001, 'nombre': 'fentanilo'}, 'dosis': '400 microgramos'}, {'nregistro': '76979', 'nombre': 'AVARIC 533 microgramos COMPRIMIDOS SUBLINGUALES', 'labtitular': 'Angelini Pharma Espana S.L.', 'cpresc': 'Medicamento Sujeto A Prescripción Médica. Estupefacientes', 'estado': {'aut': 1366581600000}, 'comerc': True, 'receta': True, 'generico': False, 'conduc': True, 'triangulo': False, 'huerfano': False, 'biosimilar': False, 'nosustituible': {'id': 0, 'nombre': 'N/A'}, 'psum': False, 'notas': True, 'materialesInf': True, 'ema': False, 'docs': [{'tipo': 1, 'url': 'https://cima.aemps.es/cima/pdfs/ft/76979/FT_76979.pdf', 'urlHtml': 'https://cima.aemps.es/cima/dochtml/ft/76979/FT_76979.html', 'secc': True, 'fecha': 1678321764000}, {'tipo': 2, 'url': 'https://cima.aemps.es/cima/pdfs/p/76979/P_76979.pdf', 'urlHtml': 'https://cima.aemps.es/cima/dochtml/p/76979/P_76979.html', 'secc': True, 'fecha': 1678321781000}], 'viasAdministracion': [{'id': 60, 'nombre': 'VÍA SUBLINGUAL'}], 'formaFarmaceutica': {'id': 75, 'nombre': 'COMPRIMIDO SUBLINGUAL'}, 'formaFarmaceuticaSimplificada': {'id': 16, 'nombre': 'COMPRIMIDO SUBLINGUAL'}, 'vtm': {'id': 40648001, 'nombre': 'fentanilo'}, 'dosis': '533 microgramos'}, {'nregistro': '76975', 'nombre': 'AVARIC 67 microgramos COMPRIMIDOS SUBLINGUALES', 'labtitular': 'Angelini Pharma Espana S.L.', 'cpresc': 'Medicamento Sujeto A Prescripción Médica. Estupefacientes', 'estado': {'aut': 1366581600000}, 'comerc': True, 'receta': True, 'generico': False, 'conduc': True, 'triangulo': False, 'huerfano': False, 'biosimilar': False, 'nosustituible': {'id': 0, 'nombre': 'N/A'}, 'psum': True, 'notas': True, 'materialesInf': True, 'ema': False, 'docs': [{'tipo': 1, 'url': 'https://cima.aemps.es/cima/pdfs/ft/76975/FT_76975.pdf', 'urlHtml': 'https://cima.aemps.es/cima/dochtml/ft/76975/FT_76975.html', 'secc': True, 'fecha': 1678321557000}, {'tipo': 2, 'url': 'https://cima.aemps.es/cima/pdfs/p/76975/P_76975.pdf', 'urlHtml': 'https://cima.aemps.es/cima/dochtml/p/76975/P_76975.html', 'secc': True, 'fecha': 1678321575000}], 'viasAdministracion': [{'id': 60, 'nombre': 'VÍA SUBLINGUAL'}], 'formaFarmaceutica': {'id': 75, 'nombre': 'COMPRIMIDO SUBLINGUAL'}, 'formaFarmaceuticaSimplificada': {'id': 16, 'nombre': 'COMPRIMIDO SUBLINGUAL'}, 'vtm': {'id': 40648001, 'nombre': 'fentanilo'}, 'dosis': '67 microgramos'}, {'nregistro': '76980', 'nombre': 'AVARIC 800 microgramos COMPRIMIDOS SUBLINGUALES', 'labtitular': 'Angelini Pharma Espana S.L.', 'cpresc': 'Medicamento Sujeto A Prescripción Médica. Estupefacientes', 'estado': {'aut': 1366581600000}, 'comerc': True, 'receta': True, 'generico': False, 'conduc': True, 'triangulo': False, 'huerfano': False, 'biosimilar': False, 'nosustituible': {'id': 0, 'nombre': 'N/A'}, 'psum': False, 'notas': True, 'materialesInf': True, 'ema': False, 'docs': [{'tipo': 1, 'url': 'https://cima.aemps.es/cima/pdfs/ft/76980/FT_76980.pdf', 'urlHtml': 'https://cima.aemps.es/cima/dochtml/ft/76980/FT_76980.html', 'secc': True, 'fecha': 1678321816000}, {'tipo': 2, 'url': 'https://cima.aemps.es/cima/pdfs/p/76980/P_76980.pdf', 'urlHtml': 'https://cima.aemps.es/cima/dochtml/p/76980/P_76980.html', 'secc': True, 'fecha': 1678321832000}], 'viasAdministracion': [{'id': 60, 'nombre': 'VÍA SUBLINGUAL'}], 'formaFarmaceutica': {'id': 75, 'nombre': 'COMPRIMIDO SUBLINGUAL'}, 'formaFarmaceuticaSimplificada': {'id': 16, 'nombre': 'COMPRIMIDO SUBLINGUAL'}, 'vtm': {'id': 40648001, 'nombre': 'fentanilo'}, 'dosis': '800 microgramos'}, {'nregistro': '70473', 'nombre': 'BICALUTAMIDA ACCORD 50 mg COMPRIMIDOS RECUBIERTOS CON PELICULA EFG', 'labtitular': 'Accord Healthcare S.L.U.', 'cpresc': 'Medicamento Sujeto A Prescripción Médica', 'estado': {'aut': 1255557600000}, 'comerc': True, 'receta': True, 'generico': True, 'conduc': True, 'triangulo': False, 'huerfano': False, 'biosimilar': False, 'nosustituible': {'id': 0, 'nombre': 'N/A'}, 'psum': True, 'notas': False, 'materialesInf': False, 'ema': False, 'docs': [{'tipo': 1, 'url': 'https://cima.aemps.es/cima/pdfs/ft/70473/FT_70473.pdf', 'urlHtml': 'https://cima.aemps.es/cima/dochtml/ft/70473/FT_70473.html', 'secc': True, 'fecha': 1676505780000}, {'tipo': 2, 'url': 'https://cima.aemps.es/cima/pdfs/p/70473/P_70473.pdf', 'urlHtml': 'https://cima.aemps.es/cima/dochtml/p/70473/P_70473.html', 'secc': True, 'fecha': 1676505797000}], 'viasAdministracion': [{'id': 48, 'nombre': 'VÍA ORAL'}], 'formaFarmaceutica': {'id': 42, 'nombre': 'COMPRIMIDO RECUBIERTO CON PELÍCULA'}, 'formaFarmaceuticaSimplificada': {'id': 10, 'nombre': 'COMPRIMIDO'}, 'vtm': {'id': 108766001, 'nombre': 'bicalutamida'}, 'dosis': '50 MG'}, {'nregistro': '68971', 'nombre': 'BICALUTAMIDA AUROVITAS SPAIN 50 mg COMPRIMIDOS RECUBIERTOS CON PELICULA EFG', 'labtitular': 'Eugia Pharma (Malta) Limited', 'cpresc': 'Medicamento Sujeto A Prescripción Médica', 'estado': {'aut': 1188943200000}, 'comerc': True, 'receta': True, 'generico': True, 'conduc': True, 'triangulo': False, 'huerfano': False, 'biosimilar': False, 'nosustituible': {'id': 0, 'nombre': 'N/A'}, 'psum': False, 'notas': False, 'materialesInf': False, 'ema': False, 'docs': [{'tipo': 1, 'url': 'https://cima.aemps.es/cima/pdfs/ft/68971/FT_68971.pdf', 'urlHtml': 'https://cima.aemps.es/cima/dochtml/ft/68971/FT_68971.html', 'secc': True, 'fecha': 1687901849000}, {'tipo': 2, 'url': 'https://cima.aemps.es/cima/pdfs/p/68971/P_68971.pdf', 'urlHtml': 'https://cima.aemps.es/cima/dochtml/p/68971/P_68971.html', 'secc': True, 'fecha': 1687901863000}], 'viasAdministracion': [{'id': 48, 'nombre': 'VÍA ORAL'}], 'formaFarmaceutica': {'id': 42, 'nombre': 'COMPRIMIDO RECUBIERTO CON PELÍCULA'}, 'formaFarmaceuticaSimplificada': {'id': 10, 'nombre': 'COMPRIMIDO'}, 'vtm': {'id': 108766001, 'nombre': 'bicalutamida'}, 'dosis': '50 mg bicalutamida'}, {'nregistro': '74359', 'nombre': 'BICALUTAMIDA KABI 50 MG COMPRIMIDOS RECUBIERTOS CON PELICULA EFG', 'labtitular': 'Fresenius Kabi España, S.A.U.', 'cpresc': 'Medicamento Sujeto A Prescripción Médica', 'estado': {'aut': 1469138400000, 'rev': 1574762075000}, 'comerc': False, 'receta': True, 'generico': True, 'conduc': True, 'triangulo': False, 'huerfano': False, 'biosimilar': False, 'nosustituible': {'id': 0, 'nombre': 'N/A'}, 'psum': False, 'notas': False, 'materialesInf': False, 'ema': False, 'docs': [{'tipo': 1, 'url': 'https://cima.aemps.es/cima/pdfs/ft/74359/FT_74359.pdf', 'urlHtml': 'https://cima.aemps.es/cima/dochtml/ft/74359/FT_74359.html', 'secc': True, 'fecha': 1555363266000}, {'tipo': 2, 'url': 'https://cima.aemps.es/cima/pdfs/p/74359/P_74359.pdf', 'urlHtml': 'https://cima.aemps.es/cima/dochtml/p/74359/P_74359.html', 'secc': True, 'fecha': 1555363275000}], 'viasAdministracion': [{'id': 48, 'nombre': 'VÍA ORAL'}], 'formaFarmaceutica': {'id': 42, 'nombre': 'COMPRIMIDO RECUBIERTO CON PELÍCULA'}, 'formaFarmaceuticaSimplificada': {'id': 10, 'nombre': 'COMPRIMIDO'}, 'vtm': {'id': 108766001, 'nombre': 'bicalutamida'}, 'dosis': '50 mg'}, {'nregistro': '68082', 'nombre': 'BICALUTAMIDA TEVA 50 mg COMPRIMIDOS RECUBIERTOS CON PELICULA EFG', 'labtitular': 'Teva Pharma S.L.U.', 'cpresc': 'Medicamento Sujeto A Prescripción Médica', 'estado': {'aut': 1160431200000}, 'comerc': True, 'receta': True, 'generico': True, 'conduc': True, 'triangulo': False, 'huerfano': False, 'biosimilar': False, 'nosustituible': {'id': 0, 'nombre': 'N/A'}, 'psum': False, 'notas': False, 'materialesInf': False, 'ema': False, 'docs': [{'tipo': 1, 'url': 'https://cima.aemps.es/cima/pdfs/ft/68082/FT_68082.pdf', 'urlHtml': 'https://cima.aemps.es/cima/dochtml/ft/68082/FT_68082.html', 'secc': True, 'fecha': 1637627721000}, {'tipo': 2, 'url': 'https://cima.aemps.es/cima/pdfs/p/68082/P_68082.pdf', 'urlHtml': 'https://cima.aemps.es/cima/dochtml/p/68082/P_68082.html', 'secc': True, 'fecha': 1637627744000}], 'viasAdministracion': [{'id': 48, 'nombre': 'VÍA ORAL'}], 'formaFarmaceutica': {'id': 42, 'nombre': 'COMPRIMIDO RECUBIERTO CON PELÍCULA'}, 'formaFarmaceuticaSimplificada': {'id': 10, 'nombre': 'COMPRIMIDO'}, 'vtm': {'id': 108766001, 'nombre': 'bicalutamida'}, 'dosis': '50 mg bicalutamida'}, {'nregistro': '72609', 'nombre': 'CISPLATINO ACCORD 1 mg/ml CONCENTRADO PARA SOLUCION PARA PERFUSION EFG', 'labtitular': 'Accord Healthcare S.L.U.', 'cpresc': 'Uso Hospitalario', 'estado': {'aut': 1313013600000}, 'comerc': True, 'receta': True, 'generico': True, 'conduc': True, 'triangulo': False, 'huerfano': False, 'biosimilar': False, 'nosustituible': {'id': 0, 'nombre': 'N/A'}, 'psum': False, 'notas': False, 'materialesInf': False, 'ema': False, 'docs': [{'tipo': 1, 'url': 'https://cima.aemps.es/cima/pdfs/ft/72609/FT_72609.pdf', 'urlHtml': 'https://cima.aemps.es/cima/dochtml/ft/72609/FT_72609.html', 'secc': True, 'fecha': 1629327081000}, {'tipo': 2, 'url': 'https://cima.aemps.es/cima/pdfs/p/72609/P_72609.pdf', 'urlHtml': 'https://cima.aemps.es/cima/dochtml/p/72609/P_72609.html', 'secc': True, 'fecha': 1641427929000}], 'viasAdministracion': [{'id': 42, 'nombre': 'VÍA INTRAVENOSA'}], 'formaFarmaceutica': {'id': 225, 'nombre': 'CONCENTRADO PARA SOLUCIÓN PARA PERFUSIÓN'}, 'formaFarmaceuticaSimplificada': {'id': 35, 'nombre': 'INYECTABLE PERFUSION'}, 'vtm': {'id': 57066004, 'nombre': 'cisplatino'}, 'dosis': '1 mg'}, {'nregistro': '114957001', 'nombre': 'CYRAMZA 10 MG/ML CONCENTRADO PARA SOLUCION PARA PERFUSION', 'labtitular': 'Eli Lilly Nederland B.V.', 'cpresc': 'Uso Hospitalario', 'estado': {'aut': 1424041200000}, 'comerc': True, 'receta': True, 'generico': False, 'conduc': False, 'triangulo': False, 'huerfano': False, 'biosimilar': False, 'nosustituible': {'id': 1, 'nombre': 'Biológicos'}, 'psum': False, 'notas': False, 'materialesInf': False, 'ema': True, 'docs': [{'tipo': 1, 'url': 'https://cima.aemps.es/cima/pdfs/ft/114957001/FT_114957001.pdf', 'urlHtml': 'https://cima.aemps.es/cima/dochtml/ft/114957001/FT_114957001.html', 'secc': True}, {'tipo': 2, 'url': 'https://cima.aemps.es/cima/pdfs/p/114957001/P_114957001.pdf', 'urlHtml': 'https://cima.aemps.es/cima/dochtml/p/114957001/P_114957001.html', 'secc': True}, {'tipo': 3, 'url': 'https://cima.aemps.es/cima/pdfs/ipe/114957001/IPE_114957001.pdf', 'secc': False}], 'viasAdministracion': [{'id': 42, 'nombre': 'VÍA INTRAVENOSA'}], 'formaFarmaceutica': {'id': 225, 'nombre': 'CONCENTRADO PARA SOLUCIÓN PARA PERFUSIÓN'}, 'formaFarmaceuticaSimplificada': {'id': 35, 'nombre': 'INYECTABLE PERFUSION'}, 'vtm': {'id': 157711000140109, 'nombre': 'ramucirumab'}, 'dosis': '10 mg/ml'}, {'nregistro': '114957003', 'nombre': 'CYRAMZA 10 MG/ML CONCENTRADO PARA SOLUCION PARA PERFUSION', 'labtitular': 'Eli Lilly Nederland B.V.', 'cpresc': 'Uso Hospitalario', 'estado': {'aut': 1424041200000}, 'comerc': True, 'receta': True, 'generico': False, 'conduc': False, 'triangulo': False, 'huerfano': False, 'biosimilar': False, 'nosustituible': {'id': 1, 'nombre': 'Biológicos'}, 'psum': False, 'notas': False, 'materialesInf': False, 'ema': True, 'docs': [{'tipo': 1, 'url': 'https://cima.aemps.es/cima/pdfs/ft/114957003/FT_114957003.pdf', 'urlHtml': 'https://cima.aemps.es/cima/dochtml/ft/114957003/FT_114957003.html', 'secc': True}, {'tipo': 2, 'url': 'https://cima.aemps.es/cima/pdfs/p/114957003/P_114957003.pdf', 'urlHtml': 'https://cima.aemps.es/cima/dochtml/p/114957003/P_114957003.html', 'secc': True}, {'tipo': 3, 'url': 'https://cima.aemps.es/cima/pdfs/ipe/114957003/IPE_114957003.pdf', 'secc': False}], 'viasAdministracion': [{'id': 42, 'nombre': 'VÍA INTRAVENOSA'}], 'formaFarmaceutica': {'id': 225, 'nombre': 'CONCENTRADO PARA SOLUCIÓN PARA PERFUSIÓN'}, 'formaFarmaceuticaSimplificada': {'id': 35, 'nombre': 'INYECTABLE PERFUSION'}, 'vtm': {'id': 157711000140109, 'nombre': 'ramucirumab'}, 'dosis': '10 mg/ml'}, {'nregistro': '73266', 'nombre': 'DOXORUBICINA ACCORD 2 MG/ML CONCENTRADO PARA SOLUCION PARA PERFUSION EFG', 'labtitular': 'Accord Healthcare S.L.U.', 'cpresc': 'Uso Hospitalario', 'estado': {'aut': 1309730400000}, 'comerc': True, 'receta': True, 'generico': True, 'conduc': True, 'triangulo': False, 'huerfano': False, 'biosimilar': False, 'nosustituible': {'id': 0, 'nombre': 'N/A'}, 'psum': True, 'notas': False, 'materialesInf': False, 'ema': False, 'docs': [{'tipo': 1, 'url': 'https://cima.aemps.es/cima/pdfs/ft/73266/FT_73266.pdf', 'urlHtml': 'https://cima.aemps.es/cima/dochtml/ft/73266/FT_73266.html', 'secc': True, 'fecha': 1511564903000}, {'tipo': 2, 'url': 'https://cima.aemps.es/cima/pdfs/p/73266/P_73266.pdf', 'urlHtml': 'https://cima.aemps.es/cima/dochtml/p/73266/P_73266.html', 'secc': True, 'fecha': 1640735429000}], 'viasAdministracion': [{'id': 42, 'nombre': 'VÍA INTRAVENOSA'}, {'id': 43, 'nombre': 'VÍA INTRAVESICAL'}], 'formaFarmaceutica': {'id': 225, 'nombre': 'CONCENTRADO PARA SOLUCIÓN PARA PERFUSIÓN'}, 'formaFarmaceuticaSimplificada': {'id': 35, 'nombre': 'INYECTABLE PERFUSION'}, 'vtm': {'id': 68444001, 'nombre': 'doxorubicina'}, 'dosis': '2 mg/ml'}, {'nregistro': '67390', 'nombre': 'ELOXATIN 5 mg/ml CONCENTRADO PARA SOLUCION PARA PERFUSION', 'labtitular': 'Sanofi-Aventis, S.A.', 'cpresc': 'Uso Hospitalario', 'estado': {'aut': 1135033200000, 'rev': 1628694783000}, 'comerc': False, 'receta': True, 'generico': False, 'conduc': True, 'triangulo': False, 'huerfano': False, 'biosimilar': False, 'nosustituible': {'id': 0, 'nombre': 'N/A'}, 'psum': False, 'notas': False, 'materialesInf': False, 'ema': False, 'docs': [{'tipo': 1, 'url': 'https://cima.aemps.es/cima/pdfs/ft/67390/FT_67390.pdf', 'urlHtml': 'https://cima.aemps.es/cima/dochtml/ft/67390/FT_67390.html', 'secc': True, 'fecha': 1556143556000}, {'tipo': 2, 'url': 'https://cima.aemps.es/cima/pdfs/p/67390/P_67390.pdf', 'urlHtml': 'https://cima.aemps.es/cima/dochtml/p/67390/P_67390.html', 'secc': True, 'fecha': 1558040734000}], 'viasAdministracion': [{'id': 42, 'nombre': 'VÍA INTRAVENOSA'}], 'formaFarmaceutica': {'id': 225, 'nombre': 'CONCENTRADO PARA SOLUCIÓN PARA PERFUSIÓN'}, 'formaFarmaceuticaSimplificada': {'id': 35, 'nombre': 'INYECTABLE PERFUSION'}, 'vtm': {'id': 327032007, 'nombre': 'oxaliplatino'}, 'dosis': '5 mg/ml'}, {'nregistro': '85307', 'nombre': 'EPIRUBICINA HIKMA 2 MG/ML SOLUCION INTRAVESICAL E INYECTABLE EFG', 'labtitular': 'Hikma Farmaceutica (Portugal) S.A.', 'cpresc': 'Uso Hospitalario', 'estado': {'aut': 1677072698000}, 'comerc': False, 'receta': True, 'generico': True, 'conduc': True, 'triangulo': False, 'huerfano': False, 'biosimilar': False, 'nosustituible': {'id': 0, 'nombre': 'N/A'}, 'psum': False, 'notas': False, 'materialesInf': False, 'ema': False, 'docs': [{'tipo': 1, 'url': 'https://cima.aemps.es/cima/pdfs/ft/85307/FT_85307.pdf', 'urlHtml': 'https://cima.aemps.es/cima/dochtml/ft/85307/FT_85307.html', 'secc': True, 'fecha': 1676962896000}, {'tipo': 2, 'url': 'https://cima.aemps.es/cima/pdfs/p/85307/P_85307.pdf', 'urlHtml': 'https://cima.aemps.es/cima/dochtml/p/85307/P_85307.html', 'secc': True, 'fecha': 1674040275000}], 'viasAdministracion': [{'id': 42, 'nombre': 'VÍA INTRAVENOSA'}, {'id': 43, 'nombre': 'VÍA INTRAVESICAL'}], 'formaFarmaceutica': {'id': 98980, 'nombre': 'SOLUCION INTRAVESICAL E INYECTABLE'}, 'formaFarmaceuticaSimplificada': {'id': 34, 'nombre': 'INYECTABLE'}, 'vtm': {'id': 349848009, 'nombre': 'epirubicina'}, 'dosis': '2 mg/ml'}, {'nregistro': '72701', 'nombre': 'EXEMESTANO AUROVITAS SPAIN 25 mg COMPRIMIDOS RECUBIERTOS CON PELICULA EFG', 'labtitular': 'Aurovitas Spain, S.A.U.', 'cpresc': 'Medicamento Sujeto A Prescripción Médica', 'estado': {'aut': 1286229600000}, 'comerc': True, 'receta': True, 'generico': True, 'conduc': False, 'triangulo': False, 'huerfano': False, 'biosimilar': False, 'nosustituible': {'id': 0, 'nombre': 'N/A'}, 'psum': False, 'notas': False, 'materialesInf': False, 'ema': False, 'docs': [{'tipo': 1, 'url': 'https://cima.aemps.es/cima/pdfs/ft/72701/FT_72701.pdf', 'urlHtml': 'https://cima.aemps.es/cima/dochtml/ft/72701/FT_72701.html', 'secc': True, 'fecha': 1667606226000}, {'tipo': 2, 'url': 'https://cima.aemps.es/cima/pdfs/p/72701/P_72701.pdf', 'urlHtml': 'https://cima.aemps.es/cima/dochtml/p/72701/P_72701.html', 'secc': True, 'fecha': 1658358849000}], 'viasAdministracion': [{'id': 48, 'nombre': 'VÍA ORAL'}], 'formaFarmaceutica': {'id': 42, 'nombre': 'COMPRIMIDO RECUBIERTO CON PELÍCULA'}, 'formaFarmaceuticaSimplificada': {'id': 10, 'nombre': 'COMPRIMIDO'}, 'vtm': {'id': 116115004, 'nombre': 'exemestano'}, 'dosis': '25 mg exemestano'}, {'nregistro': '75999', 'nombre': 'EXEMESTANO RATIOPHARM 25 mg COMPRIMIDOS RECUBIERTOS CON PELICULA EFG', 'labtitular': 'Teva Pharma S.L.U.', 'cpresc': 'Medicamento Sujeto A Prescripción Médica', 'estado': {'aut': 1338469861000}, 'comerc': True, 'receta': True, 'generico': True, 'conduc': False, 'triangulo': False, 'huerfano': False, 'biosimilar': False, 'nosustituible': {'id': 0, 'nombre': 'N/A'}, 'psum': False, 'notas': False, 'materialesInf': False, 'ema': False, 'docs': [{'tipo': 1, 'url': 'https://cima.aemps.es/cima/pdfs/ft/75999/FT_75999.pdf', 'urlHtml': 'https://cima.aemps.es/cima/dochtml/ft/75999/FT_75999.html', 'secc': True, 'fecha': 1669162092000}, {'tipo': 2, 'url': 'https://cima.aemps.es/cima/pdfs/p/75999/P_75999.pdf', 'urlHtml': 'https://cima.aemps.es/cima/dochtml/p/75999/P_75999.html', 'secc': True, 'fecha': 1669162104000}], 'viasAdministracion': [{'id': 48, 'nombre': 'VÍA ORAL'}], 'formaFarmaceutica': {'id': 42, 'nombre': 'COMPRIMIDO RECUBIERTO CON PELÍCULA'}, 'formaFarmaceuticaSimplificada': {'id': 10, 'nombre': 'COMPRIMIDO'}, 'vtm': {'id': 116115004, 'nombre': 'exemestano'}, 'dosis': '25 MG'}, {'nregistro': '73282', 'nombre': 'EXEMESTANO TEVA 25 mg COMPRIMIDOS RECUBIERTOS CON PELICULA EFG', 'labtitular': 'Teva Pharma S.L.U.', 'cpresc': 'Medicamento Sujeto A Prescripción Médica', 'estado': {'aut': 1294873200000}, 'comerc': True, 'receta': True, 'generico': True, 'conduc': False, 'triangulo': False, 'huerfano': False, 'biosimilar': False, 'nosustituible': {'id': 0, 'nombre': 'N/A'}, 'psum': False, 'notas': False, 'materialesInf': False, 'ema': False, 'docs': [{'tipo': 1, 'url': 'https://cima.aemps.es/cima/pdfs/ft/73282/FT_73282.pdf', 'urlHtml': 'https://cima.aemps.es/cima/dochtml/ft/73282/FT_73282.html', 'secc': True, 'fecha': 1599863341000}, {'tipo': 2, 'url': 'https://cima.aemps.es/cima/pdfs/p/73282/P_73282.pdf', 'urlHtml': 'https://cima.aemps.es/cima/dochtml/p/73282/P_73282.html', 'secc': True, 'fecha': 1627686667000}], 'viasAdministracion': [{'id': 48, 'nombre': 'VÍA ORAL'}], 'formaFarmaceutica': {'id': 42, 'nombre': 'COMPRIMIDO RECUBIERTO CON PELÍCULA'}, 'formaFarmaceuticaSimplificada': {'id': 10, 'nombre': 'COMPRIMIDO'}, 'vtm': {'id': 116115004, 'nombre': 'exemestano'}, 'dosis': '25 mg'}, {'nregistro': '68293', 'nombre': 'FLUORSCAN 3000 MBq/ml SOLUCION INYECTABLE', 'labtitular': 'Curium Pharma Spain S.A.', 'cpresc': 'Uso Hospitalario', 'estado': {'aut': 1166569200000}, 'comerc': True, 'receta': True, 'generico': False, 'conduc': False, 'triangulo': False, 'huerfano': False, 'biosimilar': False, 'nosustituible': {'id': 0, 'nombre': 'N/A'}, 'psum': False, 'notas': False, 'materialesInf': False, 'ema': False, 'docs': [{'tipo': 1, 'url': 'https://cima.aemps.es/cima/pdfs/ft/68293/FT_68293.pdf', 'urlHtml': 'https://cima.aemps.es/cima/dochtml/ft/68293/FT_68293.html', 'secc': True, 'fecha': 1542237322000}, {'tipo': 2, 'url': 'https://cima.aemps.es/cima/pdfs/p/68293/P_68293.pdf', 'urlHtml': 'https://cima.aemps.es/cima/dochtml/p/68293/P_68293.html', 'secc': True, 'fecha': 1621029122000}], 'viasAdministracion': [{'id': 42, 'nombre': 'VÍA INTRAVENOSA'}], 'formaFarmaceutica': {'id': 197, 'nombre': 'SOLUCIÓN INYECTABLE'}, 'formaFarmaceuticaSimplificada': {'id': 34, 'nombre': 'INYECTABLE'}, 'vtm': {'id': 145081000140105, 'nombre': 'fludesoxiglucosa (18F)'}, 'dosis': '3000 MBq Fludesoxiglucosa/ml'}, {'nregistro': '76158', 'nombre': 'GEMCITABINA ACCORD 200 mg CONCENTRADO PARA SOLUCION PARA PERFUSION', 'labtitular': 'Accord Healthcare S.L.U.', 'cpresc': 'Uso Hospitalario', 'estado': {'aut': 1341645148000}, 'comerc': True, 'receta': True, 'generico': False, 'conduc': True, 'triangulo': False, 'huerfano': False, 'biosimilar': False, 'nosustituible': {'id': 0, 'nombre': 'N/A'}, 'psum': True, 'notas': False, 'materialesInf': False, 'ema': False, 'docs': [{'tipo': 1, 'url': 'https://cima.aemps.es/cima/pdfs/ft/76158/FT_76158.pdf', 'urlHtml': 'https://cima.aemps.es/cima/dochtml/ft/76158/FT_76158.html', 'secc': True, 'fecha': 1666130866000}, {'tipo': 2, 'url': 'https://cima.aemps.es/cima/pdfs/p/76158/P_76158.pdf', 'urlHtml': 'https://cima.aemps.es/cima/dochtml/p/76158/P_76158.html', 'secc': True, 'fecha': 1675815471000}], 'viasAdministracion': [{'id': 42, 'nombre': 'VÍA INTRAVENOSA'}], 'formaFarmaceutica': {'id': 225, 'nombre': 'CONCENTRADO PARA SOLUCIÓN PARA PERFUSIÓN'}, 'formaFarmaceuticaSimplificada': {'id': 35, 'nombre': 'INYECTABLE PERFUSION'}, 'vtm': {'id': 108811008, 'nombre': 'gemcitabina'}, 'dosis': '100 mg/ ml'}, {'nregistro': '80846', 'nombre': 'GEMCITABINA AUROVITAS SPAIN 1000 MG CONCENTRADO PARA SOLUCION PARA PERFUSION', 'labtitular': 'Eugia Pharma (Malta) Limited', 'cpresc': 'Uso Hospitalario', 'estado': {'aut': 1588716000000}, 'comerc': True, 'receta': True, 'generico': False, 'conduc': True, 'triangulo': False, 'huerfano': False, 'biosimilar': False, 'nosustituible': {'id': 0, 'nombre': 'N/A'}, 'psum': False, 'notas': False, 'materialesInf': False, 'ema': False, 'docs': [{'tipo': 1, 'url': 'https://cima.aemps.es/cima/pdfs/ft/80846/FT_80846.pdf', 'urlHtml': 'https://cima.aemps.es/cima/dochtml/ft/80846/FT_80846.html', 'secc': True, 'fecha': 1697495555000}, {'tipo': 2, 'url': 'https://cima.aemps.es/cima/pdfs/p/80846/P_80846.pdf', 'urlHtml': 'https://cima.aemps.es/cima/dochtml/p/80846/P_80846.html', 'secc': True, 'fecha': 1697495569000}], 'viasAdministracion': [{'id': 42, 'nombre': 'VÍA INTRAVENOSA'}], 'formaFarmaceutica': {'id': 225, 'nombre': 'CONCENTRADO PARA SOLUCIÓN PARA PERFUSIÓN'}, 'formaFarmaceuticaSimplificada': {'id': 35, 'nombre': 'INYECTABLE PERFUSION'}, 'vtm': {'id': 108811008, 'nombre': 'gemcitabina'}, 'dosis': '40 mg/ml'}, {'nregistro': '80845', 'nombre': 'GEMCITABINA AUROVITAS SPAIN 2000 MG CONCENTRADO PARA SOLUCION PARA PERFUSION', 'labtitular': 'Eugia Pharma (Malta) Limited', 'cpresc': 'Uso Hospitalario', 'estado': {'aut': 1588716000000}, 'comerc': True, 'receta': True, 'generico': False, 'conduc': True, 'triangulo': False, 'huerfano': False, 'biosimilar': False, 'nosustituible': {'id': 0, 'nombre': 'N/A'}, 'psum': False, 'notas': False, 'materialesInf': False, 'ema': False, 'docs': [{'tipo': 1, 'url': 'https://cima.aemps.es/cima/pdfs/ft/80845/FT_80845.pdf', 'urlHtml': 'https://cima.aemps.es/cima/dochtml/ft/80845/FT_80845.html', 'secc': True, 'fecha': 1697495608000}, {'tipo': 2, 'url': 'https://cima.aemps.es/cima/pdfs/p/80845/P_80845.pdf', 'urlHtml': 'https://cima.aemps.es/cima/dochtml/p/80845/P_80845.html', 'secc': True, 'fecha': 1697495622000}], 'viasAdministracion': [{'id': 42, 'nombre': 'VÍA INTRAVENOSA'}], 'formaFarmaceutica': {'id': 225, 'nombre': 'CONCENTRADO PARA SOLUCIÓN PARA PERFUSIÓN'}, 'formaFarmaceuticaSimplificada': {'id': 35, 'nombre': 'INYECTABLE PERFUSION'}, 'vtm': {'id': 108811008, 'nombre': 'gemcitabina'}, 'dosis': '40 mg/ml'}, {'nregistro': '72981', 'nombre': 'GEMCITABINA AUROVITAS 1000 mg CONCENTRADO PARA SOLUCION PARA PERFUSION', 'labtitular': 'Aurovitas Spain, S.A.U.', 'cpresc': 'Uso Hospitalario', 'estado': {'aut': 1288825200000, 'rev': 1633710273000}, 'comerc': False, 'receta': True, 'generico': False, 'conduc': True, 'triangulo': False, 'huerfano': False, 'biosimilar': False, 'nosustituible': {'id': 0, 'nombre': 'N/A'}, 'psum': False, 'notas': False, 'materialesInf': False, 'ema': False, 'docs': [{'tipo': 1, 'url': 'https://cima.aemps.es/cima/pdfs/ft/72981/FT_72981.pdf', 'urlHtml': 'https://cima.aemps.es/cima/dochtml/ft/72981/FT_72981.html', 'secc': True, 'fecha': 1627082601000}, {'tipo': 2, 'url': 'https://cima.aemps.es/cima/pdfs/p/72981/P_72981.pdf', 'urlHtml': 'https://cima.aemps.es/cima/dochtml/p/72981/P_72981.html', 'secc': True, 'fecha': 1627082643000}], 'viasAdministracion': [{'id': 42, 'nombre': 'VÍA INTRAVENOSA'}], 'formaFarmaceutica': {'id': 225, 'nombre': 'CONCENTRADO PARA SOLUCIÓN PARA PERFUSIÓN'}, 'formaFarmaceuticaSimplificada': {'id': 35, 'nombre': 'INYECTABLE PERFUSION'}, 'vtm': {'id': 108811008, 'nombre': 'gemcitabina'}, 'dosis': '1000 mg'}, {'nregistro': '73627', 'nombre': 'GEMCITABINA GP-PHARM 1000 mg POLVO PARA SOLUCION PARA PERFUSION EFG', 'labtitular': 'Gp Pharm S.A.', 'cpresc': 'Uso Hospitalario', 'estado': {'aut': 1300057200000, 'rev': 1647428587000}, 'comerc': False, 'receta': True, 'generico': True, 'conduc': True, 'triangulo': False, 'huerfano': False, 'biosimilar': False, 'nosustituible': {'id': 0, 'nombre': 'N/A'}, 'psum': False, 'notas': False, 'materialesInf': False, 'ema': False, 'docs': [{'tipo': 1, 'url': 'https://cima.aemps.es/cima/pdfs/ft/73627/FT_73627.pdf', 'urlHtml': 'https://cima.aemps.es/cima/dochtml/ft/73627/FT_73627.html', 'secc': True, 'fecha': 1547852885000}, {'tipo': 2, 'url': 'https://cima.aemps.es/cima/pdfs/p/73627/P_73627.pdf', 'urlHtml': 'https://cima.aemps.es/cima/dochtml/p/73627/P_73627.html', 'secc': True, 'fecha': 1555534973000}], 'viasAdministracion': [{'id': 42, 'nombre': 'VÍA INTRAVENOSA'}], 'formaFarmaceutica': {'id': 224, 'nombre': 'POLVO PARA SOLUCIÓN PARA PERFUSIÓN'}, 'formaFarmaceuticaSimplificada': {'id': 35, 'nombre': 'INYECTABLE PERFUSION'}, 'vtm': {'id': 108811008, 'nombre': 'gemcitabina'}, 'dosis': '1000 mg/vial'}, {'nregistro': '73626', 'nombre': 'GEMCITABINA GP-PHARM 200 mg POLVO PARA SOLUCION PARA PERFUSION EFG', 'labtitular': 'Gp Pharm S.A.', 'cpresc': 'Uso Hospitalario', 'estado': {'aut': 1300057200000, 'rev': 1647428587000}, 'comerc': False, 'receta': True, 'generico': True, 'conduc': True, 'triangulo': False, 'huerfano': False, 'biosimilar': False, 'nosustituible': {'id': 0, 'nombre': 'N/A'}, 'psum': False, 'notas': False, 'materialesInf': False, 'ema': False, 'docs': [{'tipo': 1, 'url': 'https://cima.aemps.es/cima/pdfs/ft/73626/FT_73626.pdf', 'urlHtml': 'https://cima.aemps.es/cima/dochtml/ft/73626/FT_73626.html', 'secc': True, 'fecha': 1547852838000}, {'tipo': 2, 'url': 'https://cima.aemps.es/cima/pdfs/p/73626/P_73626.pdf', 'urlHtml': 'https://cima.aemps.es/cima/dochtml/p/73626/P_73626.html', 'secc': True, 'fecha': 1555534965000}], 'viasAdministracion': [{'id': 42, 'nombre': 'VÍA INTRAVENOSA'}], 'formaFarmaceutica': {'id': 224, 'nombre': 'POLVO PARA SOLUCIÓN PARA PERFUSIÓN'}, 'formaFarmaceuticaSimplificada': {'id': 35, 'nombre': 'INYECTABLE PERFUSION'}, 'vtm': {'id': 108811008, 'nombre': 'gemcitabina'}, 'dosis': '200 mg/vial'}, {'nregistro': '72104', 'nombre': 'GEMCITABINA KABI 1000 mg POLVO PARA SOLUCION PARA PERFUSION EFG', 'labtitular': 'Fresenius Kabi España, S.A.U.', 'cpresc': 'Uso Hospitalario', 'estado': {'aut': 1312754400000, 'rev': 1614181298000}, 'comerc': False, 'receta': True, 'generico': True, 'conduc': True, 'triangulo': False, 'huerfano': False, 'biosimilar': False, 'nosustituible': {'id': 0, 'nombre': 'N/A'}, 'psum': False, 'notas': False, 'materialesInf': False, 'ema': False, 'docs': [{'tipo': 1, 'url': 'https://cima.aemps.es/cima/pdfs/ft/72104/FT_72104.pdf', 'urlHtml': 'https://cima.aemps.es/cima/dochtml/ft/72104/FT_72104.html', 'secc': True, 'fecha': 1561152189000}, {'tipo': 2, 'url': 'https://cima.aemps.es/cima/pdfs/p/72104/P_72104.pdf', 'urlHtml': 'https://cima.aemps.es/cima/dochtml/p/72104/P_72104.html', 'secc': True, 'fecha': 1561152197000}], 'viasAdministracion': [{'id': 42, 'nombre': 'VÍA INTRAVENOSA'}], 'formaFarmaceutica': {'id': 224, 'nombre': 'POLVO PARA SOLUCIÓN PARA PERFUSIÓN'}, 'formaFarmaceuticaSimplificada': {'id': 35, 'nombre': 'INYECTABLE PERFUSION'}, 'vtm': {'id': 108811008, 'nombre': 'gemcitabina'}, 'dosis': '43.29 mg/ml (equivalentes a 38 mg/ml gemcitabina)'}, {'nregistro': '72103', 'nombre': 'GEMCITABINA KABI 2000 mg POLVO PARA SOLUCION PARA PERFUSION', 'labtitular': 'Fresenius Kabi España, S.A.U.', 'cpresc': 'Uso Hospitalario', 'estado': {'aut': 1312754400000, 'rev': 1612871690000}, 'comerc': False, 'receta': True, 'generico': False, 'conduc': True, 'triangulo': False, 'huerfano': False, 'biosimilar': False, 'nosustituible': {'id': 0, 'nombre': 'N/A'}, 'psum': False, 'notas': False, 'materialesInf': False, 'ema': False, 'docs': [{'tipo': 1, 'url': 'https://cima.aemps.es/cima/pdfs/ft/72103/FT_72103.pdf', 'urlHtml': 'https://cima.aemps.es/cima/dochtml/ft/72103/FT_72103.html', 'secc': True, 'fecha': 1561152214000}, {'tipo': 2, 'url': 'https://cima.aemps.es/cima/pdfs/p/72103/P_72103.pdf', 'urlHtml': 'https://cima.aemps.es/cima/dochtml/p/72103/P_72103.html', 'secc': True, 'fecha': 1561152223000}], 'viasAdministracion': [{'id': 42, 'nombre': 'VÍA INTRAVENOSA'}], 'formaFarmaceutica': {'id': 224, 'nombre': 'POLVO PARA SOLUCIÓN PARA PERFUSIÓN'}, 'formaFarmaceuticaSimplificada': {'id': 35, 'nombre': 'INYECTABLE PERFUSION'}, 'vtm': {'id': 108811008, 'nombre': 'gemcitabina'}, 'dosis': '43.29 mg/ml (equivalentes a 38 mg/ml gemcitabina)'}, {'nregistro': '70836', 'nombre': 'GEMCITABINA SUN 200 mg POLVO PARA SOLUCION PARA PERFUSION EFG', 'labtitular': 'Sun Pharmaceutical Industries (Europe) B.V.', 'cpresc': 'Uso Hospitalario', 'estado': {'aut': 1245621600000, 'rev': 1575549980000}, 'comerc': False, 'receta': True, 'generico': True, 'conduc': True, 'triangulo': False, 'huerfano': False, 'biosimilar': False, 'nosustituible': {'id': 0, 'nombre': 'N/A'}, 'psum': False, 'notas': False, 'materialesInf': False, 'ema': False, 'docs': [{'tipo': 1, 'url': 'https://cima.aemps.es/cima/pdfs/ft/70836/FT_70836.pdf', 'urlHtml': 'https://cima.aemps.es/cima/dochtml/ft/70836/FT_70836.html', 'secc': True, 'fecha': 1561066523000}, {'tipo': 2, 'url': 'https://cima.aemps.es/cima/pdfs/p/70836/P_70836.pdf', 'urlHtml': 'https://cima.aemps.es/cima/dochtml/p/70836/P_70836.html', 'secc': True, 'fecha': 1561066533000}], 'viasAdministracion': [{'id': 42, 'nombre': 'VÍA INTRAVENOSA'}], 'formaFarmaceutica': {'id': 224, 'nombre': 'POLVO PARA SOLUCIÓN PARA PERFUSIÓN'}, 'formaFarmaceuticaSimplificada': {'id': 35, 'nombre': 'INYECTABLE PERFUSION'}, 'vtm': {'id': 108811008, 'nombre': 'gemcitabina'}, 'dosis': '200 MG'}, {'nregistro': '71494', 'nombre': 'IRINOTECAN GP-PHARM 20 mg/ml CONCENTRADO PARA SOLUCION PARA PERFUSION EFG', 'labtitular': 'Gp Pharm S.A.', 'cpresc': 'Uso Hospitalario', 'estado': {'aut': 1255039200000, 'rev': 1697456206000}, 'comerc': False, 'receta': True, 'generico': True, 'conduc': True, 'triangulo': False, 'huerfano': False, 'biosimilar': False, 'nosustituible': {'id': 0, 'nombre': 'N/A'}, 'psum': False, 'notas': False, 'materialesInf': False, 'ema': False, 'docs': [{'tipo': 1, 'url': 'https://cima.aemps.es/cima/pdfs/ft/71494/FT_71494.pdf', 'urlHtml': 'https://cima.aemps.es/cima/dochtml/ft/71494/FT_71494.html', 'secc': True, 'fecha': 1649110872000}, {'tipo': 2, 'url': 'https://cima.aemps.es/cima/pdfs/p/71494/P_71494.pdf', 'urlHtml': 'https://cima.aemps.es/cima/dochtml/p/71494/P_71494.html', 'secc': True, 'fecha': 1649110884000}], 'viasAdministracion': [{'id': 42, 'nombre': 'VÍA INTRAVENOSA'}], 'formaFarmaceutica': {'id': 225, 'nombre': 'CONCENTRADO PARA SOLUCIÓN PARA PERFUSIÓN'}, 'formaFarmaceuticaSimplificada': {'id': 35, 'nombre': 'INYECTABLE PERFUSION'}, 'vtm': {'id': 108783005, 'nombre': 'irinotecán'}, 'dosis': '20 mg/ml'}, {'nregistro': '72124', 'nombre': 'LETROZOL ALTER 2,5 MG COMPRIMIDOS RECUBIERTOS CON PELICULA EFG', 'labtitular': 'Laboratorios Alter S.A.', 'cpresc': 'Medicamento Sujeto A Prescripción Médica', 'estado': {'aut': 1271800800000}, 'comerc': True, 'receta': True, 'generico': True, 'conduc': False, 'triangulo': False, 'huerfano': False, 'biosimilar': False, 'nosustituible': {'id': 0, 'nombre': 'N/A'}, 'psum': False, 'notas': False, 'materialesInf': False, 'ema': False, 'docs': [{'tipo': 1, 'url': 'https://cima.aemps.es/cima/pdfs/ft/72124/FT_72124.pdf', 'urlHtml': 'https://cima.aemps.es/cima/dochtml/ft/72124/FT_72124.html', 'secc': True, 'fecha': 1613176155000}, {'tipo': 2, 'url': 'https://cima.aemps.es/cima/pdfs/p/72124/P_72124.pdf', 'urlHtml': 'https://cima.aemps.es/cima/dochtml/p/72124/P_72124.html', 'secc': True, 'fecha': 1613176167000}], 'viasAdministracion': [{'id': 48, 'nombre': 'VÍA ORAL'}], 'formaFarmaceutica': {'id': 42, 'nombre': 'COMPRIMIDO RECUBIERTO CON PELÍCULA'}, 'formaFarmaceuticaSimplificada': {'id': 10, 'nombre': 'COMPRIMIDO'}, 'vtm': {'id': 108777007, 'nombre': 'letrozol'}, 'dosis': '2,5 mg letrozol'}, {'nregistro': '71123', 'nombre': 'LETROZOL AUROVITAS SPAIN 2,5 mg COMPRIMIDOS RECUBIERTOS CON PELICULA EFG', 'labtitular': 'Aurovitas Spain, S.A.U.', 'cpresc': 'Medicamento Sujeto A Prescripción Médica', 'estado': {'aut': 1246831200000, 'rev': 1673897044000}, 'comerc': False, 'receta': True, 'generico': True, 'conduc': False, 'triangulo': False, 'huerfano': False, 'biosimilar': False, 'nosustituible': {'id': 0, 'nombre': 'N/A'}, 'psum': False, 'notas': False, 'materialesInf': False, 'ema': False, 'docs': [{'tipo': 1, 'url': 'https://cima.aemps.es/cima/pdfs/ft/71123/FT_71123.pdf', 'urlHtml': 'https://cima.aemps.es/cima/dochtml/ft/71123/FT_71123.html', 'secc': True, 'fecha': 1625875598000}, {'tipo': 2, 'url': 'https://cima.aemps.es/cima/pdfs/p/71123/P_71123.pdf', 'urlHtml': 'https://cima.aemps.es/cima/dochtml/p/71123/P_71123.html', 'secc': True, 'fecha': 1625875632000}], 'viasAdministracion': [{'id': 48, 'nombre': 'VÍA ORAL'}], 'formaFarmaceutica': {'id': 42, 'nombre': 'COMPRIMIDO RECUBIERTO CON PELÍCULA'}, 'formaFarmaceuticaSimplificada': {'id': 10, 'nombre': 'COMPRIMIDO'}, 'vtm': {'id': 108777007, 'nombre': 'letrozol'}, 'dosis': '2.5 MG'}, {'nregistro': '70854', 'nombre': 'LETROZOL EDIGEN 2,5 mg COMPRIMIDOS RECUBIERTOS CON PELICULA EFG', 'labtitular': 'Aristo Pharma Iberia S.L.', 'cpresc': 'Medicamento Sujeto A Prescripción Médica', 'estado': {'aut': 1240351200000}, 'comerc': True, 'receta': True, 'generico': True, 'conduc': False, 'triangulo': False, 'huerfano': False, 'biosimilar': False, 'nosustituible': {'id': 0, 'nombre': 'N/A'}, 'psum': False, 'notas': False, 'materialesInf': False, 'ema': False, 'docs': [{'tipo': 1, 'url': 'https://cima.aemps.es/cima/pdfs/ft/70854/FT_70854.pdf', 'urlHtml': 'https://cima.aemps.es/cima/dochtml/ft/70854/FT_70854.html', 'secc': True, 'fecha': 1570223519000}, {'tipo': 2, 'url': 'https://cima.aemps.es/cima/pdfs/p/70854/P_70854.pdf', 'urlHtml': 'https://cima.aemps.es/cima/dochtml/p/70854/P_70854.html', 'secc': True, 'fecha': 1570223527000}], 'viasAdministracion': [{'id': 48, 'nombre': 'VÍA ORAL'}], 'formaFarmaceutica': {'id': 42, 'nombre': 'COMPRIMIDO RECUBIERTO CON PELÍCULA'}, 'formaFarmaceuticaSimplificada': {'id': 10, 'nombre': 'COMPRIMIDO'}, 'vtm': {'id': 108777007, 'nombre': 'letrozol'}, 'dosis': '2,5 mg letrozol'}, {'nregistro': '81743', 'nombre': 'LETROZOL PENSA PHARMA 2,5 MG COMPRIMIDOS RECUBIERTOS CON PELICULA EFG', 'labtitular': 'Towa Pharmaceutical S.A.', 'cpresc': 'Medicamento Sujeto A Prescripción Médica', 'estado': {'aut': 1486594800000}, 'comerc': True, 'receta': True, 'generico': True, 'conduc': False, 'triangulo': False, 'huerfano': False, 'biosimilar': False, 'nosustituible': {'id': 0, 'nombre': 'N/A'}, 'psum': False, 'notas': False, 'materialesInf': False, 'ema': False, 'docs': [{'tipo': 1, 'url': 'https://cima.aemps.es/cima/pdfs/ft/81743/FT_81743.pdf', 'urlHtml': 'https://cima.aemps.es/cima/dochtml/ft/81743/FT_81743.html', 'secc': True, 'fecha': 1671065703000}, {'tipo': 2, 'url': 'https://cima.aemps.es/cima/pdfs/p/81743/P_81743.pdf', 'urlHtml': 'https://cima.aemps.es/cima/dochtml/p/81743/P_81743.html', 'secc': True, 'fecha': 1697063405000}], 'viasAdministracion': [{'id': 48, 'nombre': 'VÍA ORAL'}], 'formaFarmaceutica': {'id': 42, 'nombre': 'COMPRIMIDO RECUBIERTO CON PELÍCULA'}, 'formaFarmaceuticaSimplificada': {'id': 10, 'nombre': 'COMPRIMIDO'}, 'vtm': {'id': 108777007, 'nombre': 'letrozol'}, 'dosis': '2.5 mg'}, {'nregistro': '70937', 'nombre': 'LETROZOL PENSA 2,5 mg COMPRIMIDOS RECUBIERTOS CON PELICULA EFG', 'labtitular': 'Pensa Pharma, S.A.U', 'cpresc': 'Medicamento Sujeto A Prescripción Médica', 'estado': {'aut': 1273788000000, 'rev': 1595235099000}, 'comerc': False, 'receta': True, 'generico': True, 'conduc': False, 'triangulo': False, 'huerfano': False, 'biosimilar': False, 'nosustituible': {'id': 0, 'nombre': 'N/A'}, 'psum': False, 'notas': False, 'materialesInf': False, 'ema': False, 'docs': [{'tipo': 1, 'url': 'https://cima.aemps.es/cima/pdfs/ft/70937/FT_70937.pdf', 'urlHtml': 'https://cima.aemps.es/cima/dochtml/ft/70937/FT_70937.html', 'secc': True, 'fecha': 1574123319000}, {'tipo': 2, 'url': 'https://cima.aemps.es/cima/pdfs/p/70937/P_70937.pdf', 'urlHtml': 'https://cima.aemps.es/cima/dochtml/p/70937/P_70937.html', 'secc': True, 'fecha': 1574123329000}], 'viasAdministracion': [{'id': 48, 'nombre': 'VÍA ORAL'}], 'formaFarmaceutica': {'id': 42, 'nombre': 'COMPRIMIDO RECUBIERTO CON PELÍCULA'}, 'formaFarmaceuticaSimplificada': {'id': 10, 'nombre': 'COMPRIMIDO'}, 'vtm': {'id': 108777007, 'nombre': 'letrozol'}, 'dosis': '2.5 MG'}, {'nregistro': '71595', 'nombre': 'LETROZOL RATIOPHARM 2,5 mg COMPRIMIDOS RECUBIERTOS CON PELICULA EFG', 'labtitular': 'Teva Pharma S.L.U.', 'cpresc': 'Medicamento Sujeto A Prescripción Médica', 'estado': {'aut': 1256770800000}, 'comerc': True, 'receta': True, 'generico': True, 'conduc': False, 'triangulo': False, 'huerfano': False, 'biosimilar': False, 'nosustituible': {'id': 0, 'nombre': 'N/A'}, 'psum': False, 'notas': False, 'materialesInf': False, 'ema': False, 'docs': [{'tipo': 1, 'url': 'https://cima.aemps.es/cima/pdfs/ft/71595/FT_71595.pdf', 'urlHtml': 'https://cima.aemps.es/cima/dochtml/ft/71595/FT_71595.html', 'secc': True, 'fecha': 1668728612000}, {'tipo': 2, 'url': 'https://cima.aemps.es/cima/pdfs/p/71595/P_71595.pdf', 'urlHtml': 'https://cima.aemps.es/cima/dochtml/p/71595/P_71595.html', 'secc': True, 'fecha': 1668728622000}], 'viasAdministracion': [{'id': 48, 'nombre': 'VÍA ORAL'}], 'formaFarmaceutica': {'id': 42, 'nombre': 'COMPRIMIDO RECUBIERTO CON PELÍCULA'}, 'formaFarmaceuticaSimplificada': {'id': 10, 'nombre': 'COMPRIMIDO'}, 'vtm': {'id': 108777007, 'nombre': 'letrozol'}, 'dosis': '2,5 MG'}, {'nregistro': '72683', 'nombre': 'LETROZOL VIR 2,5 MG COMPRIMIDOS RECUBIERTOS CON PELÍCULA EFG', 'labtitular': 'Industria Quimica Y Farmaceutica Vir S.A.', 'cpresc': 'Medicamento Sujeto A Prescripción Médica', 'estado': {'aut': 1369864800000}, 'comerc': True, 'receta': True, 'generico': True, 'conduc': False, 'triangulo': False, 'huerfano': False, 'biosimilar': False, 'nosustituible': {'id': 0, 'nombre': 'N/A'}, 'psum': False, 'notas': False, 'materialesInf': False, 'ema': False, 'docs': [{'tipo': 1, 'url': 'https://cima.aemps.es/cima/pdfs/ft/72683/FT_72683.pdf', 'urlHtml': 'https://cima.aemps.es/cima/dochtml/ft/72683/FT_72683.html', 'secc': True, 'fecha': 1669851976000}, {'tipo': 2, 'url': 'https://cima.aemps.es/cima/pdfs/p/72683/P_72683.pdf', 'urlHtml': 'https://cima.aemps.es/cima/dochtml/p/72683/P_72683.html', 'secc': True, 'fecha': 1669851987000}], 'viasAdministracion': [{'id': 48, 'nombre': 'VÍA ORAL'}], 'formaFarmaceutica': {'id': 42, 'nombre': 'COMPRIMIDO RECUBIERTO CON PELÍCULA'}, 'formaFarmaceuticaSimplificada': {'id': 10, 'nombre': 'COMPRIMIDO'}, 'vtm': {'id': 108777007, 'nombre': 'letrozol'}, 'dosis': '2.5 mg'}, {'nregistro': '62079', 'nombre': 'LOXIFAN 2,5 mg COMPRIMIDOS RECUBIERTOS CON PELICULA', 'labtitular': 'Novartis Farmaceutica S.A.', 'cpresc': 'Medicamento Sujeto A Prescripción Médica', 'estado': {'aut': 1055800800000}, 'comerc': True, 'receta': True, 'generico': False, 'conduc': False, 'triangulo': False, 'huerfano': False, 'biosimilar': False, 'nosustituible': {'id': 0, 'nombre': 'N/A'}, 'psum': False, 'notas': False, 'materialesInf': False, 'ema': False, 'docs': [{'tipo': 1, 'url': 'https://cima.aemps.es/cima/pdfs/ft/62079/FT_62079.pdf', 'urlHtml': 'https://cima.aemps.es/cima/dochtml/ft/62079/FT_62079.html', 'secc': True, 'fecha': 1605572805000}, {'tipo': 2, 'url': 'https://cima.aemps.es/cima/pdfs/p/62079/P_62079.pdf', 'urlHtml': 'https://cima.aemps.es/cima/dochtml/p/62079/P_62079.html', 'secc': True, 'fecha': 1671580433000}], 'viasAdministracion': [{'id': 48, 'nombre': 'VÍA ORAL'}], 'formaFarmaceutica': {'id': 42, 'nombre': 'COMPRIMIDO RECUBIERTO CON PELÍCULA'}, 'formaFarmaceuticaSimplificada': {'id': 10, 'nombre': 'COMPRIMIDO'}, 'vtm': {'id': 108777007, 'nombre': 'letrozol'}, 'dosis': '2,5 mg letrozol'}, {'nregistro': '79440', 'nombre': 'METOTREXATO ACCORD 100 MG/ML CONCENTRADO PARA SOLUCION PARA PERFUSION', 'labtitular': 'Accord Healthcare S.L.U.', 'cpresc': 'Uso Hospitalario', 'estado': {'aut': 1426201200000}, 'comerc': True, 'receta': True, 'generico': False, 'conduc': False, 'triangulo': False, 'huerfano': False, 'biosimilar': False, 'nosustituible': {'id': 0, 'nombre': 'N/A'}, 'psum': False, 'notas': True, 'materialesInf': False, 'ema': False, 'docs': [{'tipo': 1, 'url': 'https://cima.aemps.es/cima/pdfs/ft/79440/FT_79440.pdf', 'urlHtml': 'https://cima.aemps.es/cima/dochtml/ft/79440/FT_79440.html', 'secc': True, 'fecha': 1675815604000}, {'tipo': 2, 'url': 'https://cima.aemps.es/cima/pdfs/p/79440/P_79440.pdf', 'urlHtml': 'https://cima.aemps.es/cima/dochtml/p/79440/P_79440.html', 'secc': True, 'fecha': 1652306727000}], 'viasAdministracion': [{'id': 13, 'nombre': 'VÍA INTRAARTERIAL'}, {'id': 30, 'nombre': 'VÍA INTRAMUSCULAR'}, {'id': 42, 'nombre': 'VÍA INTRAVENOSA'}], 'formaFarmaceutica': {'id': 225, 'nombre': 'CONCENTRADO PARA SOLUCIÓN PARA PERFUSIÓN'}, 'formaFarmaceuticaSimplificada': {'id': 35, 'nombre': 'INYECTABLE PERFUSION'}, 'vtm': {'id': 68887009, 'nombre': 'metotrexato'}, 'dosis': '100 mg/ml'}, {'nregistro': '76091', 'nombre': 'METOTREXATO ACCORD 25 MG/ML SOLUCION INYECTABLE EFG', 'labtitular': 'Accord Healthcare S.L.U.', 'cpresc': 'Uso Hospitalario', 'estado': {'aut': 1358982000000}, 'comerc': True, 'receta': True, 'generico': True, 'conduc': False, 'triangulo': False, 'huerfano': False, 'biosimilar': False, 'nosustituible': {'id': 0, 'nombre': 'N/A'}, 'psum': True, 'notas': True, 'materialesInf': False, 'ema': False, 'docs': [{'tipo': 1, 'url': 'https://cima.aemps.es/cima/pdfs/ft/76091/FT_76091.pdf', 'urlHtml': 'https://cima.aemps.es/cima/dochtml/ft/76091/FT_76091.html', 'secc': True, 'fecha': 1695162207000}, {'tipo': 2, 'url': 'https://cima.aemps.es/cima/pdfs/p/76091/P_76091.pdf', 'urlHtml': 'https://cima.aemps.es/cima/dochtml/p/76091/P_76091.html', 'secc': True, 'fecha': 1652306693000}], 'viasAdministracion': [{'id': 13, 'nombre': 'VÍA INTRAARTERIAL'}, {'id': 30, 'nombre': 'VÍA INTRAMUSCULAR'}, {'id': 37, 'nombre': 'VÍA INTRATECAL'}, {'id': 42, 'nombre': 'VÍA INTRAVENOSA'}], 'formaFarmaceutica': {'id': 197, 'nombre': 'SOLUCIÓN INYECTABLE'}, 'formaFarmaceuticaSimplificada': {'id': 34, 'nombre': 'INYECTABLE'}, 'vtm': {'id': 68887009, 'nombre': 'metotrexato'}, 'dosis': '25 mg/ml (2ml, 20ml y 40ml)'}, {'nregistro': '56311', 'nombre': 'METOTREXATO MYLAN 25 mg/ml SOLUCION INYECTABLE Y PARA PERFUSION', 'labtitular': 'Mylan Pharmaceuticals, S.L.', 'cpresc': 'Uso Hospitalario', 'estado': {'aut': 468111600000, 'rev': 1571131249000}, 'comerc': False, 'receta': True, 'generico': False, 'conduc': False, 'triangulo': False, 'huerfano': False, 'biosimilar': False, 'nosustituible': {'id': 0, 'nombre': 'N/A'}, 'psum': False, 'notas': True, 'materialesInf': False, 'ema': False, 'docs': [{'tipo': 1, 'url': 'https://cima.aemps.es/cima/pdfs/ft/56311/FT_56311.pdf', 'urlHtml': 'https://cima.aemps.es/cima/dochtml/ft/56311/FT_56311.html', 'secc': True, 'fecha': 1531775239000}, {'tipo': 2, 'url': 'https://cima.aemps.es/cima/pdfs/p/56311/P_56311.pdf', 'urlHtml': 'https://cima.aemps.es/cima/dochtml/p/56311/P_56311.html', 'secc': True, 'fecha': 1554154581000}], 'viasAdministracion': [{'id': 13, 'nombre': 'VÍA INTRAARTERIAL'}, {'id': 30, 'nombre': 'VÍA INTRAMUSCULAR'}, {'id': 37, 'nombre': 'VÍA INTRATECAL'}, {'id': 42, 'nombre': 'VÍA INTRAVENOSA'}], 'formaFarmaceutica': {'id': 197, 'nombre': 'SOLUCIÓN INYECTABLE'}, 'formaFarmaceuticaSimplificada': {'id': 34, 'nombre': 'INYECTABLE'}, 'vtm': {'id': 68887009, 'nombre': 'metotrexato'}, 'dosis': '25 mg/ml'}, {'nregistro': '72386', 'nombre': 'OXALIPLATINO ACCORD 5 mg/ml CONCENTRADO PARA SOLUCION PARA PERFUSION EFG', 'labtitular': 'Accord Healthcare S.L.U.', 'cpresc': 'Uso Hospitalario', 'estado': {'aut': 1285884000000}, 'comerc': True, 'receta': True, 'generico': True, 'conduc': True, 'triangulo': False, 'huerfano': False, 'biosimilar': False, 'nosustituible': {'id': 0, 'nombre': 'N/A'}, 'psum': False, 'notas': False, 'materialesInf': False, 'ema': False, 'docs': [{'tipo': 1, 'url': 'https://cima.aemps.es/cima/pdfs/ft/72386/FT_72386.pdf', 'urlHtml': 'https://cima.aemps.es/cima/dochtml/ft/72386/FT_72386.html', 'secc': True, 'fecha': 1699340170000}, {'tipo': 2, 'url': 'https://cima.aemps.es/cima/pdfs/p/72386/P_72386.pdf', 'urlHtml': 'https://cima.aemps.es/cima/dochtml/p/72386/P_72386.html', 'secc': True, 'fecha': 1699340178000}], 'viasAdministracion': [{'id': 42, 'nombre': 'VÍA INTRAVENOSA'}], 'formaFarmaceutica': {'id': 225, 'nombre': 'CONCENTRADO PARA SOLUCIÓN PARA PERFUSIÓN'}, 'formaFarmaceuticaSimplificada': {'id': 35, 'nombre': 'INYECTABLE PERFUSION'}, 'vtm': {'id': 327032007, 'nombre': 'oxaliplatino'}, 'dosis': '5 mg/ml'}, {'nregistro': '72666', 'nombre': 'OXALIPLATINO GP-PHARM 5 mg/ml, POLVO PARA SOLUCION PARA PERFUSION EFG', 'labtitular': 'Gp Pharm S.A.', 'cpresc': 'Uso Hospitalario', 'estado': {'aut': 1283205600000, 'rev': 1659948948000}, 'comerc': False, 'receta': True, 'generico': True, 'conduc': True, 'triangulo': False, 'huerfano': False, 'biosimilar': False, 'nosustituible': {'id': 0, 'nombre': 'N/A'}, 'psum': False, 'notas': False, 'materialesInf': False, 'ema': False, 'docs': [{'tipo': 1, 'url': 'https://cima.aemps.es/cima/pdfs/ft/72666/FT_72666.pdf', 'urlHtml': 'https://cima.aemps.es/cima/dochtml/ft/72666/FT_72666.html', 'secc': True, 'fecha': 1554152886000}, {'tipo': 2, 'url': 'https://cima.aemps.es/cima/pdfs/p/72666/P_72666.pdf', 'urlHtml': 'https://cima.aemps.es/cima/dochtml/p/72666/P_72666.html', 'secc': True, 'fecha': 1554152894000}], 'viasAdministracion': [{'id': 42, 'nombre': 'VÍA INTRAVENOSA'}], 'formaFarmaceutica': {'id': 224, 'nombre': 'POLVO PARA SOLUCIÓN PARA PERFUSIÓN'}, 'formaFarmaceuticaSimplificada': {'id': 35, 'nombre': 'INYECTABLE PERFUSION'}, 'vtm': {'id': 327032007, 'nombre': 'oxaliplatino'}, 'dosis': '5 mg oxaliplatino/ml'}, {'nregistro': '70055', 'nombre': 'SAVEPROST 50 mg COMPRIMIDOS RECUBIERTOS CON PELICULA EFG', 'labtitular': 'Laboratorios Salvat S.A.', 'cpresc': 'Medicamento Sujeto A Prescripción Médica', 'estado': {'aut': 1222380000000}, 'comerc': True, 'receta': True, 'generico': True, 'conduc': True, 'triangulo': False, 'huerfano': False, 'biosimilar': False, 'nosustituible': {'id': 0, 'nombre': 'N/A'}, 'psum': False, 'notas': False, 'materialesInf': False, 'ema': False, 'docs': [{'tipo': 1, 'url': 'https://cima.aemps.es/cima/pdfs/ft/70055/FT_70055.pdf', 'urlHtml': 'https://cima.aemps.es/cima/dochtml/ft/70055/FT_70055.html', 'secc': True, 'fecha': 1594162644000}, {'tipo': 2, 'url': 'https://cima.aemps.es/cima/pdfs/p/70055/P_70055.pdf', 'urlHtml': 'https://cima.aemps.es/cima/dochtml/p/70055/P_70055.html', 'secc': True, 'fecha': 1594162655000}], 'viasAdministracion': [{'id': 48, 'nombre': 'VÍA ORAL'}], 'formaFarmaceutica': {'id': 42, 'nombre': 'COMPRIMIDO RECUBIERTO CON PELÍCULA'}, 'formaFarmaceuticaSimplificada': {'id': 10, 'nombre': 'COMPRIMIDO'}, 'vtm': {'id': 108766001, 'nombre': 'bicalutamida'}, 'dosis': '50 mg bicalutamida'}]\n"
     ]
    }
   ],
   "source": [
    "print(len(list_objects))\n",
    "print(list_objects)"
   ]
  },
  {
   "cell_type": "code",
   "execution_count": 5,
   "metadata": {},
   "outputs": [
    {
     "name": "stdout",
     "output_type": "stream",
     "text": [
      "https://cima.aemps.es/cima/rest/registroCambios?&fecha=27/11/2023&nregistro=\n",
      "315\n"
     ]
    }
   ],
   "source": [
    "list_objects = cima.registroCambios(\"27/11/2023\")"
   ]
  },
  {
   "cell_type": "code",
   "execution_count": 7,
   "metadata": {},
   "outputs": [
    {
     "data": {
      "text/plain": [
       "315"
      ]
     },
     "execution_count": 7,
     "metadata": {},
     "output_type": "execute_result"
    }
   ],
   "source": [
    "len(list_objects)"
   ]
  },
  {
   "cell_type": "markdown",
   "metadata": {},
   "source": [
    "### Read names"
   ]
  },
  {
   "cell_type": "code",
   "execution_count": 4,
   "metadata": {},
   "outputs": [],
   "source": [
    "filename = \"data/lista_nombre.txt\"\n",
    "\n",
    "with open(filename, 'r') as file:\n",
    "    content = file.read()\n",
    "\n",
    "# Split the content by ':' and remove any whitespace\n",
    "names = [num.strip() for num in content.split(':')]"
   ]
  },
  {
   "cell_type": "code",
   "execution_count": 5,
   "metadata": {},
   "outputs": [
    {
     "data": {
      "text/plain": [
       "12027"
      ]
     },
     "execution_count": 5,
     "metadata": {},
     "output_type": "execute_result"
    }
   ],
   "source": [
    "len(names)"
   ]
  },
  {
   "cell_type": "code",
   "execution_count": 48,
   "metadata": {},
   "outputs": [
    {
     "name": "stdout",
     "output_type": "stream",
     "text": [
      "COZAAR PLUS\n"
     ]
    }
   ],
   "source": [
    "# Example usage\n",
    "text = \"COZAAR PLUS 50 mg/12,5 mg COMPRIMIDOS RECUBIERTOS CON PELICULA\"\n",
    "result = utils.extract_text_before_number(text)\n",
    "print(result)  # Output: COZAAR PLUS"
   ]
  },
  {
   "cell_type": "markdown",
   "metadata": {},
   "source": [
    "### Sugerir nombres."
   ]
  },
  {
   "cell_type": "code",
   "execution_count": 7,
   "metadata": {},
   "outputs": [
    {
     "name": "stdout",
     "output_type": "stream",
     "text": [
      "Suggestions: ['EUTIROX', 'GUTRON', 'ENTONOX', 'EULITOP', 'DUMIROX', 'ELMIRON', 'YATROX', 'REUTENOX', 'PENTHROX']\n",
      "Suggestions: [('EUTIROX', 100), ('DUMIROX', 71)]\n"
     ]
    }
   ],
   "source": [
    "import Levenshtein as lev\n",
    "\n",
    "# # Sample database of words\n",
    "# words_database = [\"Eutirox\",\"Eulitox\", \"Example\", \"Trombox\", \"Euphoria\", \"Euro\"]\n",
    "\n",
    "# # Function to suggest words\n",
    "# def suggest_word(input_word, database, max_distance=4):\n",
    "#     suggestions = []\n",
    "#     for word in database:\n",
    "#         if lev.distance(input_word.lower(), word.lower()) <= max_distance:\n",
    "#             suggestions.append(word)\n",
    "#     return suggestions\n",
    "\n",
    "# Sample database of words\n",
    "words_database = names\n",
    "\n",
    "# Function to suggest words\n",
    "def suggest_word(input_word, database, max_distance=3):\n",
    "    suggestions = []\n",
    "    for word in database:\n",
    "        if lev.distance(input_word.lower(), word.lower()) <= max_distance:\n",
    "            suggestions.append(word)\n",
    "    return suggestions\n",
    "\n",
    "# Testing the function\n",
    "input_word = \"eutirox\"\n",
    "suggestions = suggest_word(input_word, words_database)\n",
    "print(\"Suggestions:\", suggestions)\n",
    "\n",
    "from fuzzywuzzy import process\n",
    "\n",
    "def get_similar_words(query, word_list, limit=2):\n",
    "    \"\"\"\n",
    "    Find similar words in a list to the given query word.\n",
    "    \n",
    "    :param query: The word to match.\n",
    "    :param word_list: A list of words to search in.\n",
    "    :param limit: Number of top matches to return. Defaults to 5.\n",
    "    :return: List of tuples with matching word and similarity score.\n",
    "    \"\"\"\n",
    "    # Use the process.extract function to find similar words\n",
    "    similar_words = process.extract(query, word_list, limit=limit)\n",
    "    return similar_words\n",
    "\n",
    "# Example usage\n",
    "word_list = names\n",
    "query = \"eutirox\"\n",
    "similar = get_similar_words(query, word_list)\n",
    "print(\"Suggestions:\", similar)"
   ]
  },
  {
   "cell_type": "code",
   "execution_count": null,
   "metadata": {},
   "outputs": [],
   "source": []
  }
 ],
 "metadata": {
  "kernelspec": {
   "display_name": "base",
   "language": "python",
   "name": "python3"
  },
  "language_info": {
   "codemirror_mode": {
    "name": "ipython",
    "version": 3
   },
   "file_extension": ".py",
   "mimetype": "text/x-python",
   "name": "python",
   "nbconvert_exporter": "python",
   "pygments_lexer": "ipython3",
   "version": "3.10.12"
  }
 },
 "nbformat": 4,
 "nbformat_minor": 2
}
