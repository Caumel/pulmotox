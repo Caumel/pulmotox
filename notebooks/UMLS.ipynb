{
 "cells": [
  {
   "cell_type": "code",
   "execution_count": 1,
   "metadata": {},
   "outputs": [],
   "source": [
    "import sys\n",
    "import os\n",
    "sys.path.append('../')\n",
    "os.chdir('../')\n",
    "\n",
    "import pandas as pd\n",
    "import numpy as np\n",
    "import shutil\n",
    "from pathlib import Path\n",
    "from datetime import datetime\n",
    "import time\n",
    "import threading\n",
    "import json\n",
    "import requests\n",
    "import threading\n",
    "import re\n",
    "from src import utils  \n"
   ]
  },
  {
   "cell_type": "code",
   "execution_count": 4,
   "metadata": {},
   "outputs": [],
   "source": [
    "api_key = \"577c8f76-500d-4e94-9139-8a798bdbe78f\"\n",
    "umls_url = \"https://uts-ws.nlm.nih.gov/rest\"\n",
    "timeout_value = 10"
   ]
  },
  {
   "cell_type": "code",
   "execution_count": 9,
   "metadata": {},
   "outputs": [],
   "source": [
    "def create_url(kind,list_var={}):\n",
    "\n",
    "    \"\"\"Dado el tipo de url, crea el link para realizar la peticion.\n",
    "\n",
    "        Parametros\n",
    "        ----------\n",
    "            kind: String\n",
    "                Tipo de petición a realizar en la API. Ex: Eutirox\n",
    "\n",
    "        Retorna\n",
    "        -------\n",
    "            url: String\n",
    "                Url para realizar la peticion, Ex: https://cima.aemps.es/cima/rest/medicamentos?&nombre=EUTIROX\n",
    "\n",
    "    \"\"\"\n",
    "\n",
    "    url = umls_url + kind\n",
    "\n",
    "    for index, (key, value) in enumerate(list_var.items()):\n",
    "        if isinstance(value,int):\n",
    "            url += \"&\" + key + \"=\" + str(value)\n",
    "        elif isinstance(value,str):\n",
    "            url += \"&\" + key + \"=\" + value\n",
    "    print(url)\n",
    "    return url"
   ]
  },
  {
   "cell_type": "code",
   "execution_count": 22,
   "metadata": {},
   "outputs": [
    {
     "name": "stdout",
     "output_type": "stream",
     "text": [
      "https://uts-ws.nlm.nih.gov/rest/search/current?&string=trastorno gastrointestinal&apiKey=577c8f76-500d-4e94-9139-8a798bdbe78f\n"
     ]
    }
   ],
   "source": [
    "join_path = \"/search/current?\"\n",
    "\n",
    "text = \"trastorno gastrointestinal\"\n",
    "\n",
    "dic_var = {\n",
    "    \"string\": text,\n",
    "    \"apiKey\":api_key\n",
    "}\n",
    "\n",
    "url = create_url(join_path,dic_var)\n",
    "\n",
    "params = {\n",
    "    'pagina': 1,      # Setting the current page number\n",
    "    'tamanioPagina': 25  # Setting the number of items per page\n",
    "}\n",
    "\n",
    "response = requests.get(url, params=params,timeout=timeout_value)\n",
    "resp_code = response.status_code\n",
    "resp_message = response.text"
   ]
  },
  {
   "cell_type": "code",
   "execution_count": 23,
   "metadata": {},
   "outputs": [
    {
     "data": {
      "text/plain": [
       "200"
      ]
     },
     "execution_count": 23,
     "metadata": {},
     "output_type": "execute_result"
    }
   ],
   "source": [
    "resp_code"
   ]
  },
  {
   "cell_type": "code",
   "execution_count": 24,
   "metadata": {},
   "outputs": [
    {
     "data": {
      "text/plain": [
       "'{\"pageSize\":25,\"pageNumber\":1,\"result\":{\"classType\":\"searchResults\",\"results\":[{\"ui\":\"C0017178\",\"rootSource\":\"MTH\",\"uri\":\"https://uts-ws.nlm.nih.gov/rest/content/2023AB/CUI/C0017178\",\"name\":\"Gastrointestinal Diseases\"},{\"ui\":\"C0152945\",\"rootSource\":\"MTH\",\"uri\":\"https://uts-ws.nlm.nih.gov/rest/content/2023AB/CUI/C0152945\",\"name\":\"Gastrointestinal anthrax\"},{\"ui\":\"C0236124\",\"rootSource\":\"SNOMEDCT_US\",\"uri\":\"https://uts-ws.nlm.nih.gov/rest/content/2023AB/CUI/C0236124\",\"name\":\"Gastrointestinal obstruction\"},{\"ui\":\"C0161819\",\"rootSource\":\"SNOMEDCT_US\",\"uri\":\"https://uts-ws.nlm.nih.gov/rest/content/2023AB/CUI/C0161819\",\"name\":\"Gastrointestinal complication\"},{\"ui\":\"C0237938\",\"rootSource\":\"SNOMEDCT_US\",\"uri\":\"https://uts-ws.nlm.nih.gov/rest/content/2023AB/CUI/C0237938\",\"name\":\"Gastrointestinal ulcer\"},{\"ui\":\"C0079238\",\"rootSource\":\"MTH\",\"uri\":\"https://uts-ws.nlm.nih.gov/rest/content/2023AB/CUI/C0079238\",\"name\":\"Digestive System Fistula\"},{\"ui\":\"C0852271\",\"rootSource\":\"SNOMEDCT_US\",\"uri\":\"https://uts-ws.nlm.nih.gov/rest/content/2023AB/CUI/C0852271\",\"name\":\"Neonatal gastrointestinal disorder\"},{\"ui\":\"C0348803\",\"rootSource\":\"SNOMEDCT_US\",\"uri\":\"https://uts-ws.nlm.nih.gov/rest/content/2023AB/CUI/C0348803\",\"name\":\"Gastrointestinal mucormycosis\"},{\"ui\":\"C0341201\",\"rootSource\":\"SNOMEDCT_US\",\"uri\":\"https://uts-ws.nlm.nih.gov/rest/content/2023AB/CUI/C0341201\",\"name\":\"Drug-induced gastrointestinal disturbance\"},{\"ui\":\"C0343886\",\"rootSource\":\"MTH\",\"uri\":\"https://uts-ws.nlm.nih.gov/rest/content/2023AB/CUI/C0343886\",\"name\":\"Gastrointestinal candidiasis\"},{\"ui\":\"C0521585\",\"rootSource\":\"MTH\",\"uri\":\"https://uts-ws.nlm.nih.gov/rest/content/2023AB/CUI/C0521585\",\"name\":\"Gastrointestinal mucositis\"},{\"ui\":\"C0151664\",\"rootSource\":\"SNOMEDCT_US\",\"uri\":\"https://uts-ws.nlm.nih.gov/rest/content/2023AB/CUI/C0151664\",\"name\":\"Gastrointestinal perforation\"},{\"ui\":\"C0521587\",\"rootSource\":\"SNOMEDCT_US\",\"uri\":\"https://uts-ws.nlm.nih.gov/rest/content/2023AB/CUI/C0521587\",\"name\":\"Gastrointestinal stenosis\"},{\"ui\":\"C0559031\",\"rootSource\":\"MSH\",\"uri\":\"https://uts-ws.nlm.nih.gov/rest/content/2023AB/CUI/C0559031\",\"name\":\"Functional Gastrointestinal Disorders\"},{\"ui\":\"C0948779\",\"rootSource\":\"SNOMEDCT_US\",\"uri\":\"https://uts-ws.nlm.nih.gov/rest/content/2023AB/CUI/C0948779\",\"name\":\"Gastrointestinal hypomotility\"},{\"ui\":\"C0343432\",\"rootSource\":\"SNOMEDCT_US\",\"uri\":\"https://uts-ws.nlm.nih.gov/rest/content/2023AB/CUI/C0343432\",\"name\":\"Gastroenteric plague\"},{\"ui\":\"C0413282\",\"rootSource\":\"SNOMEDCT_US\",\"uri\":\"https://uts-ws.nlm.nih.gov/rest/content/2023AB/CUI/C0413282\",\"name\":\"Gastrointestinal barotrauma\"},{\"ui\":\"C0041909\",\"rootSource\":\"MTH\",\"uri\":\"https://uts-ws.nlm.nih.gov/rest/content/2023AB/CUI/C0041909\",\"name\":\"Upper gastrointestinal hemorrhage\"},{\"ui\":\"C0596368\",\"rootSource\":\"MDR\",\"uri\":\"https://uts-ws.nlm.nih.gov/rest/content/2023AB/CUI/C0596368\",\"name\":\"Gastrointestinal disorder congenital\"},{\"ui\":\"C0810305\",\"rootSource\":\"MDR\",\"uri\":\"https://uts-ws.nlm.nih.gov/rest/content/2023AB/CUI/C0810305\",\"name\":\"Lower gastrointestinal disorder\"},{\"ui\":\"C0810300\",\"rootSource\":\"MDR\",\"uri\":\"https://uts-ws.nlm.nih.gov/rest/content/2023AB/CUI/C0810300\",\"name\":\"Upper gastrointestinal disorder\"},{\"ui\":\"C0936186\",\"rootSource\":\"MDR\",\"uri\":\"https://uts-ws.nlm.nih.gov/rest/content/2023AB/CUI/C0936186\",\"name\":\"Gastrointestinal disorder postoperative\"},{\"ui\":\"C0855257\",\"rootSource\":\"MDR\",\"uri\":\"https://uts-ws.nlm.nih.gov/rest/content/2023AB/CUI/C0855257\",\"name\":\"Somatoform disorder gastrointestinal\"},{\"ui\":\"C0341561\",\"rootSource\":\"SNOMEDCT_US\",\"uri\":\"https://uts-ws.nlm.nih.gov/rest/content/2023AB/CUI/C0341561\",\"name\":\"Disorder of gastrointestinal anastomosis\"},{\"ui\":\"C0238198\",\"rootSource\":\"MTH\",\"uri\":\"https://uts-ws.nlm.nih.gov/rest/content/2023AB/CUI/C0238198\",\"name\":\"Gastrointestinal Stromal Tumors\"}],\"recCount\":177}}'"
      ]
     },
     "execution_count": 24,
     "metadata": {},
     "output_type": "execute_result"
    }
   ],
   "source": [
    "resp_message"
   ]
  },
  {
   "cell_type": "code",
   "execution_count": null,
   "metadata": {},
   "outputs": [],
   "source": []
  }
 ],
 "metadata": {
  "kernelspec": {
   "display_name": "Python 3",
   "language": "python",
   "name": "python3"
  },
  "language_info": {
   "codemirror_mode": {
    "name": "ipython",
    "version": 3
   },
   "file_extension": ".py",
   "mimetype": "text/x-python",
   "name": "python",
   "nbconvert_exporter": "python",
   "pygments_lexer": "ipython3",
   "version": "3.10.12"
  }
 },
 "nbformat": 4,
 "nbformat_minor": 2
}
