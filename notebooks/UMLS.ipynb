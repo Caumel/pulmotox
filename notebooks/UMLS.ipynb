{
 "cells": [
  {
   "cell_type": "code",
   "execution_count": 67,
   "metadata": {},
   "outputs": [],
   "source": [
    "import sys\n",
    "import os\n",
    "sys.path.append('../')\n",
    "os.chdir('../')\n",
    "\n",
    "import pandas as pd\n",
    "import numpy as np\n",
    "import shutil\n",
    "from pathlib import Path\n",
    "from datetime import datetime\n",
    "import time\n",
    "import threading\n",
    "import json\n",
    "import requests\n",
    "import threading\n",
    "import re\n",
    "from src import utils  \n",
    "\n",
    "# from src.umls import umls_api as umlsAPI\n"
   ]
  },
  {
   "cell_type": "code",
   "execution_count": 68,
   "metadata": {},
   "outputs": [],
   "source": [
    "umls_api_key = \"577c8f76-500d-4e94-9139-8a798bdbe78f\"\n",
    "umls_url = \"https://uts-ws.nlm.nih.gov/rest\"\n",
    "timeout_value = 10"
   ]
  },
  {
   "cell_type": "markdown",
   "metadata": {},
   "source": [
    "#### Peticion dado un texto, nos devuelve las concidencias."
   ]
  },
  {
   "cell_type": "code",
   "execution_count": 69,
   "metadata": {},
   "outputs": [],
   "source": [
    "class MyUmlsAPI:\n",
    "    # TODO:\n",
    "\n",
    "    \"\"\"API para UMLS.\n",
    "\n",
    "            Atributos\n",
    "            ----------\n",
    "\n",
    "            Constructor\n",
    "            ------------\n",
    "                MyUmlsAPI()\n",
    "\n",
    "            Métodos\n",
    "            -------\n",
    "                create_url: \n",
    "                request_text_umls:\n",
    "    \"\"\"\n",
    "\n",
    "    def __init__(self):\n",
    "        pass\n",
    "\n",
    "    def create_url(self,kind,list_var={}):\n",
    "\n",
    "        \"\"\"Dado el tipo de url, crea el link para realizar la peticion.\n",
    "\n",
    "            Parametros\n",
    "            ----------\n",
    "                kind: String\n",
    "                    Tipo de petición a realizar en la API. Ex: Eutirox\n",
    "\n",
    "            Retorna\n",
    "            -------\n",
    "                url: String\n",
    "                    Url para realizar la peticion, Ex: https://uts-ws.nlm.nih.gov/rest/search/current?string=dermatitis alérgica&sabs=MDRSPA,SCTSPA,MSHSPA&returnIdType=code&apiKey=<key>&pageNumber=1&searchType=exact\n",
    "\n",
    "        \"\"\"\n",
    "\n",
    "        url = umls_url + kind\n",
    "\n",
    "        for index, (key, value) in enumerate(list_var.items()):\n",
    "            if isinstance(value,int):\n",
    "                url += \"&\" + key + \"=\" + str(value)\n",
    "            elif isinstance(value,str):\n",
    "                url += \"&\" + key + \"=\" + value\n",
    "\n",
    "        return url\n",
    "\n",
    "    def request_text_umls(self,text):\n",
    "        \"\"\"Devuelve las coincidencias con el texto proporcionado para encontrar reacciones adversas.\n",
    "\n",
    "            Parametros\n",
    "            ----------\n",
    "                text: String\n",
    "                    Texto a buscar en el tesaurio. Ex: Eutirox\n",
    "\n",
    "            Retorna\n",
    "            -------\n",
    "                text: json\n",
    "                    Contiene las coincidencias encontradas que coincide con el texto proporcionado.\n",
    "\n",
    "                resp_code: int\n",
    "                    Codigo de respuesta de nuestra consulta. Ex: 200\n",
    "        \"\"\"\n",
    "\n",
    "        join_path = \"/search/current?\"\n",
    "\n",
    "        dic_var = {\n",
    "            \"string\": text,\n",
    "            \"sabs\": \"MDRSPA,SCTSPA,MSHSPA\",\n",
    "            \"returnIdType\": \"code\",\n",
    "            'pageNumber': 1,\n",
    "            \"searchType\": \"exact\",\n",
    "            \"apiKey\":umls_api_key\n",
    "        }\n",
    "\n",
    "        url = self.create_url(join_path,dic_var)\n",
    "\n",
    "        response = requests.get(url,timeout=timeout_value)\n",
    "        resp_code = response.status_code\n",
    "        resp_message = response.json()\n",
    "\n",
    "        return resp_message,resp_code"
   ]
  },
  {
   "cell_type": "code",
   "execution_count": 66,
   "metadata": {},
   "outputs": [],
   "source": [
    "umls = MyUmlsAPI()"
   ]
  },
  {
   "cell_type": "code",
   "execution_count": 70,
   "metadata": {},
   "outputs": [],
   "source": [
    "text = \"trastorno gastrointestinal\"\n",
    "resp_message, resp_code = umls.request_text_umls(text)"
   ]
  },
  {
   "cell_type": "code",
   "execution_count": 71,
   "metadata": {},
   "outputs": [
    {
     "data": {
      "text/plain": [
       "200"
      ]
     },
     "execution_count": 71,
     "metadata": {},
     "output_type": "execute_result"
    }
   ],
   "source": [
    "resp_code"
   ]
  },
  {
   "cell_type": "code",
   "execution_count": 72,
   "metadata": {},
   "outputs": [
    {
     "data": {
      "text/plain": [
       "{'pageSize': 25,\n",
       " 'pageNumber': 1,\n",
       " 'result': {'classType': 'searchResults',\n",
       "  'results': [{'ui': '10017944',\n",
       "    'rootSource': 'MDRSPA',\n",
       "    'uri': 'https://uts-ws.nlm.nih.gov/rest/content/2023AB/source/MDRSPA/10017944',\n",
       "    'name': 'Trastorno gastrointestinal'},\n",
       "   {'ui': '10013225',\n",
       "    'rootSource': 'MDRSPA',\n",
       "    'uri': 'https://uts-ws.nlm.nih.gov/rest/content/2023AB/source/MDRSPA/10013225',\n",
       "    'name': 'Trastorno gastrointestinal'}],\n",
       "  'recCount': 2}}"
      ]
     },
     "execution_count": 72,
     "metadata": {},
     "output_type": "execute_result"
    }
   ],
   "source": [
    "resp_message"
   ]
  },
  {
   "cell_type": "markdown",
   "metadata": {},
   "source": [
    "Ejemplo de respuesta"
   ]
  },
  {
   "cell_type": "markdown",
   "metadata": {},
   "source": [
    "#### Tesaurios de los que sacamos informacion."
   ]
  },
  {
   "cell_type": "markdown",
   "metadata": {},
   "source": [
    "- CPTSP\t                CPT Spanish\t                                    2001AC\tSPA\t3\n",
    "- ICPCSPA\t            ICPC Spanish\t                                2000AA\tSPA\t0\n",
    "- LNC-ES-ES\t            LOINC Linguistic Variant - Spanish, Spain\t    2023AB\tSPA\t0\n",
    "- MDRSPA\t            MedDRA Spanish\t                                2023AB\tSPA\t3\n",
    "- MEDLINEPLUS_SPA\t    MedlinePlus Spanish Health Topics\t            2023AA\tSPA\t0\n",
    "- MSHSPA\t            MeSH Spanish\t                                2023AA\tSPA\t3\n",
    "- SCTSPA\t            SNOMED CT Spanish Edition\t                    2023AB\tSPA\t9\n",
    "- WHOSPA\t            WHOART Spanish\t                                1999AA\tSPA\t2\n",
    "\n",
    "[Lincencias](https://uts.nlm.nih.gov/uts/license/license-category-help.html?_gl=1*1p2hsly*_ga*OTc0MzYyODE0LjE3MDE2NTg3NjY.*_ga_7147EPK006*MTcwMjI1MDkwNC4xMC4xLjE3MDIyNTU5MTcuMC4wLjA.*_ga_P1FPTH9PL4*MTcwMjI1MDkwNC4xMC4xLjE3MDIyNTU5MTcuMC4wLjA.)\n",
    "\n",
    "- LNC-ES-AR\t            LOINC Linguistic Variant - Spanish, Argentina\t2023AB\tSPA\t0\n",
    "- LNC-ES-MX\t            LOINC Linguistic Variant - Spanish, Mexico\t    2023AB\tSPA\t0\n"
   ]
  },
  {
   "cell_type": "markdown",
   "metadata": {},
   "source": [
    "MDRSPA,SCTSPA,MSHSPA,CPTSP,ICPCSPA,LNC-ES-ES,MEDLINEPLUS_SPA,WHOSPA\n",
    "\n",
    "MDRSPA,SCTSPA, son las que cuentan con mas informacion, podemos añadir MSHSPA"
   ]
  },
  {
   "cell_type": "markdown",
   "metadata": {},
   "source": [
    "#### Texto limpio para su analisis."
   ]
  },
  {
   "cell_type": "code",
   "execution_count": 58,
   "metadata": {},
   "outputs": [],
   "source": [
    "texto_analizar = [\n",
    "    ['disulfiram', 'ser', 'mismo', 'sustancia', 'relativamente', 'tóxico', 'observar', 'escaso', 'efecto', 'secundario', 'administrar', 'sólo', 'dosis', 'terapéutico', 'animal', 'ser', 'humano'],\n",
    "    ['efecto', 'secundario', 'reacción', 'disulfiramalcohol', 'haber', 'describir', 'sección'],\n",
    "    ['mayoría', 'reacción', 'disulfiram', 'ser', 'autolimitada', 'representar', 'riesgo', 'vital', 'paciente'],\n",
    "    ['número', 'reducido', 'paciente', 'poder', 'experimentar', 'adormecer', 'leve', 'transitorio', 'fatigo', 'impotencia', 'cefalea', 'erupción', 'acneiform', 'dermatitis', 'alérgico', 'sabor', 'metálico', 'ajo', 'dos', 'primero', 'semana', 'tratamiento', 'síntoma', 'soler', 'desaparecer', 'espontáneamente', 'continuación', 'tratamiento', 'reducción', 'posología'],\n",
    "    ['reacción', 'adverso', 'ordenado', 'según', 'frecuencia', 'aparición'],\n",
    "    ['trastorno', 'psiquiátrico'],\n",
    "    ['rara', 'episodio', 'psicótico', 'incluir', 'paranoia', 'esquizofrenia'],\n",
    "    ['frecuente', 'depresión', 'manir'],\n",
    "    ['trastorno', 'sistema', 'nervioso'],\n",
    "    ['frecuente', 'somnolencia', 'cefalear', 'neuritis', 'periférico', 'neuritis', 'óptico', 'polineuritis'],\n",
    "    ['frecuente', 'fatiga', 'reacción', 'distónica'],\n",
    "    ['rara', 'cambio', 'humor', 'crisis', 'convulsiva', 'confusión'],\n",
    "    ['trastorno', 'ocular'],\n",
    "    ['rara', 'cambio', 'visión'],\n",
    "    ['frecuencia', 'conocido', 'poder', 'estimar', 'partir', 'dato', 'disponible', 'edema', 'papilarceguero'],\n",
    "    ['trastorno', 'gastrointestinal'],\n",
    "    ['frecuente', 'nausea', 'vómito', 'diarreo'],\n",
    "    ['trastorno', 'hepatobiliar'],\n",
    "    ['frecuente', 'alteración', 'determinación', 'función', 'hepático', 'aumento', 'transaminasa', 'bilirrubina'],\n",
    "    ['rara', 'hepatitis', 'hepatotoxicidad', 'daño', 'hepatocelular', 'hepatitis', 'fulminante', 'necrosis', 'hepático', 'poder', 'originar', 'fallo', 'hepático', 'coma', 'hepático', 'muertir', 'efecto', 'sistema', 'hepatobiliar', 'generalmente', 'aparecer', 'primero', 'mes', 'tratamiento'],\n",
    "    ['trastorno', 'piel', 'tejido', 'subcutáneo'],\n",
    "    ['frecuente', 'dermatitis', 'alérgico'],\n",
    "    ['rara', 'coloración', 'amarillentar', 'piel'],\n",
    "    ['frecuencia', 'conocido', 'poder', 'estimar', 'partir', 'dato', 'disponible', 'erupción', 'acneiform', 'haber', 'describir', 'caso', 'fototoxicidad'],\n",
    "    ['trastorno', 'aparato', 'reproductor', 'mama'],\n",
    "    ['rara', 'reducción', 'líbido'],\n",
    "    ['frecuencia', 'conocido', 'poder', 'estimar', 'partir', 'dato', 'disponible', 'disfunción', 'eréctil'],\n",
    "    ['trastorno', 'congénito'],\n",
    "    ['frecuencia', 'conocido', 'poder', 'estimar', 'partir', 'dato', 'disponible', 'haber', 'describir', 'alguno', 'caso', 'malformación', 'congénita', 'tratamiento', 'disulfiram'],\n",
    "    ['trastorno', 'metabolismo'],\n",
    "    ['frecuencia', 'conocido', 'poder', 'estimar', 'partir', 'dato', 'disponible', 'elevación', 'colesterol'],\n",
    "    ['trastorno', 'cardíaco'],\n",
    "    ['frecuencia', 'conocido', 'poder', 'estimar', 'partir', 'dato', 'disponible', 'taquicardia', 'cambio', 'ecg', 'asociado'],\n",
    "    ['trastorno', 'vascular'],\n",
    "    ['frecuencia', 'conocido', 'poder', 'estimar', 'partir', 'dato', 'disponible', 'hipertensión', 'arterial'],\n",
    "    ['trastorno', 'general'],\n",
    "    ['frecuente', 'adormecimiento', 'fatigar', 'malestar', 'general', 'halitosis', 'dolor', 'abdominal', 'pérdida', 'gusto', 'sabor', 'metálico', 'ajo'],\n",
    "    ['paciente', 'sometido', 'mantenimiento', 'disulfiram', 'mgdía', 'tender', 'desarrollar', 'neuropatía', 'periférico', 'neuropatía', 'mejora', 'retirar', 'tratamiento', 'disulfiram'],\n",
    "    ['regla', 'general', 'erupción', 'cutánea', 'ocasional', 'controlar', 'fácilmente', 'mediante', 'administración', 'simultáneo', 'antihistamínico'],\n",
    "    ['notificación', 'sospecha', 'reacción', 'adverso'],\n",
    "    ['ser', 'importante', 'notificar', 'sospecha', 'reacción', 'adverso', 'medicamento', 'tras', 'autorización', 'permitir', 'supervisión', 'continuado', 'relación', 'beneficioriesgo', 'medicamento', 'invitar', 'profesional', 'sanitario', 'notificar', 'sospecha', 'reacción', 'adverso', 'través', 'sistema', 'español', 'farmacovigilancia', 'medicamento', 'uso', 'humano', 'websiwwwnotificarames'],\n",
    "]"
   ]
  },
  {
   "cell_type": "code",
   "execution_count": 59,
   "metadata": {},
   "outputs": [],
   "source": [
    "pairs = utils.get_pairs(texto_analizar)"
   ]
  },
  {
   "cell_type": "code",
   "execution_count": null,
   "metadata": {},
   "outputs": [],
   "source": [
    "reacciones_adversas = []\n",
    "for pair in pairs:\n",
    "    text = pair[0] + \" \" + pair[1]\n",
    "    response, code =  umls.request_text_umls(text)\n",
    "    # print(response[\"result\"][\"results\"])\n",
    "    if response[\"result\"][\"results\"] is not None:\n",
    "        for index,element in enumerate(response[\"result\"][\"results\"]):\n",
    "            # print(element[\"name\"])\n",
    "            reacciones_adversas.append(element[\"name\"])\n",
    "    else:\n",
    "        continue\n",
    "        # print(\"Not element found\")"
   ]
  },
  {
   "cell_type": "code",
   "execution_count": 64,
   "metadata": {},
   "outputs": [
    {
     "data": {
      "text/plain": [
       "['Humanos',\n",
       " 'sabor metálico',\n",
       " 'Trastornos del Gusto',\n",
       " 'Sabor metálico',\n",
       " 'Episodio psicótico',\n",
       " 'estructura del sistema nervioso',\n",
       " 'Sistema Nervioso',\n",
       " 'Reacción distónica',\n",
       " 'Crisis convulsiva',\n",
       " 'Trastorno gastrointestinal',\n",
       " 'Trastorno gastrointestinal',\n",
       " 'daño hepatocelular',\n",
       " 'hepatitis fulminante',\n",
       " 'Necrosis Hepática Masiva',\n",
       " 'Hepatitis fulminante',\n",
       " 'Fallo Hepático',\n",
       " 'Fallo hepático',\n",
       " 'coma hepático',\n",
       " 'Coma hepático',\n",
       " 'Coma hepático',\n",
       " 'estructura del tejido celular subcutáneo',\n",
       " 'Tejido Subcutáneo',\n",
       " 'estructura anatómica del aparato reproductor',\n",
       " 'disfunción eréctil',\n",
       " 'Disfunción Eréctil',\n",
       " 'Disfunción eréctil',\n",
       " 'malformación congénita',\n",
       " 'Trastorno vascular',\n",
       " 'Trastorno vascular',\n",
       " 'hipertensión arterial',\n",
       " 'Hipertensión arterial',\n",
       " 'Hipertensión arterial',\n",
       " 'malestar general',\n",
       " 'Malestar general',\n",
       " 'dolor abdominal',\n",
       " 'Dolor Abdominal',\n",
       " 'Dolor abdominal',\n",
       " 'Dolor abdominal',\n",
       " 'sabor metálico',\n",
       " 'Trastornos del Gusto',\n",
       " 'Sabor metálico',\n",
       " 'erupción cutánea',\n",
       " 'Exantema',\n",
       " 'Erupción cutánea',\n",
       " 'Erupción cutánea']"
      ]
     },
     "execution_count": 64,
     "metadata": {},
     "output_type": "execute_result"
    }
   ],
   "source": [
    "reacciones_adversas"
   ]
  },
  {
   "cell_type": "markdown",
   "metadata": {},
   "source": [
    "#### Eliminamos duplicados al realizar la request a diferences tesaurios."
   ]
  },
  {
   "cell_type": "code",
   "execution_count": 73,
   "metadata": {},
   "outputs": [
    {
     "data": {
      "text/plain": [
       "['malformación congénita',\n",
       " 'trastorno vascular',\n",
       " 'fallo hepático',\n",
       " 'exantema',\n",
       " 'malestar general',\n",
       " 'sistema nervioso',\n",
       " 'trastornos del gusto',\n",
       " 'hepatitis fulminante',\n",
       " 'hipertensión arterial',\n",
       " 'humanos',\n",
       " 'necrosis hepática masiva',\n",
       " 'estructura del tejido celular subcutáneo',\n",
       " 'daño hepatocelular',\n",
       " 'trastorno gastrointestinal',\n",
       " 'crisis convulsiva',\n",
       " 'tejido subcutáneo',\n",
       " 'erupción cutánea',\n",
       " 'episodio psicótico',\n",
       " 'estructura anatómica del aparato reproductor',\n",
       " 'reacción distónica',\n",
       " 'disfunción eréctil',\n",
       " 'dolor abdominal',\n",
       " 'estructura del sistema nervioso',\n",
       " 'sabor metálico',\n",
       " 'coma hepático']"
      ]
     },
     "execution_count": 73,
     "metadata": {},
     "output_type": "execute_result"
    }
   ],
   "source": [
    "lista_sin_duplicados = utils.remove_duplicated(reacciones_adversas)\n",
    "\n",
    "lista_sin_duplicados"
   ]
  },
  {
   "cell_type": "code",
   "execution_count": null,
   "metadata": {},
   "outputs": [],
   "source": []
  }
 ],
 "metadata": {
  "kernelspec": {
   "display_name": "Python 3",
   "language": "python",
   "name": "python3"
  },
  "language_info": {
   "codemirror_mode": {
    "name": "ipython",
    "version": 3
   },
   "file_extension": ".py",
   "mimetype": "text/x-python",
   "name": "python",
   "nbconvert_exporter": "python",
   "pygments_lexer": "ipython3",
   "version": "3.10.12"
  }
 },
 "nbformat": 4,
 "nbformat_minor": 2
}
